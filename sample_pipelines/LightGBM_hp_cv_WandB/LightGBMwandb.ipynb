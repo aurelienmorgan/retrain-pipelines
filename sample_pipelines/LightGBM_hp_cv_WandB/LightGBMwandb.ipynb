{
 "cells": [
  {
   "cell_type": "markdown",
   "id": "70d4967f-1827-429b-b0bc-0ad9d42e3de8",
   "metadata": {},
   "source": [
    "<div style='background-color: rgba(0, 255, 255, 0.04); border: 1px solid rgba(0, 255, 255, .2);'>\n",
    "<div style='text-align: justify; margin-left: 5px; margin-right: 5px;'>\n",
    "<div style=\"float: left; border-right: 5px solid transparent;\">\n",
    "<table border=\"0\" width=\"350px;\" style=\"background-color: #f5f5f5; float: left;\">\n",
    "    <tr>\n",
    "        <td colspan=2>\n",
    "            <img alt=\"retrain-pipelines\" src=\"https://github.com/user-attachments/assets/19725866-13f9-48c1-b958-35c2e014351a\" />\n",
    "        </td>\n",
    "    </tr>\n",
    "    <tr>\n",
    "        <td colspan=2>\n",
    "            <img alt=\"Metaflow\" width=\"250px\" src=\"https://github.com/user-attachments/assets/ecc20501-869d-4159-b5a0-eb0a117520e5\" />\n",
    "        </td>\n",
    "    </tr>\n",
    "    <tr>\n",
    "        <td style=\"vertical-align: center;\">Dask</td>\n",
    "        <td> \n",
    "            <img alt=\"Dask\" width=\"50px\" src=\"https://github.com/user-attachments/assets/a94807e7-cc67-4415-9a9e-da1ed4755cb1\" />\n",
    "        </td>\n",
    "    </tr>\n",
    "    <tr>\n",
    "        <td style=\"vertical-align: center;\">LightGBM</td>\n",
    "        <td> \n",
    "            <img alt=\"LightGBM\" width=\"30px\" src=\"https://github.com/user-attachments/assets/92ac0b53-17f8-470d-9c73-619657db42bd\" />\n",
    "        </td>\n",
    "    </tr>\n",
    "    <tr>\n",
    "        <td style=\"vertical-align: center;\">ML server</td>\n",
    "        <td> \n",
    "            <img alt=\"ML server\" width=\"50px\" src=\"https://github.com/user-attachments/assets/69c57bce-cd38-4f8c-8730-e5171e842d13\" />\n",
    "        </td>\n",
    "    </tr>\n",
    "</table></div>\n",
    "<br />\n",
    "Welcome to this introductory notebook for the <code>LightGbmHpCvWandbFlow</code> sample pipeline from the <b>retrain-pipeloines</b> library.<br />\n",
    "This sample retraining pipeline covers the tabular data regression use case. More specifically, it employ data-parallelism with <a href=\"https://www.dask.org/\" target=\"_blank\">Dask</a> and a <a href=\"https://lightgbm.readthedocs.io/en/stable/\" target=\"_blank\">LightGBM</a> model.<br />\n",
    "The infrastructure validation (the ability of newly-retrained model versions to accept and respond to inference requests) relies here on <a href=\"https://www.seldon.io/solutions/seldon-mlserver\" target=\"_blank\">ML Server</a> where we pack the fitted inference pipeline and put it to the test.\n",
    "<br clear=\"left\" />\n",
    "</div>\n",
    "</div>"
   ]
  },
  {
   "cell_type": "markdown",
   "id": "88afc47b",
   "metadata": {},
   "source": [
    "<div style='background-color: rgba(0, 255, 255, 0.04); border: 1px solid rgba(0, 255, 255, .2);'>\n",
    "<div style='text-align: justify; margin-left: 5px; margin-right: 5px;'>\n",
    "The herein notebook is here in support of the <code>LightGbmHpCvWandbFlow</code> sample pipeline from the <b>retrain-pipeloines</b> library. It is your step-by-step assistant to guide you into mastering it all super fast.<br />\n",
    "<br />\n",
    "From here, you can&nbsp;:\n",
    "<ul>\n",
    "    <li>\n",
    "        Execute a <b>retrain-pipelines</b> run&nbsp;:\n",
    "        <ul>\n",
    "            <li>\n",
    "                generate synthetic dataset if you need some to quickstart\n",
    "            </li>\n",
    "            <li>\n",
    "                set an hyperparameter search space\n",
    "            </li>\n",
    "            <li>\n",
    "                launch a <b>retrain-pipeline</b> run\n",
    "            </li>\n",
    "            <li>\n",
    "                even start customizing default <code>preprocessing</code> and <code>pipeline_card</code> if you feel like it&nbsp;!\n",
    "            </li>\n",
    "        </ul>\n",
    "    </li>\n",
    "    <li>\n",
    "        do some after-the-fact investigation thanks to the collection of <code>inspectors</code> offered by the <b>retrain-pipelines</b> library\n",
    "    </li>\n",
    "</ul>\n",
    "<br />\n",
    "<p style=\"text-align: justify; color: darkgray;\">\n",
    "<u>REMARK</u>&nbsp;: if you've not done so already, go check <a href=\"https://github.com/aurelienmorgan/retrain-pipelines/tree/master/extra/frameworks\" target=\"_blank\">this section</a> for a Local <em>Metaflow</em> installation. This comes handy for quick prototyping and testing.\n",
    "</p>\n",
    "</div>\n",
    "</div>"
   ]
  },
  {
   "cell_type": "markdown",
   "id": "204316c2",
   "metadata": {},
   "source": [
    "<font size=\"6em\"><b>Table of Contents</b></font>\n",
    "\n",
    "- [setup](#setup)\n",
    "- [Generate data](#Generate-data)\n",
    "- [Metaflow Run](#Metaflow-Run)\n",
    "  - [HP tuning search space](#HP-tuning-search-space)\n",
    "  - [Run flow](#Run-flow)\n",
    "    - [Use the as-is sample pipeline](#Use-the-as-is-sample-pipeline)\n",
    "    - [Customize you retraining pipeline](#Customize-you-retraining-pipeline)\n",
    "- [Inspectors](#Inspectors)\n",
    "  - [local Metaflow SDK](#local-Metaflow-SDK)\n",
    "  - [local custom card explorer](#local-custom-card-explorer)\n",
    "  - [WandB](#WandB)\n",
    "  - [hp_cv_inspector](#hp_cv_inspector)\n",
    "- [Congratulations&nbsp;!](#Congratulationsnbsp)"
   ]
  },
  {
   "cell_type": "markdown",
   "id": "29a986f6-e8a7-486f-b6e9-da310d0253f5",
   "metadata": {},
   "source": [
    "<hr />"
   ]
  },
  {
   "cell_type": "markdown",
   "id": "ed6f4ed6",
   "metadata": {},
   "source": [
    "# setup"
   ]
  },
  {
   "cell_type": "code",
   "execution_count": null,
   "id": "c1f28548",
   "metadata": {},
   "outputs": [],
   "source": [
    "# !pip install -r requirements.txt"
   ]
  },
  {
   "cell_type": "code",
   "execution_count": null,
   "id": "65ba25ef",
   "metadata": {},
   "outputs": [],
   "source": [
    "# !pip install retrain-pipelines"
   ]
  },
  {
   "cell_type": "code",
   "execution_count": null,
   "id": "0d2e02fe",
   "metadata": {},
   "outputs": [],
   "source": [
    "%reload_ext autoreload\n",
    "%autoreload 2\n",
    "\n",
    "import os, json\n",
    "\n",
    "# WandB API key\n",
    "from dotenv import load_dotenv\n",
    "load_dotenv(\"../.env\")"
   ]
  },
  {
   "cell_type": "markdown",
   "id": "3e8c9560",
   "metadata": {},
   "source": [
    "<hr />"
   ]
  },
  {
   "cell_type": "markdown",
   "id": "745d17af",
   "metadata": {
    "heading_collapsed": true,
    "jp-MarkdownHeadingCollapsed": true,
    "tags": []
   },
   "source": [
    "# Generate data"
   ]
  },
  {
   "cell_type": "code",
   "execution_count": null,
   "id": "31e65c09",
   "metadata": {
    "hidden": true,
    "scrolled": true
   },
   "outputs": [],
   "source": [
    "from retrain_pipelines.dataset import DatasetType, pseudo_random_generate\n",
    "\n",
    "num_samples = 10_000 # 30 # 500 # 1_500 # \n",
    "data = pseudo_random_generate(DatasetType.TABULAR_REGRESSION, num_samples)\n",
    "print(data.head())\n",
    "# save to file\n",
    "data.to_csv(os.path.realpath(os.path.join('..', 'data', 'synthetic_classif_tab_data_continuous.csv')), index=False)"
   ]
  },
  {
   "cell_type": "markdown",
   "id": "35e2cec6",
   "metadata": {
    "hidden": true
   },
   "source": [
    "<hr />"
   ]
  },
  {
   "cell_type": "markdown",
   "id": "e03d0774",
   "metadata": {},
   "source": [
    "# Metaflow Run"
   ]
  },
  {
   "cell_type": "markdown",
   "id": "6f881c54",
   "metadata": {},
   "source": [
    "## HP tuning search space"
   ]
  },
  {
   "cell_type": "markdown",
   "id": "81dbb72e",
   "metadata": {},
   "source": [
    "Chosse which domain shall be considered for the HP tuning grid search&nbsp;:"
   ]
  },
  {
   "cell_type": "code",
   "execution_count": null,
   "id": "0fd37089-ccf4-4246-a4f9-8d6e2e9990ad",
   "metadata": {},
   "outputs": [],
   "source": [
    "pipeline_hp_grid = {\n",
    "    \"boosting_type\": [\"gbdt\"],\n",
    "    \"num_leaves\": [10],\n",
    "    \"learning_rate\": [0.01],\n",
    "    \"n_estimators\": [2],\n",
    "}\n",
    "os.environ['pipeline_hp_grid'] = str(json.dumps(pipeline_hp_grid)).replace(\"\\n\", \"\")\n",
    "print(os.environ['pipeline_hp_grid'])"
   ]
  },
  {
   "cell_type": "code",
   "execution_count": null,
   "id": "4cc42115",
   "metadata": {},
   "outputs": [],
   "source": [
    "import itertools\n",
    "\n",
    "pipeline_hp_grid = {\n",
    "    \"boosting_type\": [\"gbdt\"],\n",
    "    \"num_leaves\": [75, 100, 125],\n",
    "    \"learning_rate\": [0.01],\n",
    "    \"n_estimators\": [150, 200],\n",
    "    \"lambda_l1\": [0, 0.05],\n",
    "    \"lambda_l2\": [0.1, 0.2, 0.3],\n",
    "    \"bagging_fraction\": [1, 0.95],\n",
    "}\n",
    "os.environ['pipeline_hp_grid'] = str(json.dumps(pipeline_hp_grid))\n",
    "print(os.environ['pipeline_hp_grid'])\n",
    "combinatons_count = \\\n",
    "    len([dict(zip(pipeline_hp_grid.keys(), v))\n",
    "         for v in itertools.product(*pipeline_hp_grid.values())])\n",
    "print(f\"{combinatons_count} sets of hyperparameter values\")"
   ]
  },
  {
   "cell_type": "markdown",
   "id": "9878d0dc",
   "metadata": {
    "collapsed": true,
    "jupyter": {
     "outputs_hidden": true
    },
    "tags": []
   },
   "source": [
    "## Run flow"
   ]
  },
  {
   "cell_type": "markdown",
   "id": "414cfe88",
   "metadata": {},
   "source": [
    "### Use the as-is sample pipeline"
   ]
  },
  {
   "cell_type": "markdown",
   "id": "9f5a366d",
   "metadata": {},
   "source": [
    "Load the cell-magic&nbsp;:"
   ]
  },
  {
   "cell_type": "code",
   "execution_count": null,
   "id": "bcf0a300-9fd7-4e1d-850f-84638a412af8",
   "metadata": {},
   "outputs": [],
   "source": [
    "%load_ext retrain_pipelines.local_launcher_magic"
   ]
  },
  {
   "cell_type": "markdown",
   "id": "9bb0db01",
   "metadata": {},
   "source": [
    "Take a look at the help for the retraining pipeline&nbsp;:"
   ]
  },
  {
   "cell_type": "code",
   "execution_count": null,
   "id": "55e7fe9c-b1fd-4e2c-943f-2bf08566af78",
   "metadata": {},
   "outputs": [],
   "source": [
    "%retrain_pipelines_local retraining_pipeline.py run --help"
   ]
  },
  {
   "cell_type": "markdown",
   "id": "c99486a7",
   "metadata": {},
   "source": [
    "You can launch a <b>retrain-pipelines</b> run &nbsp;:"
   ]
  },
  {
   "cell_type": "code",
   "execution_count": null,
   "id": "3e48fc2f",
   "metadata": {
    "scrolled": true
   },
   "outputs": [],
   "source": [
    "%retrain_pipelines_local retraining_pipeline.py run \\\n",
    "    --data_file \"../data/synthetic_classif_tab_data_continuous.csv\" \\\n",
    "    --buckets_param '{\"num_feature1\": 100, \"num_feature2\": 50}' \\\n",
    "    --pipeline_hp_grid \"{pipeline_hp_grid}\" \\\n",
    "    --cv_folds 2 \\\n",
    "    --max-workers 4 \\\n",
    "    --dask_partitions 4 \\\n",
    "    --wandb_run_mode offline"
   ]
  },
  {
   "cell_type": "markdown",
   "id": "52b193dd",
   "metadata": {},
   "source": [
    "You can also resume a prior run from the step of your choosing&nbsp;:"
   ]
  },
  {
   "cell_type": "code",
   "execution_count": null,
   "id": "b65ae8d0-067b-482b-af2c-27a0e39f66eb",
   "metadata": {
    "scrolled": true
   },
   "outputs": [],
   "source": [
    "%retrain_pipelines_local retraining_pipeline.py resume pipeline_card"
   ]
  },
  {
   "cell_type": "markdown",
   "id": "22a9c4f4",
   "metadata": {
    "heading_collapsed": true
   },
   "source": [
    "### Customize you retraining pipeline"
   ]
  },
  {
   "cell_type": "markdown",
   "id": "80782455",
   "metadata": {
    "hidden": true
   },
   "source": [
    "Start by getting the default which you'd like to customize (any combinaison of the below 3 you'd like)&nbsp;:\n",
    "<ul>\n",
    "    <li><code>reprocessing.py</code> module</li>\n",
    "    <li><code>pipeline_card.py</code> module</li>\n",
    "    <li><code>template.html</code> html template</li>\n",
    "</ul>"
   ]
  },
  {
   "cell_type": "code",
   "execution_count": null,
   "id": "80e08cb9",
   "metadata": {
    "hidden": true
   },
   "outputs": [],
   "source": [
    "from retraining_pipeline import LightGbmHpCvWandbFlow\n",
    "\n",
    "LightGbmHpCvWandbFlow.copy_default_preprocess_module(\".\", exists_ok=True)\n",
    "LightGbmHpCvWandbFlow.copy_default_pipeline_card_module(\".\", exists_ok=True)\n",
    "LightGbmHpCvWandbFlow.copy_default_pipeline_card_html_template(\".\", exists_ok=True)"
   ]
  },
  {
   "cell_type": "markdown",
   "id": "0c9f6039",
   "metadata": {
    "hidden": true
   },
   "source": [
    "Once you updated any of them, you can launch a <b>retrain-pipelines</b> run so it uses those&nbsp;:"
   ]
  },
  {
   "cell_type": "code",
   "execution_count": null,
   "id": "33e008ba",
   "metadata": {
    "hidden": true
   },
   "outputs": [],
   "source": [
    "%retrain_pipelines_local retraining_pipeline.py run \\\n",
    "    --data_file \"../data/synthetic_classif_tab_data_continuous.csv\" \\\n",
    "    --buckets_param '{\"num_feature1\": 100, \"num_feature2\": 50}' \\\n",
    "    --pipeline_hp_grid \"${pipeline_hp_grid}\" \\\n",
    "    --cv_folds 2 \\\n",
    "    --max-workers 4 \\\n",
    "    --dask_partitions 4 \\\n",
    "    --pipeline_card_artifacts_path \".\" \\\n",
    "    --preprocess_artifacts_path \".\" \\\n",
    "    --wandb_run_mode disabled"
   ]
  },
  {
   "cell_type": "markdown",
   "id": "00373391-151a-4ff4-a48c-bff0f8151d82",
   "metadata": {},
   "source": [
    "# Inspectors"
   ]
  },
  {
   "cell_type": "markdown",
   "id": "ba547a71",
   "metadata": {},
   "source": [
    "The <b>retrain-pipelines Inspectors</b> are a set of convenience methods to observe past runs <em>after-the-fact</em>. They're here to ease the discovery of some important facts which, for the sake of consicion, were not included in the <code>pipeline-card</code> generated for that run.<br />\n",
    "If fo any reason you'd like to dig deeper in a past run and investigate in details what happened, you can rely on the <b>retrain-pipelines Inspectors</b>&nbsp;!"
   ]
  },
  {
   "cell_type": "markdown",
   "id": "6744c5ca",
   "metadata": {},
   "source": [
    "<hr />"
   ]
  },
  {
   "cell_type": "markdown",
   "id": "b35ea890-102b-4892-8439-0ddb6a45ea4e",
   "metadata": {},
   "source": [
    "We can programatically interact with the Metaflow service using the `metaflow`python package. To connect the package with our self-hosted metaflow service, we simply need to set a couple environment variables before importing it&nbsp;:"
   ]
  },
  {
   "cell_type": "code",
   "execution_count": null,
   "id": "5c5652ac",
   "metadata": {},
   "outputs": [],
   "source": [
    "mf_flow_name = 'LightGbmHpCvWandbFlow'"
   ]
  },
  {
   "cell_type": "markdown",
   "id": "d1e3e5aa",
   "metadata": {
    "heading_collapsed": true
   },
   "source": [
    "## local Metaflow SDK"
   ]
  },
  {
   "cell_type": "markdown",
   "id": "25e08062",
   "metadata": {
    "hidden": true
   },
   "source": [
    "You can use the metaflow python package to navigate artifacts gennerated by a past <b>retrain-pipelines</b> run just as you would for any metaflow flow. To interact with your local metaflow instance though, you shall use the <code>local_metaflow</code> package as follows&nbsp;:"
   ]
  },
  {
   "cell_type": "code",
   "execution_count": null,
   "id": "53e99011-85e6-4b3b-b1e0-63e3268df29a",
   "metadata": {
    "hidden": true
   },
   "outputs": [],
   "source": [
    "from retrain_pipelines.frameworks import local_metaflow as metaflow"
   ]
  },
  {
   "cell_type": "markdown",
   "id": "8d85aded",
   "metadata": {
    "hidden": true
   },
   "source": [
    "And explore the content of any given set of flow artifacts, just specify the right <code>flow_id</code> and <code>task_id</code> for it below to for instance view details of the fitted One-Hot encoder&nbsp;:"
   ]
  },
  {
   "cell_type": "code",
   "execution_count": null,
   "id": "866b369e-47e8-466d-931e-b2319b489a5f",
   "metadata": {
    "hidden": true
   },
   "outputs": [],
   "source": [
    "metaflow.Task(\"LightGbmHpCvWandbFlow/988/preprocess_data/29959\",  attempt=0)['encoder'].data.__dict__"
   ]
  },
  {
   "cell_type": "markdown",
   "id": "73ecb108",
   "metadata": {
    "hidden": true
   },
   "source": [
    "Or you could go copy python commands straight from the dedicated <b>key artifacts</b> section from your <code>pipeline card</code>."
   ]
  },
  {
   "cell_type": "markdown",
   "id": "86212e0b",
   "metadata": {},
   "source": [
    "## local custom card explorer"
   ]
  },
  {
   "cell_type": "code",
   "execution_count": null,
   "id": "0a871e90",
   "metadata": {},
   "outputs": [],
   "source": [
    "from retrain_pipelines.inspectors import browse_local_pipeline_card"
   ]
  },
  {
   "cell_type": "code",
   "execution_count": null,
   "id": "a41e2fcf",
   "metadata": {},
   "outputs": [],
   "source": [
    "help(browse_local_pipeline_card)"
   ]
  },
  {
   "cell_type": "markdown",
   "id": "2ccc3bfe",
   "metadata": {},
   "source": [
    "You can open the <code>pipeline card</code> corresponding to the latest run by simply calling&nbsp;:"
   ]
  },
  {
   "cell_type": "code",
   "execution_count": null,
   "id": "0989dc6c-ff01-41d8-a0ba-c61562fa5d9e",
   "metadata": {},
   "outputs": [],
   "source": [
    "browse_local_pipeline_card(mf_flow_name)"
   ]
  },
  {
   "cell_type": "markdown",
   "id": "15e63ad7",
   "metadata": {},
   "source": [
    "<hr />"
   ]
  },
  {
   "cell_type": "markdown",
   "id": "ff23246b",
   "metadata": {
    "heading_collapsed": true
   },
   "source": [
    "## WandB"
   ]
  },
  {
   "cell_type": "markdown",
   "id": "fc92b29a",
   "metadata": {
    "hidden": true
   },
   "source": [
    "Make sure to have the `WANDB_API_KEY` environement variable set adequately.<br />\n",
    "It can be through a `secret`."
   ]
  },
  {
   "cell_type": "markdown",
   "id": "9bcda630",
   "metadata": {
    "hidden": true
   },
   "source": [
    "<b>programmatically browse the saved source-code</b>"
   ]
  },
  {
   "cell_type": "code",
   "execution_count": null,
   "id": "a17386cb",
   "metadata": {
    "hidden": true
   },
   "outputs": [],
   "source": [
    "from retrain_pipelines.inspectors import get_execution_source_code"
   ]
  },
  {
   "cell_type": "code",
   "execution_count": null,
   "id": "4c934630",
   "metadata": {
    "hidden": true
   },
   "outputs": [],
   "source": [
    "help(get_execution_source_code)"
   ]
  },
  {
   "cell_type": "code",
   "execution_count": null,
   "id": "a335048a-99c6-4441-a1d1-5ef79cfefb1c",
   "metadata": {
    "hidden": true
   },
   "outputs": [],
   "source": [
    "from retrain_pipelines.inspectors import get_execution_source_code\n",
    "\n",
    "for source_code_artifact in get_execution_source_code(mf_run_id=<your_flow_id>):\n",
    "    print(f\" - {source_code_artifact.name} {source_code_artifact.url}\")"
   ]
  },
  {
   "cell_type": "markdown",
   "id": "57e343bd",
   "metadata": {
    "hidden": true
   },
   "source": [
    "<b>The below command will download source-code artifacts for a given run and open a file explorer on the parent dir&nbsp;:</b>"
   ]
  },
  {
   "cell_type": "code",
   "execution_count": null,
   "id": "9f604104-a064-4e66-b5a9-fb0431cca489",
   "metadata": {
    "hidden": true
   },
   "outputs": [],
   "source": [
    "from retrain_pipelines.inspectors import explore_source_code\n",
    "# download and open file explorer\n",
    "explore_source_code(mf_run_id=<your_flow_id>)"
   ]
  },
  {
   "cell_type": "markdown",
   "id": "b9110300",
   "metadata": {
    "hidden": true
   },
   "source": [
    "<hr />"
   ]
  },
  {
   "cell_type": "markdown",
   "id": "69b55ff6-7aa8-4bca-a22b-42ee4c7970c4",
   "metadata": {
    "heading_collapsed": true
   },
   "source": [
    "## hp_cv_inspector"
   ]
  },
  {
   "cell_type": "markdown",
   "id": "fad706e0-f65c-4731-ba2e-537adc375f4b",
   "metadata": {
    "hidden": true
   },
   "source": [
    "The herein retraining pipeline relies on <em>Dask</em> for data-parallel training. Each Cross-Validation fold of each set of hyperparameter values is trained using a subset of the dataset, parallelized accross workers."
   ]
  },
  {
   "cell_type": "markdown",
   "id": "017ec172-ef2d-4a1e-8420-bccda2fb7001",
   "metadata": {
    "hidden": true
   },
   "source": [
    "Thanks to the <code>hp_cv_inspector</code>, we can look into pipeline runs from the perspective of detailed training logs of each individual Dask worker during hyperparameter tuning."
   ]
  },
  {
   "cell_type": "markdown",
   "id": "e0d64465-5314-4330-b0ab-892581ec40c9",
   "metadata": {
    "hidden": true
   },
   "source": [
    "First, focusing on the best-performing set of hyperparameters values&nbsp;:"
   ]
  },
  {
   "cell_type": "code",
   "execution_count": null,
   "id": "e88c7455-29db-4e8d-ad3b-995c7369b0d2",
   "metadata": {
    "hidden": true
   },
   "outputs": [],
   "source": [
    "from inspectors import plot_run_cv_history\n",
    "plot_run_cv_history(mf_run_id=<your_flow_id>, best_cv=True)"
   ]
  },
  {
   "cell_type": "markdown",
   "id": "7368575f-d179-4ae9-bf35-f155a6b7db6c",
   "metadata": {
    "hidden": true
   },
   "source": [
    "Now, looking at all sets of hyperparameter values evaluated&nbsp;:"
   ]
  },
  {
   "cell_type": "code",
   "execution_count": null,
   "id": "94bb5317-ba74-4321-b375-eb2d5df1ca2d",
   "metadata": {
    "hidden": true,
    "scrolled": true
   },
   "outputs": [],
   "source": [
    "from inspectors import plot_run_all_cv_tasks\n",
    "plot_run_all_cv_tasks(mf_run_id=<your_flow_id>)"
   ]
  },
  {
   "cell_type": "markdown",
   "id": "b035aa21",
   "metadata": {
    "hidden": true
   },
   "source": [
    "<hr />"
   ]
  },
  {
   "cell_type": "markdown",
   "id": "4095517f",
   "metadata": {},
   "source": [
    "# Congratulations&nbsp;!\n",
    "\n",
    "<br />\n",
    "<div style='background-color: rgba(0, 255, 255, 0.04); border: 1px solid rgba(0, 255, 255, .2);'>\n",
    "<div style='text-align: justify; margin-left: 5px; margin-right: 5px;'>\n",
    "You're now championing the <code>LightGbmHpCvWandbFlow</code> sample pipeline from the <b>retrain-pipeloines</b> library&nbsp;!\n",
    "</div>\n",
    "</div>"
   ]
  }
 ],
 "metadata": {
  "kernelspec": {
   "display_name": "Metaflow LightGBM",
   "language": "python",
   "name": "metaflow_lightgbm"
  },
  "language_info": {
   "codemirror_mode": {
    "name": "ipython",
    "version": 3
   },
   "file_extension": ".py",
   "mimetype": "text/x-python",
   "name": "python",
   "nbconvert_exporter": "python",
   "pygments_lexer": "ipython3",
   "version": "3.9.19"
  },
  "toc": {
   "base_numbering": "0",
   "nav_menu": {},
   "number_sections": true,
   "sideBar": false,
   "skip_h1_title": false,
   "title_cell": "Table of Contents",
   "title_sidebar": "Contents",
   "toc_cell": false,
   "toc_position": {
    "height": "238.875px",
    "left": "1538.98px",
    "top": "137.984px",
    "width": "211.922px"
   },
   "toc_section_display": true,
   "toc_window_display": true
  }
 },
 "nbformat": 4,
 "nbformat_minor": 5
}
