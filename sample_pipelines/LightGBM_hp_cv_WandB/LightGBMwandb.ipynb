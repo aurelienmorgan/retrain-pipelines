{
 "cells": [
  {
   "cell_type": "markdown",
   "id": "6a60629b-e6fb-4552-9c21-28a7ed195762",
   "metadata": {},
   "source": [
    "gives you tools to stear your investigations in the right direction whenever your automatice retraining pipeline looses capacity to deliver ever-better performing model versions."
   ]
  },
  {
   "cell_type": "markdown",
   "id": "81db793d-70f2-456d-8379-1864aa7f6d1c",
   "metadata": {},
   "source": [
    "some circumstances could legitimate to include preprocessing to hyperparam tuning (for instance, to dynamically evaluate different values for \"num_feature1/buckets_count\" )"
   ]
  },
  {
   "cell_type": "markdown",
   "id": "70d4967f-1827-429b-b0bc-0ad9d42e3de8",
   "metadata": {},
   "source": [
    "in some situations, model blessing can also be conditionnal on carateristics such as \"inference latency\"."
   ]
  },
  {
   "cell_type": "markdown",
   "id": "29a986f6-e8a7-486f-b6e9-da310d0253f5",
   "metadata": {},
   "source": [
    "<hr />"
   ]
  },
  {
   "cell_type": "markdown",
   "id": "ed6f4ed6",
   "metadata": {},
   "source": [
    "# setup"
   ]
  },
  {
   "cell_type": "code",
   "execution_count": null,
   "id": "0d2e02fe",
   "metadata": {},
   "outputs": [],
   "source": [
    "%reload_ext autoreload\n",
    "%autoreload 2"
   ]
  },
  {
   "cell_type": "code",
   "execution_count": null,
   "id": "f1b3bbc0-f115-4203-b6bc-7f3b5eca1f4f",
   "metadata": {},
   "outputs": [],
   "source": [
    "!which python"
   ]
  },
  {
   "cell_type": "code",
   "execution_count": null,
   "id": "c71e788b",
   "metadata": {},
   "outputs": [],
   "source": [
    "import os, sys, json, itertools"
   ]
  },
  {
   "cell_type": "code",
   "execution_count": null,
   "id": "e5ead674",
   "metadata": {},
   "outputs": [],
   "source": [
    "import pandas as pd\n",
    "import numpy as np"
   ]
  },
  {
   "cell_type": "code",
   "execution_count": null,
   "id": "b5c84267",
   "metadata": {
    "scrolled": true
   },
   "outputs": [],
   "source": [
    "# WandB API key\n",
    "from dotenv import load_dotenv\n",
    "load_dotenv(\"../.env\")"
   ]
  },
  {
   "cell_type": "code",
   "execution_count": null,
   "id": "057de5bd",
   "metadata": {
    "scrolled": true
   },
   "outputs": [],
   "source": [
    "import sys\n",
    "os.environ['conda_env'] = os.path.basename(sys.prefix)\n",
    "os.environ['conda_env']"
   ]
  },
  {
   "cell_type": "code",
   "execution_count": null,
   "id": "00f7d06f",
   "metadata": {},
   "outputs": [],
   "source": [
    "mf_flow_name = 'LightGbmHpCvWandbFlow'\n",
    "mf_flow_name"
   ]
  },
  {
   "cell_type": "code",
   "execution_count": null,
   "id": "49393afb-aab0-4f6c-9257-07ef5b3c7b03",
   "metadata": {
    "code_folding": [
     2
    ],
    "jupyter": {
     "source_hidden": true
    }
   },
   "outputs": [],
   "source": [
    "from IPython import get_ipython\n",
    "\n",
    "def reset_jupyter_history():\n",
    "    \"\"\"\n",
    "    reset cell numbering\n",
    "    \"\"\"\n",
    "\n",
    "    import os\n",
    "    import sqlite3\n",
    "    from traitlets.config import Config\n",
    "    from IPython.core.history import HistoryManager\n",
    "    \n",
    "    ip = get_ipython()\n",
    "    \n",
    "    if ip is not None:\n",
    "        # Disable history temporarily\n",
    "        if hasattr(ip, 'history_manager'):\n",
    "            ip.history_manager.enabled = False\n",
    "        \n",
    "        # Get the path to the history database\n",
    "        hist_file = os.path.expanduser('~/.ipython/profile_default/history.sqlite')\n",
    "        if hasattr(ip, 'history_manager') and hasattr(ip.history_manager, 'hist_file'):\n",
    "            hist_file = ip.history_manager.hist_file\n",
    "        \n",
    "        if os.path.exists(hist_file):\n",
    "            # Close any existing connection\n",
    "            if hasattr(ip, 'history_manager') and hasattr(ip.history_manager, 'db') and ip.history_manager.db is not None:\n",
    "                ip.history_manager.db.close()\n",
    "            \n",
    "            # Truncate the database\n",
    "            conn = sqlite3.connect(hist_file)\n",
    "            conn.execute(\"DELETE FROM history\")\n",
    "            conn.execute(\"DELETE FROM sqlite_sequence WHERE name='history'\")\n",
    "            conn.commit()\n",
    "            conn.close()\n",
    "        \n",
    "        # Create a new Config object\n",
    "        c = Config()\n",
    "        c.HistoryManager.hist_file = hist_file\n",
    "        \n",
    "        # Create a new HistoryManager instance\n",
    "        new_history_manager = HistoryManager(shell=ip, config=c)\n",
    "        \n",
    "        # Assign the new history manager to the shell\n",
    "        ip.history_manager = new_history_manager\n",
    "        \n",
    "        # Enable history\n",
    "        ip.history_manager.enabled = True\n",
    "\n",
    "        ip.kernel.shell.execution_count = 0\n",
    "        \n",
    "        print(\"Jupyter history has been reset.\")\n",
    "    else:\n",
    "        print(\"This function must be run within a Jupyter notebook.\")\n",
    "\n",
    "reset_jupyter_history()\n",
    "get_ipython().kernel.shell.execution_count"
   ]
  },
  {
   "cell_type": "markdown",
   "id": "3e8c9560",
   "metadata": {},
   "source": [
    "<hr />"
   ]
  },
  {
   "cell_type": "markdown",
   "id": "745d17af",
   "metadata": {
    "heading_collapsed": true,
    "jp-MarkdownHeadingCollapsed": true,
    "tags": []
   },
   "source": [
    "# Generate data"
   ]
  },
  {
   "cell_type": "code",
   "execution_count": null,
   "id": "31e65c09",
   "metadata": {
    "hidden": true,
    "scrolled": true
   },
   "outputs": [],
   "source": [
    "from retrain_pipelines.dataset import DatasetType, pseudo_random_generate\n",
    "\n",
    "num_samples = 1_500 # 10_000 # 30 # 500 # \n",
    "data = pseudo_random_generate(DatasetType.TABULAR_REGRESSION, num_samples)\n",
    "\n",
    "print(data.head())\n",
    "#data.to_csv(os.path.realpath(os.path.join('..', 'data', 'synthetic_classif_tab_data_continuous.csv')), index=False)"
   ]
  },
  {
   "cell_type": "code",
   "execution_count": null,
   "id": "8b01b6a2",
   "metadata": {
    "hidden": true
   },
   "outputs": [],
   "source": [
    "#from sklearn.preprocessing import OrdinalEncoder\n",
    "#\n",
    "#os.environ[\"ml_pipeline_type\"] = \"lightgbm_regress_tempo\"\n",
    "#\n",
    "#from retrain_pipelines.model import preprocess_data_fct\n",
    "#\n",
    "#encoder = OrdinalEncoder()\n",
    "#pp_data = preprocess_data_fct(\n",
    "#    data, encoder,\n",
    "#    buckets={'num_feature1': [-1.002, -0.6, -0.19999999999999996, 0.20000000000000018, 0.6000000000000001, 1.0],\n",
    "#             'num_feature2': 15},\n",
    "#    is_training=True)\n",
    "#\n",
    "#del os.environ[\"ml_pipeline_type\"]\n",
    "#display(pp_data)\n",
    "#display(encoder)"
   ]
  },
  {
   "cell_type": "code",
   "execution_count": null,
   "id": "36ab7429",
   "metadata": {
    "hidden": true
   },
   "outputs": [],
   "source": [
    "from retrain_pipelines.dataset import features_desc\n",
    "pd.DataFrame([features_desc(data)])"
   ]
  },
  {
   "cell_type": "code",
   "execution_count": null,
   "id": "8a7fea11",
   "metadata": {
    "hidden": true
   },
   "outputs": [],
   "source": [
    "from retrain_pipelines.dataset import features_distri_plot\n",
    "display(features_distri_plot(data))"
   ]
  },
  {
   "cell_type": "code",
   "execution_count": null,
   "id": "f10e6218-c499-4057-b26a-59848b4f39cf",
   "metadata": {
    "hidden": true
   },
   "outputs": [],
   "source": [
    "from retrain_pipelines.dataset.features_dependencies import dataset_to_heatmap_fig\n",
    "heatmap_fig, ax = dataset_to_heatmap_fig(data)\n",
    "heatmap_fig.patch.set_facecolor((1.0, 1.0, 1.0, 0.6))\n",
    "display(heatmap_fig)"
   ]
  },
  {
   "cell_type": "code",
   "execution_count": null,
   "id": "ef2444da-8c27-444c-b9a6-fd9c49a0695d",
   "metadata": {
    "hidden": true
   },
   "outputs": [],
   "source": [
    "from io import BytesIO\n",
    "bytes_io_obj = BytesIO()\n",
    "heatmap_fig.savefig(bytes_io_obj, format='png',\n",
    "                    bbox_inches='tight', pad_inches=0.05)\n",
    "\n",
    "bytes_io_obj.seek(0)\n",
    "with open('figure.png', 'wb') as f:\n",
    "    f.write(bytes_io_obj.getvalue())"
   ]
  },
  {
   "cell_type": "markdown",
   "id": "35e2cec6",
   "metadata": {
    "hidden": true
   },
   "source": [
    "<hr />"
   ]
  },
  {
   "cell_type": "markdown",
   "id": "e03d0774",
   "metadata": {},
   "source": [
    "# Metaflow Run"
   ]
  },
  {
   "cell_type": "markdown",
   "id": "81dbb72e",
   "metadata": {},
   "source": [
    "Chosse which domain shall be considered for the HP tuning grid search&nbsp;:"
   ]
  },
  {
   "cell_type": "code",
   "execution_count": null,
   "id": "0fd37089-ccf4-4246-a4f9-8d6e2e9990ad",
   "metadata": {},
   "outputs": [],
   "source": [
    "pipeline_hp_grid = {\n",
    "    \"boosting_type\": [\"gbdt\"],\n",
    "    \"num_leaves\": [10],\n",
    "    \"learning_rate\": [0.01],\n",
    "    \"n_estimators\": [2],\n",
    "}\n",
    "os.environ['pipeline_hp_grid'] = str(json.dumps(pipeline_hp_grid)).replace(\"\\n\", \"\")\n",
    "print(os.environ['pipeline_hp_grid'])"
   ]
  },
  {
   "cell_type": "code",
   "execution_count": null,
   "id": "4cc42115",
   "metadata": {},
   "outputs": [],
   "source": [
    "pipeline_hp_grid = {\n",
    "    \"boosting_type\": [\"gbdt\"],\n",
    "    \"num_leaves\": [75, 100, 125],\n",
    "    \"learning_rate\": [0.01],\n",
    "    \"n_estimators\": [50],\n",
    "    \"lambda_l1\": [0, 0.05],\n",
    "    \"lambda_l2\": [0.1, 0.2, 0.3],\n",
    "    \"bagging_fraction\": [1, 0.95],\n",
    "}\n",
    "os.environ['pipeline_hp_grid'] = str(json.dumps(model_hp_grid))\n",
    "print(os.environ['pipeline_hp_grid'])\n",
    "len([dict(zip(model_hp_grid.keys(), v))\n",
    "     for v in itertools.product(*model_hp_grid.values())])"
   ]
  },
  {
   "cell_type": "markdown",
   "id": "9878d0dc",
   "metadata": {
    "collapsed": true,
    "jupyter": {
     "outputs_hidden": true
    },
    "tags": []
   },
   "source": [
    "## Run flow"
   ]
  },
  {
   "cell_type": "code",
   "execution_count": null,
   "id": "bcf0a300-9fd7-4e1d-850f-84638a412af8",
   "metadata": {},
   "outputs": [],
   "source": [
    "%load_ext retrain_pipelines.local_launcher_magic"
   ]
  },
  {
   "cell_type": "code",
   "execution_count": null,
   "id": "55e7fe9c-b1fd-4e2c-943f-2bf08566af78",
   "metadata": {},
   "outputs": [],
   "source": [
    "%retrain_pipelines_local retraining_pipeline.py run --help"
   ]
  },
  {
   "cell_type": "code",
   "execution_count": null,
   "id": "3e48fc2f",
   "metadata": {
    "scrolled": true
   },
   "outputs": [],
   "source": [
    "%retrain_pipelines_local retraining_pipeline.py run \\\n",
    "    --data_file \"../data/synthetic_classif_tab_data_continuous.csv\" \\\n",
    "    --buckets_param '{\"num_feature1\": 100, \"num_feature2\": 50}' \\\n",
    "    --pipeline_hp_grid \"${pipeline_hp_grid}\" \\\n",
    "    --cv_folds 2 \\\n",
    "    --wandb_run_mode disabled\n",
    "#\\\n",
    "    # --max-workers 4 \\\n",
    "    # --dask_partitions 4 \\\n",
    "    #--pipeline_card_artifacts_path \".\" \\\n",
    "    #--preprocess_artifacts_path \".\" \\"
   ]
  },
  {
   "cell_type": "code",
   "execution_count": null,
   "id": "b65ae8d0-067b-482b-af2c-27a0e39f66eb",
   "metadata": {
    "scrolled": true
   },
   "outputs": [],
   "source": [
    "%retrain_pipelines_local retraining_pipeline.py resume pipeline_card"
   ]
  },
  {
   "cell_type": "markdown",
   "id": "00373391-151a-4ff4-a48c-bff0f8151d82",
   "metadata": {},
   "source": [
    "# Inspectors"
   ]
  },
  {
   "cell_type": "markdown",
   "id": "b35ea890-102b-4892-8439-0ddb6a45ea4e",
   "metadata": {},
   "source": [
    "We can programatically interact with the Metaflow service using the `metaflow`python package. To connect the package with our self-hosted metaflow service, we simply need to set a couple environment variables before importing it&nbsp;:"
   ]
  },
  {
   "cell_type": "markdown",
   "id": "d1e3e5aa",
   "metadata": {},
   "source": [
    "## local Metaflow SDK"
   ]
  },
  {
   "cell_type": "code",
   "execution_count": null,
   "id": "53e99011-85e6-4b3b-b1e0-63e3268df29a",
   "metadata": {},
   "outputs": [],
   "source": [
    "from retrain_pipelines.frameworks import local_metaflow as metaflow"
   ]
  },
  {
   "cell_type": "code",
   "execution_count": null,
   "id": "866b369e-47e8-466d-931e-b2319b489a5f",
   "metadata": {},
   "outputs": [],
   "source": [
    "metaflow.Task(\"LightGbmHpCvWandbFlow/897/pipeline_card/27936\",  attempt=0)['encoder'].data.__dict__"
   ]
  },
  {
   "cell_type": "markdown",
   "id": "6b2b45b7-7b98-4fb5-8e36-2dc15fd5fa0d",
   "metadata": {},
   "source": [
    "Inspectors are convenience methods that abstract away some of the logic to get access to Metaflow pipeline-run artifacts."
   ]
  },
  {
   "cell_type": "markdown",
   "id": "36626189-4c66-4aa0-964b-9c5ed7e70805",
   "metadata": {},
   "source": [
    "## local custom card explorer"
   ]
  },
  {
   "cell_type": "code",
   "execution_count": null,
   "id": "0a871e90",
   "metadata": {},
   "outputs": [],
   "source": [
    "from retrain_pipelines.inspectors import browse_local_pipeline_card"
   ]
  },
  {
   "cell_type": "code",
   "execution_count": null,
   "id": "0989dc6c-ff01-41d8-a0ba-c61562fa5d9e",
   "metadata": {},
   "outputs": [],
   "source": [
    "#browse_local_pipeline_card(mf_flow_name, mf_run_id=633, verbose=True)\n",
    "browse_local_pipeline_card(mf_flow_name)\n",
    "#browse_local_pipeline_card(mf_run_id=797, verbose=True)"
   ]
  },
  {
   "cell_type": "markdown",
   "id": "15e63ad7",
   "metadata": {},
   "source": [
    "<hr />"
   ]
  },
  {
   "cell_type": "markdown",
   "id": "ff23246b",
   "metadata": {},
   "source": [
    "## WandB"
   ]
  },
  {
   "cell_type": "code",
   "execution_count": null,
   "id": "a17386cb",
   "metadata": {},
   "outputs": [],
   "source": [
    "from retrain_pipelines.inspectors import get_execution_source_code"
   ]
  },
  {
   "cell_type": "code",
   "execution_count": null,
   "id": "4c934630",
   "metadata": {},
   "outputs": [],
   "source": [
    "help(get_execution_source_code)"
   ]
  },
  {
   "cell_type": "code",
   "execution_count": null,
   "id": "a335048a-99c6-4441-a1d1-5ef79cfefb1c",
   "metadata": {},
   "outputs": [],
   "source": [
    "artifact_files = get_execution_source_code(mf_run_id=978)\n",
    "\n",
    "for file in artifact_files:\n",
    "    print(f\" - {file.name} {file.url}\")\n",
    "    # file.download(replace=True)"
   ]
  },
  {
   "cell_type": "code",
   "execution_count": null,
   "id": "9f604104-a064-4e66-b5a9-fb0431cca489",
   "metadata": {},
   "outputs": [],
   "source": [
    "from retrain_pipelines.inspectors import explore_source_code\n",
    "# download and open file explorer\n",
    "explore_source_code(mf_run_id=978)"
   ]
  },
  {
   "cell_type": "markdown",
   "id": "b9110300",
   "metadata": {},
   "source": [
    "<hr />"
   ]
  },
  {
   "cell_type": "markdown",
   "id": "69b55ff6-7aa8-4bca-a22b-42ee4c7970c4",
   "metadata": {},
   "source": [
    "## hp_cv_inspector"
   ]
  },
  {
   "cell_type": "markdown",
   "id": "fad706e0-f65c-4731-ba2e-537adc375f4b",
   "metadata": {},
   "source": [
    "The herein retraining pipeline rely on Dask for data-parallel training. Each Cross-Validation fold of each set of hyperparameter value is trained using a subset of the dataset, parallelized accross workers."
   ]
  },
  {
   "cell_type": "markdown",
   "id": "017ec172-ef2d-4a1e-8420-bccda2fb7001",
   "metadata": {},
   "source": [
    "We look into pipeline runs from the perspective of detailed training logs during hyperparameter tuning."
   ]
  },
  {
   "cell_type": "markdown",
   "id": "e0d64465-5314-4330-b0ab-892581ec40c9",
   "metadata": {},
   "source": [
    "First, focusing on the best-performing set of hyperparameters values&nbsp;:"
   ]
  },
  {
   "cell_type": "code",
   "execution_count": null,
   "id": "e88c7455-29db-4e8d-ad3b-995c7369b0d2",
   "metadata": {},
   "outputs": [],
   "source": [
    "from inspectors import plot_run_cv_history\n",
    "plot_run_cv_history(best_cv=True) #mf_run_id=432, "
   ]
  },
  {
   "cell_type": "markdown",
   "id": "7368575f-d179-4ae9-bf35-f155a6b7db6c",
   "metadata": {},
   "source": [
    "Now, looking at all sets of hyperparameter values evaluated&nbsp;:"
   ]
  },
  {
   "cell_type": "code",
   "execution_count": null,
   "id": "94bb5317-ba74-4321-b375-eb2d5df1ca2d",
   "metadata": {
    "scrolled": true
   },
   "outputs": [],
   "source": [
    "from inspectors import plot_run_all_cv_tasks\n",
    "plot_run_all_cv_tasks()#mf_run_id=432)"
   ]
  },
  {
   "cell_type": "code",
   "execution_count": null,
   "id": "071f5a3e-30dc-4a29-8d7b-70378072c0eb",
   "metadata": {},
   "outputs": [],
   "source": []
  },
  {
   "cell_type": "markdown",
   "id": "085c6182",
   "metadata": {},
   "source": [
    "# dependencies"
   ]
  },
  {
   "cell_type": "code",
   "execution_count": null,
   "id": "94340a2b",
   "metadata": {
    "jupyter": {
     "outputs_hidden": true,
     "source_hidden": true
    },
    "scrolled": true
   },
   "outputs": [],
   "source": [
    "%pip list"
   ]
  },
  {
   "cell_type": "code",
   "execution_count": null,
   "id": "53a10b73",
   "metadata": {},
   "outputs": [],
   "source": [
    "%pip list --format=freeze > requirements.txt"
   ]
  },
  {
   "cell_type": "markdown",
   "id": "21c130cb-ed76-4e46-b442-edb6926bea3d",
   "metadata": {},
   "source": [
    "# END"
   ]
  },
  {
   "cell_type": "code",
   "execution_count": null,
   "id": "d40cea20",
   "metadata": {},
   "outputs": [],
   "source": []
  }
 ],
 "metadata": {
  "kernelspec": {
   "display_name": "Metaflow LightGBM",
   "language": "python",
   "name": "metaflow_lightgbm"
  },
  "language_info": {
   "codemirror_mode": {
    "name": "ipython",
    "version": 3
   },
   "file_extension": ".py",
   "mimetype": "text/x-python",
   "name": "python",
   "nbconvert_exporter": "python",
   "pygments_lexer": "ipython3",
   "version": "3.9.19"
  },
  "toc": {
   "base_numbering": "0",
   "nav_menu": {},
   "number_sections": true,
   "sideBar": false,
   "skip_h1_title": false,
   "title_cell": "Table of Contents",
   "title_sidebar": "Contents",
   "toc_cell": false,
   "toc_position": {
    "height": "238.875px",
    "left": "1538.98px",
    "top": "137.984px",
    "width": "211.922px"
   },
   "toc_section_display": true,
   "toc_window_display": true
  }
 },
 "nbformat": 4,
 "nbformat_minor": 5
}
