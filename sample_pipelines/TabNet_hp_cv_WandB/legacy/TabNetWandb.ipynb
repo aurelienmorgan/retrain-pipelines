{
 "cells": [
  {
   "cell_type": "markdown",
   "id": "67dbcd8e",
   "metadata": {},
   "source": [
    "<div style='background-color: rgba(0, 255, 255, 0.04); border: 1px solid rgba(0, 255, 255, .2);'>\n",
    "<div style='text-align: justify; margin-left: 5px; margin-right: 5px;'>\n",
    "<div style=\"float: left; border-right: 5px solid transparent;\">\n",
    "<table border=\"0\" width=\"350px;\" style=\"background-color: #f5f5f5; float: left;\">\n",
    "    <tr>\n",
    "        <td colspan=2>\n",
    "            <img alt=\"retrain-pipelines\" src=\"https://github.com/user-attachments/assets/19725866-13f9-48c1-b958-35c2e014351a\" />\n",
    "        </td>\n",
    "    </tr>\n",
    "    <tr>\n",
    "        <td colspan=2>\n",
    "            <img alt=\"Metaflow\" width=\"250px\" src=\"https://github.com/user-attachments/assets/ecc20501-869d-4159-b5a0-eb0a117520e5\" />\n",
    "        </td>\n",
    "    </tr>\n",
    "    <tr>\n",
    "        <td style=\"vertical-align: center;\">Pytorch</td>\n",
    "        <td> \n",
    "            <img alt=\"PyTorch\" width=\"40px\" src=\"https://github.com/user-attachments/assets/bfa9b38e-e9b3-41ff-8370-e64a0a0a4a93\" />\n",
    "        </td>\n",
    "    </tr>\n",
    "    <tr>\n",
    "        <td style=\"vertical-align: center;\" height=\"40px\">TabNet</td>\n",
    "        <td></td>\n",
    "    </tr>\n",
    "    <tr>\n",
    "        <td style=\"vertical-align: center;\">TorchServe</td>\n",
    "        <td> \n",
    "            <img alt=\"PyTorch\" width=\"40px\" src=\"https://github.com/user-attachments/assets/bfa9b38e-e9b3-41ff-8370-e64a0a0a4a93\" />\n",
    "        </td>\n",
    "    </tr>\n",
    "</table></div>\n",
    "<br />\n",
    "Welcome to this introductory notebook for the <code>TabNetHpCvWandbFlow</code> sample pipeline from the <b>retrain-pipelines</b> library.<br />\n",
    "This sample retraining pipeline covers the tabular data mutli-class classification use case. More specifically, it employ a <a href=\"https://pytorch.org/\" target=\"_blank\">Pytorch</a> implementation of the <a href=\"https://github.com/dreamquark-ai/tabnet/tree/develop\" target=\"_blank\">TabNet</a> model.<br />\n",
    "<br />\n",
    "<div style='background-color: rgba(0, 255, 255, 0.04); border: 1px solid rgba(0, 255, 255, .2);'><center>\n",
    "    TabNet: Attentive Interpretable Tabular Learning (<a href=\"https://arxiv.org/abs/1908.07442\">arXiv</a>)<br />\n",
    "    (for a Tensorflow implementation, visit <a tagret = \"_blank\" href=\"https://colab.research.google.com/drive/1T8P5DrwBBZpx-FjWrAxXNhZNfsco8y-t?usp=sharing\">this reference Google Colab notebook)</a>\n",
    "</center></div>\n",
    "<br />\n",
    "This model is transformer-based. Among some of its most advanced features, it takes full benefit of grouped attention for (out-of-the-box one-hot-encoded) categorical features.\n",
    "<br />\n",
    "Like other sample retraining pipelines provided with the <b>retrain-pipelines</b> library, the <code>TabNetHpCvWandbFlow</code> sample pipeline adapts to your data.<br />\n",
    "<hr />\n",
    "The infrastructure validation (the ability of newly-retrained model versions to accept and respond to inference requests) relies here on <a href=\"https://pytorch.org/serve/\" target=\"_blank\">TorchServe</a> where we pack the fitted inference pipeline and put it to the test.\n",
    "<br clear=\"left\" />\n",
    "</div>\n",
    "</div>"
   ]
  },
  {
   "cell_type": "markdown",
   "id": "4224e730",
   "metadata": {},
   "source": [
    "<div style='background-color: rgba(0, 255, 255, 0.04); border: 1px solid rgba(0, 255, 255, .2);'>\n",
    "<div style='text-align: justify; margin-left: 5px; margin-right: 5px;'>\n",
    "The herein notebook indeed is here in support of the <code>TabNetHpCvWandbFlow</code> sample pipeline from the <b>retrain-pipelines</b> library. It is your step-by-step assistant to guide you into mastering it all super fast.<br />\n",
    "<br />\n",
    "From here, you can&nbsp;:\n",
    "<ul>\n",
    "    <li>\n",
    "        Execute a <b>retrain-pipelines</b> run&nbsp;:\n",
    "        <ul>\n",
    "            <li>\n",
    "                generate synthetic dataset if you need some to quickstart\n",
    "            </li>\n",
    "            <li>\n",
    "                set an hyperparameter search space\n",
    "            </li>\n",
    "            <li>\n",
    "                launch a <b>retrain-pipeline</b> run\n",
    "            </li>\n",
    "            <li>\n",
    "                even start customizing default <code>preprocessing</code> and <code>pipeline_card</code> if you feel like it&nbsp;!\n",
    "            </li>\n",
    "        </ul>\n",
    "    </li>\n",
    "    <li>\n",
    "        do some after-the-fact investigation thanks to the collection of <code>inspectors</code> offered by the <b>retrain-pipelines</b> library\n",
    "    </li>\n",
    "</ul>\n",
    "<br />\n",
    "<p style=\"text-align: justify; color: darkgray;\">\n",
    "<u>REMARK</u>&nbsp;: if you've not done so already, go check <a href=\"https://github.com/aurelienmorgan/retrain-pipelines/tree/master/extra/frameworks\" target=\"_blank\">this section</a> for a Local <em>Metaflow</em> installation. This comes in handy for quick prototyping and testing.\n",
    "</p>\n",
    "</div>\n",
    "</div>"
   ]
  },
  {
   "cell_type": "markdown",
   "id": "74198a32",
   "metadata": {},
   "source": [
    "<font size=\"6em\"><b>Table of Contents</b></font>\n",
    "\n",
    "- [setup](#setup)\n",
    "- [Generate data](#Generate-data)\n",
    "- [Metaflow Run](#Metaflow-Run)\n",
    "  - [HP tuning search space](#HP-tuning-search-space)\n",
    "  - [Run flow](#Run-flow)\n",
    "    - [Use the as-is sample pipeline](#Use-the-as-is-sample-pipeline)\n",
    "    - [Customize you retraining pipeline](#Customize-you-retraining-pipeline)\n",
    "- [Inspectors](#Inspectors)\n",
    "  - [local Metaflow SDK](#local-Metaflow-SDK)\n",
    "  - [local custom card explorer](#local-custom-card-explorer)\n",
    "  - [WandB](#WandB)\n",
    "- [Congratulations&nbsp;!](#Congratulationsnbsp)"
   ]
  },
  {
   "cell_type": "markdown",
   "id": "8ead4981-05cf-4aeb-a846-867ffb283ddc",
   "metadata": {},
   "source": [
    "<hr />"
   ]
  },
  {
   "cell_type": "markdown",
   "id": "b1a270aa",
   "metadata": {},
   "source": [
    "# setup"
   ]
  },
  {
   "cell_type": "code",
   "execution_count": null,
   "id": "7edd5c0d",
   "metadata": {},
   "outputs": [],
   "source": [
    "# !pip install -r requirements.txt"
   ]
  },
  {
   "cell_type": "code",
   "execution_count": null,
   "id": "ce0d4e69",
   "metadata": {},
   "outputs": [],
   "source": [
    "# !pip install retrain-pipelines"
   ]
  },
  {
   "cell_type": "code",
   "execution_count": null,
   "id": "b78202a8-2ac4-44db-b110-8eb2b6fae69c",
   "metadata": {},
   "outputs": [],
   "source": [
    "%reload_ext autoreload\n",
    "%autoreload 2\n",
    "\n",
    "import os, json\n",
    "from textwrap import dedent\n",
    "\n",
    "from dotenv import find_dotenv, load_dotenv\n",
    "print(find_dotenv())\n",
    "print(load_dotenv(os.path.join(os.getcwd(), \"..\", \"..\", \".env\")))\n",
    "\n",
    "import torch\n",
    "print(torch.cuda.get_device_name(0))\n",
    "print(f\"PyTorch {torch.__version__}\")"
   ]
  },
  {
   "cell_type": "markdown",
   "id": "15f1b41d-733a-40a9-b855-e59435c21a81",
   "metadata": {},
   "source": [
    "<hr />"
   ]
  },
  {
   "cell_type": "markdown",
   "id": "eafc989c-785f-4b86-8ff2-9604178bf84a",
   "metadata": {
    "heading_collapsed": true,
    "jp-MarkdownHeadingCollapsed": true,
    "tags": []
   },
   "source": [
    "# Generate data"
   ]
  },
  {
   "cell_type": "code",
   "execution_count": null,
   "id": "1cbc89f5-18b2-403b-9755-cf11866b8a90",
   "metadata": {
    "hidden": true
   },
   "outputs": [],
   "source": [
    "from retrain_pipelines.dataset import DatasetType, pseudo_random_generate\n",
    "\n",
    "num_samples = 10_000 # number of samples\n",
    "data = pseudo_random_generate(DatasetType.TABULAR_CLASSIFICATION, num_samples)\n",
    "# Display the first few rows\n",
    "print(data.head())\n",
    "# save to file\n",
    "data.to_csv(os.path.realpath(os.path.join('..', 'data', 'synthetic_classif_tab_data_4classes.csv')), index=False)"
   ]
  },
  {
   "cell_type": "code",
   "execution_count": null,
   "id": "ba2d87f7",
   "metadata": {
    "hidden": true
   },
   "outputs": [],
   "source": [
    "from retrain_pipelines.dataset.features_dependencies import \\\n",
    "        dataset_to_heatmap_fig\n",
    "fig, ax = dataset_to_heatmap_fig(data)\n",
    "display(fig)"
   ]
  },
  {
   "cell_type": "markdown",
   "id": "756a3813-ef9c-413e-8c77-a3d1c714996a",
   "metadata": {
    "hidden": true
   },
   "source": [
    "<hr />"
   ]
  },
  {
   "cell_type": "markdown",
   "id": "71f6b0f2-8745-4de3-91cb-4f4a2fb39e59",
   "metadata": {},
   "source": [
    "# Metaflow Run"
   ]
  },
  {
   "cell_type": "markdown",
   "id": "f29cf7e0",
   "metadata": {
    "heading_collapsed": true
   },
   "source": [
    "## HP tuning search space"
   ]
  },
  {
   "cell_type": "markdown",
   "id": "dddf771c-7d06-4b2c-8d95-c61acc066590",
   "metadata": {
    "hidden": true
   },
   "source": [
    "Chosse which domain shall be considered for the HP tuning grid search&nbsp;:"
   ]
  },
  {
   "cell_type": "code",
   "execution_count": null,
   "id": "38e8e02d",
   "metadata": {
    "hidden": true
   },
   "outputs": [],
   "source": [
    "from retrain_pipelines.utils import as_env_var"
   ]
  },
  {
   "cell_type": "code",
   "execution_count": null,
   "id": "394289c2",
   "metadata": {
    "code_folding": [],
    "hidden": true
   },
   "outputs": [],
   "source": [
    "pipeline_hp_grid = {\n",
    "    \"trainer\": {\n",
    "        \"max_epochs\":[200],\n",
    "        \"patience\":[10],\n",
    "        \"batch_size\":[1024],\n",
    "        \"virtual_batch_size\":[256],\n",
    "    },\n",
    "    \"model\": {\n",
    "        \"n_d\":[64],\n",
    "        \"n_a\":[64],\n",
    "        \"n_steps\":[6],\n",
    "        \"gamma\":[1.5],\n",
    "        \"n_independent\":[2],\n",
    "        \"n_shared\":[2],\n",
    "        \"lambda_sparse\":[1e-4],\n",
    "        \"momentum\":[0.3],\n",
    "        \"clip_value\":[2.],\n",
    "        \"optimizer_fn\":[\"torch.optim.Adam\"],\n",
    "        \"optimizer_params\":[dict(lr=2e-2), dict(lr=0.1)],\n",
    "        \"scheduler_params\":[{\"gamma\": 0.80,\n",
    "                            \"step_size\": 20}],\n",
    "        \"scheduler_fn\":[\"torch.optim.lr_scheduler.StepLR\"],\n",
    "        \"epsilon\":[1e-15]\n",
    "    }}\n",
    "as_env_var(pipeline_hp_grid, env_var_name=\"pipeline_hp_grid\")\n",
    "print(f\"pipeline_hp_grid : {os.environ['pipeline_hp_grid']}\")"
   ]
  },
  {
   "cell_type": "code",
   "execution_count": null,
   "id": "382aae4c",
   "metadata": {
    "hidden": true
   },
   "outputs": [],
   "source": [
    "pipeline_hp_grid = {\n",
    "    \"trainer\": {\n",
    "        \"max_epochs\":[200],\n",
    "        \"patience\":[10],\n",
    "        \"batch_size\":[256, 1024, 2048],\n",
    "        \"virtual_batch_size\":[128, 256],\n",
    "    },\n",
    "    \"model\": {\n",
    "        \"n_d\":[64],\n",
    "        \"n_a\":[64],\n",
    "        \"n_steps\":[3, 4, 6],\n",
    "        \"gamma\":[1.5],\n",
    "        \"n_independent\":[2],\n",
    "        \"n_shared\":[2],\n",
    "        \"lambda_sparse\":[1e-4],\n",
    "        \"momentum\":[0.3],\n",
    "        \"clip_value\":[2.],\n",
    "        \"optimizer_fn\":[\"torch.optim.Adam\"],\n",
    "        \"optimizer_params\":[dict(lr=0.1)],\n",
    "        \"scheduler_params\":[{\"gamma\": 0.80,\n",
    "                            \"step_size\": 20}],\n",
    "        \"scheduler_fn\":[\"torch.optim.lr_scheduler.StepLR\"],\n",
    "        \"epsilon\":[1e-15]\n",
    "    }}\n",
    "as_env_var(pipeline_hp_grid, env_var_name=\"pipeline_hp_grid\")\n",
    "print(f\"pipeline_hp_grid : {os.environ['pipeline_hp_grid']}\")\n",
    "\n",
    "# combinatons count :\n",
    "from retrain_pipelines.utils import dict_dict_list_get_all_combinations\n",
    "combinatons_count = \\\n",
    "    len(dict_dict_list_get_all_combinations(pipeline_hp_grid))\n",
    "print(f\"{combinatons_count} different combinations of hyperparameter values\")"
   ]
  },
  {
   "cell_type": "markdown",
   "id": "18a2d686-3854-4354-ac2a-2f69ee54d3d0",
   "metadata": {
    "collapsed": true,
    "jupyter": {
     "outputs_hidden": true
    },
    "tags": []
   },
   "source": [
    "## Run flow"
   ]
  },
  {
   "cell_type": "markdown",
   "id": "0ea1ba17",
   "metadata": {},
   "source": [
    "### Use the as-is sample pipeline"
   ]
  },
  {
   "cell_type": "markdown",
   "id": "6eb7d4e8",
   "metadata": {},
   "source": [
    "Load the cell-magic&nbsp;:"
   ]
  },
  {
   "cell_type": "code",
   "execution_count": null,
   "id": "475c78bb-9ff6-474b-8935-dbc55b1957ef",
   "metadata": {},
   "outputs": [],
   "source": [
    "%reload_ext retrain_pipelines.legacy_launcher_magic"
   ]
  },
  {
   "cell_type": "markdown",
   "id": "9ed98d81",
   "metadata": {},
   "source": [
    "Take a look at the help for the retraining pipeline&nbsp;:"
   ]
  },
  {
   "cell_type": "code",
   "execution_count": null,
   "id": "e7c9f6c4-ec1c-4e16-ae62-28b9ee41e59c",
   "metadata": {},
   "outputs": [],
   "source": [
    "%retrain_pipelines_legacy retraining_pipeline.py run --help"
   ]
  },
  {
   "cell_type": "markdown",
   "id": "a818dc10",
   "metadata": {},
   "source": [
    "You can launch a <b>retrain-pipelines</b> run&nbsp;:"
   ]
  },
  {
   "cell_type": "code",
   "execution_count": null,
   "id": "464135f0-ff8b-41ec-bcc0-6df3c4360c59",
   "metadata": {
    "scrolled": true
   },
   "outputs": [],
   "source": [
    "%retrain_pipelines_legacy retraining_pipeline.py run \\\n",
    "    --data_file \"../../data/synthetic_classif_tab_data_4classes.csv\" \\\n",
    "    --buckets_param '{\"num_feature2\": 100, \"num_feature4\": 50}' \\\n",
    "    --pipeline_hp_grid '{pipeline_hp_grid}' \\\n",
    "    --cv_folds 2 \\\n",
    "    --max-workers 3 \\\n",
    "    --wandb_run_mode offline"
   ]
  },
  {
   "cell_type": "markdown",
   "id": "594501a7",
   "metadata": {},
   "source": [
    "You can also resume a prior run from the step of your choosing&nbsp;:"
   ]
  },
  {
   "cell_type": "code",
   "execution_count": null,
   "id": "203ab2bc-f558-4bf8-9ca8-445cfb605452",
   "metadata": {
    "scrolled": true
   },
   "outputs": [],
   "source": [
    "%retrain_pipelines_legacy retraining_pipeline.py resume pipeline_card"
   ]
  },
  {
   "cell_type": "code",
   "execution_count": null,
   "id": "9aaf4987",
   "metadata": {
    "scrolled": true
   },
   "outputs": [],
   "source": [
    "%retrain_pipelines_legacy retraining_pipeline.py resume \\\n",
    "    cross_validation --origin-run-id 1917"
   ]
  },
  {
   "cell_type": "markdown",
   "id": "67bba840",
   "metadata": {
    "heading_collapsed": true
   },
   "source": [
    "### Customize you retraining pipeline"
   ]
  },
  {
   "cell_type": "markdown",
   "id": "508776f5",
   "metadata": {
    "hidden": true
   },
   "source": [
    "Start by getting the default which you'd like to customize (any combinaison of the below 3 you'd like)&nbsp;:\n",
    "<ul>\n",
    "    <li><code>reprocessing.py</code> module</li>\n",
    "    <li><code>pipeline_card.py</code> module</li>\n",
    "    <li><code>template.html</code> html template</li>\n",
    "</ul>"
   ]
  },
  {
   "cell_type": "code",
   "execution_count": null,
   "id": "399a6156",
   "metadata": {
    "hidden": true
   },
   "outputs": [],
   "source": [
    "from retraining_pipeline import TabNetHpCvWandbFlow\n",
    "\n",
    "TabNetHpCvWandbFlow.copy_default_preprocess_module(\".\", exists_ok=True)\n",
    "TabNetHpCvWandbFlow.copy_default_pipeline_card_module(\".\", exists_ok=True)\n",
    "TabNetHpCvWandbFlow.copy_default_pipeline_card_html_template(\".\", exists_ok=True)"
   ]
  },
  {
   "cell_type": "markdown",
   "id": "77c88071",
   "metadata": {
    "hidden": true
   },
   "source": [
    "Once you updated any of them, you can launch a <b>retrain-pipelines</b> run so it uses those&nbsp;:"
   ]
  },
  {
   "cell_type": "code",
   "execution_count": null,
   "id": "fe0db9db",
   "metadata": {
    "hidden": true
   },
   "outputs": [],
   "source": [
    "%retrain_pipelines_local retraining_pipeline.py run \\\n",
    "    --data_file \"../data/synthetic_classif_tab_data_4classes.csv\" \\\n",
    "    --buckets_param '{\"num_feature2\": 100, \"num_feature4\": 50}' \\\n",
    "    --pipeline_hp_grid \"${pipeline_hp_grid}\" \\\n",
    "    --cv_folds 2 \\\n",
    "    --preprocess_artifacts_path \".\" \\\n",
    "    --pipeline_card_artifacts_path \".\" \\\n",
    "    --wandb_run_mode disabled"
   ]
  },
  {
   "cell_type": "markdown",
   "id": "4abc0950-dbb4-4d31-aaab-c9bf2c4bb816",
   "metadata": {},
   "source": [
    "# Inspectors"
   ]
  },
  {
   "cell_type": "markdown",
   "id": "c21d23de-e2d3-4301-9909-690a8f7af2ca",
   "metadata": {},
   "source": [
    "The <b>retrain-pipelines Inspectors</b> are a set of convenience methods to observe past runs <em>after-the-fact</em>. They're here to ease the discovery of some important facts which, for the sake of consicion, were not included in the <code>pipeline-card</code> generated for that run.<br />\n",
    "If for any reason you'd like to dig deeper in a past run and investigate in details what happened, you can rely on the <b>retrain-pipelines Inspectors</b>&nbsp;!"
   ]
  },
  {
   "cell_type": "code",
   "execution_count": null,
   "id": "29e004a7",
   "metadata": {},
   "outputs": [],
   "source": [
    "mf_flow_name = \"TabNetHpCvWandbFlow\""
   ]
  },
  {
   "cell_type": "markdown",
   "id": "faa9c370",
   "metadata": {},
   "source": [
    "<hr />"
   ]
  },
  {
   "cell_type": "markdown",
   "id": "b0a723ec-1972-45c1-be71-29628aa9faa4",
   "metadata": {},
   "source": [
    "## local Metaflow SDK"
   ]
  },
  {
   "cell_type": "markdown",
   "id": "3b6d4570",
   "metadata": {},
   "source": [
    "You can use the metaflow python package to navigate artifacts gennerated by a past <b>retrain-pipelines</b> run just as you would for any metaflow flow. To interact with your local metaflow instance though, you shall use the <code>local_metaflow</code> package as follows&nbsp;:"
   ]
  },
  {
   "cell_type": "code",
   "execution_count": null,
   "id": "1b3791cd-3759-4b06-8dd1-75acfb0fd1be",
   "metadata": {},
   "outputs": [],
   "source": [
    "from retrain_pipelines.frameworks import local_metaflow as metaflow"
   ]
  },
  {
   "cell_type": "markdown",
   "id": "617eea65",
   "metadata": {},
   "source": [
    "And explore the content of any given set of flow artifacts, just specify the right <code>flow_id</code> and <code>task_id</code> for it below to for instance retrieved the newly-retrained model itself&nbsp;:"
   ]
  },
  {
   "cell_type": "code",
   "execution_count": null,
   "id": "4c781840-d41f-4da5-955c-eb39992cd644",
   "metadata": {},
   "outputs": [],
   "source": [
    "metaflow.Task('TabNetHpCvWandbFlow/990/train_model/30013', attempt=0)['model'].data"
   ]
  },
  {
   "cell_type": "markdown",
   "id": "22f38dc0",
   "metadata": {},
   "source": [
    "Or you could look into the confusion matrix from the newly retrained model version on the validation dataset&nbsp;:"
   ]
  },
  {
   "cell_type": "code",
   "execution_count": null,
   "id": "62802922",
   "metadata": {},
   "outputs": [],
   "source": [
    "metaflow.Task('TabNetHpCvWandbFlow/990/evaluate_model/30014', attempt=0)['conf_matrix'].data"
   ]
  },
  {
   "cell_type": "markdown",
   "id": "aa3a191a",
   "metadata": {},
   "source": [
    "Or you could go copy python commands straight from the dedicated <b>key artifacts</b> section from your <code>pipeline card</code>."
   ]
  },
  {
   "cell_type": "markdown",
   "id": "d6511637-9cc0-4d63-95a6-6bd0b48fb06c",
   "metadata": {},
   "source": [
    "## local custom card explorer"
   ]
  },
  {
   "cell_type": "code",
   "execution_count": null,
   "id": "649b673a-e942-4121-a888-3d6c9fe0ec07",
   "metadata": {},
   "outputs": [],
   "source": [
    "from retrain_pipelines.inspectors import browse_local_pipeline_card"
   ]
  },
  {
   "cell_type": "code",
   "execution_count": null,
   "id": "4e967464",
   "metadata": {},
   "outputs": [],
   "source": [
    "help(browse_local_pipeline_card)"
   ]
  },
  {
   "cell_type": "markdown",
   "id": "41a28c37",
   "metadata": {},
   "source": [
    "You can open the <code>pipeline card</code> corresponding to the latest run by simply calling&nbsp;:"
   ]
  },
  {
   "cell_type": "code",
   "execution_count": null,
   "id": "ba519f28-f750-4d63-9d41-784c5d5dc6ec",
   "metadata": {},
   "outputs": [],
   "source": [
    "browse_local_pipeline_card(mf_flow_name)"
   ]
  },
  {
   "cell_type": "markdown",
   "id": "ca977141-a13c-49ca-b630-09d39bd3c251",
   "metadata": {},
   "source": [
    "<hr />"
   ]
  },
  {
   "cell_type": "markdown",
   "id": "7625144a-efd2-4276-90f3-b2c595797767",
   "metadata": {
    "heading_collapsed": true
   },
   "source": [
    "## WandB"
   ]
  },
  {
   "cell_type": "markdown",
   "id": "dad195a8-7439-42d5-9ed7-bce727085a4a",
   "metadata": {
    "hidden": true
   },
   "source": [
    "Make sure to have the `WANDB_API_KEY` environement variable set adequately.<br />\n",
    "It can be through a `secret`."
   ]
  },
  {
   "cell_type": "markdown",
   "id": "e99bd442-0e45-4629-a510-9793af9ca092",
   "metadata": {
    "hidden": true
   },
   "source": [
    "<b>programmatically browse the saved source-code</b>"
   ]
  },
  {
   "cell_type": "code",
   "execution_count": null,
   "id": "57be4037-26c1-4e0f-afc5-c5ec88f3779e",
   "metadata": {
    "hidden": true
   },
   "outputs": [],
   "source": [
    "from retrain_pipelines.inspectors import get_execution_source_code\n",
    "\n",
    "for source_code_artifact in get_execution_source_code(mf_run_id=<your_flow_id>):\n",
    "    print(f\" - {source_code_artifact.name} {source_code_artifact.url}\")"
   ]
  },
  {
   "cell_type": "markdown",
   "id": "d8c95dc7-b117-4cda-b8a9-28b31582c9df",
   "metadata": {
    "hidden": true
   },
   "source": [
    "<b>The below command will download source-code artifacts for a given run and open a file explorer on the parent dir&nbsp;:</b>"
   ]
  },
  {
   "cell_type": "code",
   "execution_count": null,
   "id": "112c23b9-0db1-4114-8e0f-7c2ad19bf07a",
   "metadata": {
    "hidden": true
   },
   "outputs": [],
   "source": [
    "from retrain_pipelines.inspectors import explore_source_code\n",
    "# download and open file explorer\n",
    "explore_source_code(mf_run_id=<your_flow_id>)"
   ]
  },
  {
   "cell_type": "markdown",
   "id": "d0401f7d-be5c-4c6f-8162-6d990defad63",
   "metadata": {
    "hidden": true
   },
   "source": [
    "<hr />"
   ]
  },
  {
   "cell_type": "markdown",
   "id": "a981bb1b",
   "metadata": {},
   "source": [
    "# Congratulations&nbsp;!\n",
    "\n",
    "<br />\n",
    "<div style='background-color: rgba(0, 255, 255, 0.04); border: 1px solid rgba(0, 255, 255, .2);'>\n",
    "<div style='text-align: justify; margin-left: 5px; margin-right: 5px;'>\n",
    "You're now championing the <code>TabNetHpCvWandbFlow</code> sample pipeline from the <b>retrain-pipelines</b> library&nbsp;!\n",
    "</div>\n",
    "</div>"
   ]
  }
 ],
 "metadata": {
  "kernelspec": {
   "display_name": "Metaflow Pytorch 1.13 GPU venv",
   "language": "python",
   "name": "metaflow_pytorch_1_venv"
  },
  "language_info": {
   "codemirror_mode": {
    "name": "ipython",
    "version": 3
   },
   "file_extension": ".py",
   "mimetype": "text/x-python",
   "name": "python",
   "nbconvert_exporter": "python",
   "pygments_lexer": "ipython3",
   "version": "3.9.19"
  },
  "toc": {
   "base_numbering": "0",
   "nav_menu": {},
   "number_sections": true,
   "sideBar": false,
   "skip_h1_title": false,
   "title_cell": "Table of Contents",
   "title_sidebar": "Contents",
   "toc_cell": false,
   "toc_position": {
    "height": "265.895px",
    "left": "1475.99px",
    "top": "143.77px",
    "width": "215.81px"
   },
   "toc_section_display": true,
   "toc_window_display": true
  }
 },
 "nbformat": 4,
 "nbformat_minor": 5
}
