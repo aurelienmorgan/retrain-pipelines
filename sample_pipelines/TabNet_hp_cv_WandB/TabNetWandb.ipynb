{
 "cells": [
  {
   "cell_type": "markdown",
   "id": "6868ee4d-05cc-40dd-8157-22f1c086d4f2",
   "metadata": {},
   "source": [
    "TabNet: Attentive Interpretable Tabular Learning (for starter, <a tagret = \"_blank\" href=\"https://github.com/GoogleCloudPlatform/ai-platform-samples/blob/main/notebooks/samples/explanations/ai-explanations-tabnet-algorithm.ipynb\">Google Notebook)</a>"
   ]
  },
  {
   "cell_type": "markdown",
   "id": "ecadd8f9-37de-4b80-8bc7-06afde9cd76b",
   "metadata": {},
   "source": [
    "All that is pure free Open Source. You can only build and enjoy the ride.<br />\n",
    "Ever so grateful"
   ]
  },
  {
   "cell_type": "markdown",
   "id": "15d78415-6c31-49bc-a65e-8bb96d718840",
   "metadata": {},
   "source": [
    "example workflow adapts to your data.\n",
    "takes full benefit of grouped attention for (out-of-the-box one-hot-encoded) categorical features"
   ]
  },
  {
   "cell_type": "code",
   "execution_count": null,
   "id": "2ef4c399-5aad-4bec-8a27-bbdbafb9e78d",
   "metadata": {},
   "outputs": [],
   "source": []
  },
  {
   "cell_type": "markdown",
   "id": "8ead4981-05cf-4aeb-a846-867ffb283ddc",
   "metadata": {},
   "source": [
    "<hr />"
   ]
  },
  {
   "cell_type": "markdown",
   "id": "b1a270aa",
   "metadata": {},
   "source": [
    "# setup"
   ]
  },
  {
   "cell_type": "code",
   "execution_count": 1,
   "id": "b78202a8-2ac4-44db-b110-8eb2b6fae69c",
   "metadata": {},
   "outputs": [],
   "source": [
    "%reload_ext autoreload\n",
    "%autoreload 2"
   ]
  },
  {
   "cell_type": "code",
   "execution_count": 2,
   "id": "30f0f2fd",
   "metadata": {},
   "outputs": [],
   "source": [
    "import os, sys, json"
   ]
  },
  {
   "cell_type": "code",
   "execution_count": 3,
   "id": "7be7fef5-7d96-411e-a754-015a07f2b20d",
   "metadata": {},
   "outputs": [],
   "source": [
    "import pandas as pd"
   ]
  },
  {
   "cell_type": "code",
   "execution_count": 4,
   "id": "b14eeecb-25a8-4be9-ba77-51391e06ebdc",
   "metadata": {},
   "outputs": [
    {
     "data": {
      "text/plain": [
       "'/mnt/d/jupyter_notebooks/job_hunt/AWS/fresh_start/sample_pipelines/.env'"
      ]
     },
     "execution_count": 4,
     "metadata": {},
     "output_type": "execute_result"
    }
   ],
   "source": [
    "from dotenv import find_dotenv\n",
    "find_dotenv()"
   ]
  },
  {
   "cell_type": "code",
   "execution_count": 5,
   "id": "0f4c6ae9-7751-40fb-b840-c64f023753e8",
   "metadata": {},
   "outputs": [
    {
     "data": {
      "text/plain": [
       "True"
      ]
     },
     "execution_count": 5,
     "metadata": {},
     "output_type": "execute_result"
    }
   ],
   "source": [
    "# WandB API key\n",
    "from dotenv import load_dotenv\n",
    "load_dotenv(\"../.env\")"
   ]
  },
  {
   "cell_type": "code",
   "execution_count": 6,
   "id": "ed5f7a6d-cf62-4353-8799-ef6eb3751626",
   "metadata": {},
   "outputs": [
    {
     "data": {
      "text/plain": [
       "'/mnt/d/jupyter_notebooks/job_hunt/AWS/fresh_start/sample_pipelines/TabNet_hp_cv_WandB'"
      ]
     },
     "execution_count": 6,
     "metadata": {},
     "output_type": "execute_result"
    }
   ],
   "source": [
    "os.getcwd()"
   ]
  },
  {
   "cell_type": "code",
   "execution_count": 7,
   "id": "2a7bc63a-0958-459d-8123-e34e7c1de298",
   "metadata": {},
   "outputs": [
    {
     "data": {
      "text/plain": [
       "['/home/organization/miniforge3/envs/metaflow_pytorch_1/lib/python39.zip',\n",
       " '/home/organization/miniforge3/envs/metaflow_pytorch_1/lib/python3.9',\n",
       " '/home/organization/miniforge3/envs/metaflow_pytorch_1/lib/python3.9/lib-dynload',\n",
       " '',\n",
       " '/home/organization/miniforge3/envs/metaflow_pytorch_1/lib/python3.9/site-packages',\n",
       " '/mnt/d/jupyter_notebooks/job_hunt/AWS/fresh_start']"
      ]
     },
     "execution_count": 7,
     "metadata": {},
     "output_type": "execute_result"
    }
   ],
   "source": [
    "# adding custom code to path for easy imports while \"ml-pipelines\" is not an installed package\n",
    "new_path = os.path.realpath(os.path.join(os.getcwd(),\n",
    "                                         \"..\", \"..\"))\n",
    "if new_path not in sys.path:\n",
    "    sys.path.append(new_path)\n",
    "sys.path"
   ]
  },
  {
   "cell_type": "code",
   "execution_count": 8,
   "id": "cc978107-10dc-4acd-b536-4ce8a7440394",
   "metadata": {
    "scrolled": true
   },
   "outputs": [
    {
     "data": {
      "text/plain": [
       "'metaflow_pytorch_1'"
      ]
     },
     "execution_count": 8,
     "metadata": {},
     "output_type": "execute_result"
    }
   ],
   "source": [
    "import sys\n",
    "os.environ['conda_env'] = os.path.basename(sys.prefix)\n",
    "os.environ['conda_env']"
   ]
  },
  {
   "cell_type": "code",
   "execution_count": 9,
   "id": "4529e8eb-cc22-4cce-8328-fc5361b65de0",
   "metadata": {},
   "outputs": [],
   "source": [
    "mf_flow_name = \"TabNetHpCvWandbFlow\"\n",
    "os.environ['pipeline_hp_grid'] = \"{}\""
   ]
  },
  {
   "cell_type": "code",
   "execution_count": 10,
   "id": "115058e8-ce1f-4b4d-aeaf-a8e3b88b5278",
   "metadata": {
    "scrolled": true
   },
   "outputs": [
    {
     "name": "stdout",
     "output_type": "stream",
     "text": [
      "NVIDIA GeForce GTX 1060\n"
     ]
    },
    {
     "data": {
      "text/plain": [
       "'1.13.1.post200'"
      ]
     },
     "execution_count": 10,
     "metadata": {},
     "output_type": "execute_result"
    }
   ],
   "source": [
    "import torch\n",
    "print(torch.cuda.get_device_name(0))\n",
    "torch.__version__"
   ]
  },
  {
   "cell_type": "code",
   "execution_count": 0,
   "id": "fc4f750f-8567-4ac7-86ec-aee6716b47be",
   "metadata": {
    "code_folding": [
     2
    ],
    "jupyter": {
     "source_hidden": true
    }
   },
   "outputs": [
    {
     "name": "stdout",
     "output_type": "stream",
     "text": [
      "Jupyter history has been reset.\n"
     ]
    },
    {
     "data": {
      "text/plain": [
       "0"
      ]
     },
     "execution_count": 0,
     "metadata": {},
     "output_type": "execute_result"
    }
   ],
   "source": [
    "from IPython import get_ipython\n",
    "\n",
    "def reset_jupyter_history():\n",
    "    \"\"\"\n",
    "    reset cell numbering\n",
    "    \"\"\"\n",
    "\n",
    "    import os\n",
    "    import sqlite3\n",
    "    from traitlets.config import Config\n",
    "    from IPython.core.history import HistoryManager\n",
    "    \n",
    "    ip = get_ipython()\n",
    "    \n",
    "    if ip is not None:\n",
    "        # Disable history temporarily\n",
    "        if hasattr(ip, 'history_manager'):\n",
    "            ip.history_manager.enabled = False\n",
    "        \n",
    "        # Get the path to the history database\n",
    "        hist_file = os.path.expanduser('~/.ipython/profile_default/history.sqlite')\n",
    "        if hasattr(ip, 'history_manager') and hasattr(ip.history_manager, 'hist_file'):\n",
    "            hist_file = ip.history_manager.hist_file\n",
    "        \n",
    "        if os.path.exists(hist_file):\n",
    "            # Close any existing connection\n",
    "            if hasattr(ip, 'history_manager') and hasattr(ip.history_manager, 'db') and ip.history_manager.db is not None:\n",
    "                ip.history_manager.db.close()\n",
    "            \n",
    "            # Truncate the database\n",
    "            conn = sqlite3.connect(hist_file)\n",
    "            conn.execute(\"DELETE FROM history\")\n",
    "            conn.execute(\"DELETE FROM sqlite_sequence WHERE name='history'\")\n",
    "            conn.commit()\n",
    "            conn.close()\n",
    "        \n",
    "        # Create a new Config object\n",
    "        c = Config()\n",
    "        c.HistoryManager.hist_file = hist_file\n",
    "        \n",
    "        # Create a new HistoryManager instance\n",
    "        new_history_manager = HistoryManager(shell=ip, config=c)\n",
    "        \n",
    "        # Assign the new history manager to the shell\n",
    "        ip.history_manager = new_history_manager\n",
    "        \n",
    "        # Enable history\n",
    "        ip.history_manager.enabled = True\n",
    "\n",
    "        ip.kernel.shell.execution_count = 0\n",
    "        \n",
    "        print(\"Jupyter history has been reset.\")\n",
    "    else:\n",
    "        print(\"This function must be run within a Jupyter notebook.\")\n",
    "\n",
    "reset_jupyter_history()\n",
    "get_ipython().kernel.shell.execution_count"
   ]
  },
  {
   "cell_type": "markdown",
   "id": "15f1b41d-733a-40a9-b855-e59435c21a81",
   "metadata": {},
   "source": [
    "<hr />"
   ]
  },
  {
   "cell_type": "markdown",
   "id": "eafc989c-785f-4b86-8ff2-9604178bf84a",
   "metadata": {
    "heading_collapsed": true,
    "jp-MarkdownHeadingCollapsed": true,
    "tags": []
   },
   "source": [
    "# Generate data"
   ]
  },
  {
   "cell_type": "code",
   "execution_count": 7,
   "id": "1cbc89f5-18b2-403b-9755-cf11866b8a90",
   "metadata": {
    "hidden": true
   },
   "outputs": [
    {
     "name": "stdout",
     "output_type": "stream",
     "text": [
      "Classes priors: [24.8, 35.7, 25.0, 14.5]%\n",
      "  categ_feature0  num_feature1  num_feature2  num_feature3  num_feature4  \\\n",
      "0         value1           0.3          15.8           0.3           2.2   \n",
      "1         value1           0.9          63.9           3.4           4.8   \n",
      "2         value9           0.4          34.6           0.4           7.8   \n",
      "3         value5           3.8          23.3           6.1           2.2   \n",
      "4         value6           0.1          20.6           0.0           1.3   \n",
      "\n",
      "    target  \n",
      "0  class_0  \n",
      "1  class_2  \n",
      "2  class_1  \n",
      "3  class_1  \n",
      "4  class_0  \n"
     ]
    }
   ],
   "source": [
    "from retrain_pipelines.dataset import DatasetType, pseudo_random_generate\n",
    "\n",
    "# Define the number of samples\n",
    "num_samples = 10_000 # 500 # 10 # 1_500 # \n",
    "\n",
    "data = pseudo_random_generate(DatasetType.TABULAR_CLASSIFICATION, num_samples)\n",
    "\n",
    "# Display the first few rows of the dataset\n",
    "print(data.head())\n",
    "#data.to_csv(os.path.realpath(os.path.join('..', 'data', 'synthetic_classif_tab_data_4classes.csv')), index=False)"
   ]
  },
  {
   "cell_type": "code",
   "execution_count": null,
   "id": "e6b9213c-7ad7-4e99-ad7e-0344183f0cd2",
   "metadata": {
    "hidden": true
   },
   "outputs": [],
   "source": [
    "#from sklearn.preprocessing import StandardScaler, \\\n",
    "#                                  OneHotEncoder\n",
    "#\n",
    "#os.environ[\"ml_pipeline_type\"] = \"tabnet_classif_torchserve\"\n",
    "#\n",
    "#from retrain_pipelines.model import preprocess_data_fct\n",
    "#\n",
    "#scaler = StandardScaler()\n",
    "#encoder = OneHotEncoder(sparse_output=False, drop=None)\n",
    "#pp_data = preprocess_data_fct(data, scaler, encoder,\n",
    "#                    buckets={'num_feature1': [-1.002, -0.6, -0.19999999999999996, 0.20000000000000018, 0.6000000000000001, 1.0],\n",
    "#                             'num_feature2': 15},\n",
    "#                    is_training=True)\n",
    "#\n",
    "#del os.environ[\"ml_pipeline_type\"]\n",
    "#\n",
    "#display(pp_data)\n",
    "#display(scaler)\n",
    "#display(encoder)"
   ]
  },
  {
   "cell_type": "code",
   "execution_count": null,
   "id": "bde75edb-4166-4e77-8551-1e1f62649f14",
   "metadata": {
    "hidden": true
   },
   "outputs": [],
   "source": [
    "from retrain_pipelines.dataset import features_desc\n",
    "pd.DataFrame([features_desc(data)])"
   ]
  },
  {
   "cell_type": "code",
   "execution_count": null,
   "id": "5f1c6918-fc20-4307-829f-98a6b3c3cf69",
   "metadata": {
    "hidden": true
   },
   "outputs": [],
   "source": [
    "from retrain_pipelines.dataset import features_distri_plot\n",
    "display(features_distri_plot(data))"
   ]
  },
  {
   "cell_type": "code",
   "execution_count": null,
   "id": "8e017b2f-2ad9-4f16-9f86-508e241dd20b",
   "metadata": {
    "hidden": true
   },
   "outputs": [],
   "source": [
    "from retrain_pipelines.dataset.features_dependencies import dataset_to_heatmap_fig\n",
    "heatmap_fig, ax = dataset_to_heatmap_fig(data)\n",
    "heatmap_fig.patch.set_facecolor((1.0, 1.0, 1.0, 0.6))\n",
    "display(heatmap_fig)"
   ]
  },
  {
   "cell_type": "markdown",
   "id": "756a3813-ef9c-413e-8c77-a3d1c714996a",
   "metadata": {
    "hidden": true
   },
   "source": [
    "<hr />"
   ]
  },
  {
   "cell_type": "markdown",
   "id": "dae64608-27d4-4bc9-bb8c-49f1022d2d4f",
   "metadata": {
    "heading_collapsed": true,
    "jp-MarkdownHeadingCollapsed": true
   },
   "source": [
    "# TabNet"
   ]
  },
  {
   "cell_type": "code",
   "execution_count": 12,
   "id": "4352bd6e-6eeb-4a89-9da8-4d21dca8b6fa",
   "metadata": {
    "hidden": true
   },
   "outputs": [],
   "source": [
    "pipeline_hp_grid = {\n",
    "    \"trainer\": {\n",
    "        \"max_epochs\":[30, 50], #sys.maxsize,\n",
    "        \"patience\":[100],\n",
    "        \"batch_size\":[1024],\n",
    "        \"virtual_batch_size\":[256],\n",
    "    },\n",
    "    \"model\": {\n",
    "        \"n_d\":[64],\n",
    "        \"n_a\":[64],\n",
    "        \"n_steps\":[5],\n",
    "        \"gamma\":[1.5],\n",
    "        \"n_independent\":[2],\n",
    "        \"n_shared\":[2],\n",
    "        \"lambda_sparse\":[1e-4],\n",
    "        \"momentum\":[0.3],\n",
    "        \"clip_value\":[2.],\n",
    "        \"optimizer_fn\":[\"torch.optim.Adam\"],\n",
    "        \"optimizer_params\":[dict(lr=2e-2)],\n",
    "        \"scheduler_params\":[{\"gamma\": 0.80,\n",
    "                            \"step_size\": 20}],\n",
    "        \"scheduler_fn\":[\"torch.optim.lr_scheduler.StepLR\"],\n",
    "        \"epsilon\":[1e-15]\n",
    "    }\n",
    "}"
   ]
  },
  {
   "cell_type": "code",
   "execution_count": 13,
   "id": "18316626-942a-462b-b69d-111be0fab06b",
   "metadata": {
    "hidden": true
   },
   "outputs": [
    {
     "name": "stdout",
     "output_type": "stream",
     "text": [
      "{\"trainer\": {\"max_epochs\": [30, 50], \"patience\": [100], \"batch_size\": [1024], \"virtual_batch_size\": [256]}, \"model\": {\"n_d\": [64], \"n_a\": [64], \"n_steps\": [5], \"gamma\": [1.5], \"n_independent\": [2], \"n_shared\": [2], \"lambda_sparse\": [0.0001], \"momentum\": [0.3], \"clip_value\": [2.0], \"optimizer_fn\": [\"torch.optim.Adam\"], \"optimizer_params\": [{\"lr\": 0.02}], \"scheduler_params\": [{\"gamma\": 0.8, \"step_size\": 20}], \"scheduler_fn\": [\"torch.optim.lr_scheduler.StepLR\"], \"epsilon\": [1e-15]}}\n"
     ]
    }
   ],
   "source": [
    "from textwrap import dedent\n",
    "#os.environ['pipeline_hp_grid'] = str(json.dumps(dedent(\"\"\"{pipeline_hp_grid}\"\"\".format(pipeline_hp_grid=pipeline_hp_grid))))\n",
    "#print(os.environ['pipeline_hp_grid'])\n",
    "os.environ['pipeline_hp_grid'] = str(json.dumps(dedent(\"\"\"{pipeline_hp_grid}\"\"\".format(pipeline_hp_grid=pipeline_hp_grid)))).replace(\"'\", '\"').strip('\"')\n",
    "print(os.environ['pipeline_hp_grid'])"
   ]
  },
  {
   "cell_type": "code",
   "execution_count": 14,
   "id": "b55f0494-fbb7-4725-bf0c-551087440444",
   "metadata": {
    "hidden": true
   },
   "outputs": [
    {
     "data": {
      "text/plain": [
       "{'trainer': {'max_epochs': 30,\n",
       "  'patience': 100,\n",
       "  'batch_size': 1024,\n",
       "  'virtual_batch_size': 256},\n",
       " 'model': {'n_d': 64,\n",
       "  'n_a': 64,\n",
       "  'n_steps': 5,\n",
       "  'gamma': 1.5,\n",
       "  'n_independent': 2,\n",
       "  'n_shared': 2,\n",
       "  'lambda_sparse': 0.0001,\n",
       "  'momentum': 0.3,\n",
       "  'clip_value': 2.0,\n",
       "  'optimizer_fn': torch.optim.adam.Adam,\n",
       "  'optimizer_params': {'lr': 0.02},\n",
       "  'scheduler_params': {'gamma': 0.8, 'step_size': 20},\n",
       "  'scheduler_fn': torch.optim.lr_scheduler.StepLR,\n",
       "  'epsilon': 1e-15}}"
      ]
     },
     "execution_count": 14,
     "metadata": {},
     "output_type": "execute_result"
    }
   ],
   "source": [
    "from retrain_pipelines.utils import dict_dict_list_get_all_combinations\n",
    "\n",
    "# Get all possible combinations\n",
    "all_hp_combinations = dict_dict_list_get_all_combinations(pipeline_hp_grid)\n",
    "# pick first\n",
    "all_hp_combinations[0]"
   ]
  },
  {
   "cell_type": "code",
   "execution_count": 15,
   "id": "c95182f1-0421-4be6-b531-c13eb7b22ca4",
   "metadata": {
    "hidden": true
   },
   "outputs": [
    {
     "data": {
      "text/plain": [
       "array(['class_2', 'class_0', 'class_1', 'class_3'], dtype=object)"
      ]
     },
     "execution_count": 15,
     "metadata": {},
     "output_type": "execute_result"
    }
   ],
   "source": [
    "from pytorch_tabnet.tab_model import TabNetClassifier\n",
    "\n",
    "if 'target' in data:\n",
    "    y = data.pop('target')\n",
    "y.unique()"
   ]
  },
  {
   "cell_type": "code",
   "execution_count": 16,
   "id": "0c7b1237-029a-4fc9-8810-433c85555908",
   "metadata": {
    "hidden": true
   },
   "outputs": [
    {
     "name": "stdout",
     "output_type": "stream",
     "text": [
      "buckets_dict : {'num_feature1': [-0.0871, 17.419999999999998, 34.839999999999996, 52.25999999999999, 69.67999999999999, 87.1]}\n",
      "encoder_dict : {'categ_feature0': ['value1', 'value2', 'value3', 'value4', 'value5', 'value6', 'value7', 'value8', 'value9'], 'bucketized_num_feature1': ['bucket1', 'bucket2', 'bucket3', 'bucket4', 'bucket5']}\n",
      "grouped_features : [[0, 1, 2, 3, 4, 5, 6, 7, 8], [9, 10, 11, 12, 13]]\n",
      "scaler_dict : {'mean': [28.26166, 2.9746200000000003, 6.9202699999999995], 'std_dev': [19.058544751486142, 2.6654729140623434, 33.64979352280041]}\n"
     ]
    },
    {
     "data": {
      "text/plain": [
       "(17,\n",
       " Index(['categ_feature0_value1', 'categ_feature0_value2',\n",
       "        'categ_feature0_value3', 'categ_feature0_value4',\n",
       "        'categ_feature0_value5', 'categ_feature0_value6',\n",
       "        'categ_feature0_value7', 'categ_feature0_value8',\n",
       "        'categ_feature0_value9', 'bucketized_num_feature1_bucket1',\n",
       "        'bucketized_num_feature1_bucket2', 'bucketized_num_feature1_bucket3',\n",
       "        'bucketized_num_feature1_bucket4', 'bucketized_num_feature1_bucket5',\n",
       "        'num_feature2_scaled', 'num_feature3_scaled', 'num_feature4_scaled'],\n",
       "       dtype='object'))"
      ]
     },
     "execution_count": 16,
     "metadata": {},
     "output_type": "execute_result"
    }
   ],
   "source": [
    "from sklearn.preprocessing import StandardScaler, \\\n",
    "                                  OneHotEncoder\n",
    "os.environ[\"ml_pipeline_type\"] = \"mf_tabnet_classif_torchserve\"\n",
    "from ml_pipelines.model import preprocess_data_fct\n",
    "\n",
    "scaler = StandardScaler()\n",
    "encoder = OneHotEncoder(sparse_output=False, drop=None)\n",
    "buckets={'num_feature1': 5}\n",
    "grouped_features = []\n",
    "X_transformed = preprocess_data_fct(data, scaler, encoder,\n",
    "                                    buckets=buckets,\n",
    "                                    grouped_features=grouped_features,\n",
    "                                    is_training=True)\n",
    "len(X_transformed.columns), X_transformed.columns"
   ]
  },
  {
   "cell_type": "code",
   "execution_count": 17,
   "id": "30942bf4-e84a-4ec3-853d-7c14357e1ae3",
   "metadata": {
    "hidden": true
   },
   "outputs": [
    {
     "name": "stderr",
     "output_type": "stream",
     "text": [
      "/home/organization/miniforge3/envs/metaflow_pytorch_1/lib/python3.9/site-packages/pytorch_tabnet/abstract_model.py:82: UserWarning: Device used : cuda\n",
      "  warnings.warn(f\"Device used : {self.device}\")\n"
     ]
    }
   ],
   "source": [
    "clf = TabNetClassifier(\n",
    "    **all_hp_combinations[0]['model'],\n",
    "    grouped_features=grouped_features\n",
    ")"
   ]
  },
  {
   "cell_type": "code",
   "execution_count": 18,
   "id": "47658100-aa64-4776-9227-fb8b718f3132",
   "metadata": {
    "hidden": true
   },
   "outputs": [],
   "source": [
    "from sklearn.model_selection import train_test_split\n",
    "\n",
    "train_idx, test_idx = train_test_split(\n",
    "    range(len(X_transformed)), test_size=0.2, random_state=0)\n",
    "\n",
    "X_train = X_transformed.values[train_idx]\n",
    "y_train = y.values[train_idx]\n",
    "X_valid = X_transformed.values[test_idx]\n",
    "y_valid = y.values[test_idx]"
   ]
  },
  {
   "cell_type": "code",
   "execution_count": 19,
   "id": "36e8ddf9-a8ee-44bf-8116-3a0f548d8253",
   "metadata": {
    "hidden": true
   },
   "outputs": [],
   "source": [
    "from pytorch_tabnet.callbacks import Callback\n",
    "import wandb\n",
    "\n",
    "class PrintLR(Callback):\n",
    "    def __init__(self):\n",
    "        self.previous_lr = None\n",
    "\n",
    "    def on_epoch_end(self, epoch, logs=None):\n",
    "        current_lr = self.trainer.optimizer_params['lr']\n",
    "        if self.previous_lr is None or current_lr != self.previous_lr:\n",
    "            print(f\"Epoch {epoch+1}: Learning rate changed to {current_lr:.6f}\")\n",
    "        self.previous_lr = current_lr\n",
    "\n",
    "class WandbCallback(Callback):\n",
    "    def on_epoch_end(self, epoch, logs=None):\n",
    "        wandb.log({\"epoch\": epoch + 1, **logs})\n",
    "\n",
    "    def on_train_end(self, logs=None):\n",
    "        wandb.finish()"
   ]
  },
  {
   "cell_type": "code",
   "execution_count": 20,
   "id": "044592b0-486d-4481-b98d-e6aecaf17cb4",
   "metadata": {
    "hidden": true
   },
   "outputs": [],
   "source": [
    "#help(clf.fit)"
   ]
  },
  {
   "cell_type": "code",
   "execution_count": 21,
   "id": "0406d42a-0666-4eee-9534-472ec50d7500",
   "metadata": {
    "hidden": true,
    "scrolled": true
   },
   "outputs": [
    {
     "name": "stdout",
     "output_type": "stream",
     "text": [
      "epoch 0  | loss: 1.11493 | train_accuracy: 0.76512 | valid_accuracy: 0.7745  |  0:00:00s\n",
      "Epoch 1: Learning rate changed to 0.020000\n",
      "epoch 1  | loss: 0.59974 | train_accuracy: 0.7845  | valid_accuracy: 0.7905  |  0:00:01s\n",
      "epoch 2  | loss: 0.5582  | train_accuracy: 0.7725  | valid_accuracy: 0.7865  |  0:00:02s\n",
      "epoch 3  | loss: 0.51137 | train_accuracy: 0.76825 | valid_accuracy: 0.7765  |  0:00:03s\n",
      "epoch 4  | loss: 0.48597 | train_accuracy: 0.80988 | valid_accuracy: 0.8185  |  0:00:03s\n",
      "epoch 5  | loss: 0.47276 | train_accuracy: 0.76262 | valid_accuracy: 0.772   |  0:00:04s\n",
      "epoch 6  | loss: 0.46877 | train_accuracy: 0.801   | valid_accuracy: 0.806   |  0:00:05s\n",
      "epoch 7  | loss: 0.47039 | train_accuracy: 0.80638 | valid_accuracy: 0.8115  |  0:00:06s\n",
      "epoch 8  | loss: 0.45917 | train_accuracy: 0.80338 | valid_accuracy: 0.8065  |  0:00:06s\n",
      "epoch 9  | loss: 0.45358 | train_accuracy: 0.81812 | valid_accuracy: 0.821   |  0:00:07s\n",
      "epoch 10 | loss: 0.45467 | train_accuracy: 0.80812 | valid_accuracy: 0.801   |  0:00:08s\n",
      "epoch 11 | loss: 0.47007 | train_accuracy: 0.80412 | valid_accuracy: 0.8135  |  0:00:09s\n",
      "epoch 12 | loss: 0.45568 | train_accuracy: 0.80888 | valid_accuracy: 0.816   |  0:00:09s\n",
      "epoch 13 | loss: 0.45557 | train_accuracy: 0.81225 | valid_accuracy: 0.809   |  0:00:10s\n",
      "epoch 14 | loss: 0.47523 | train_accuracy: 0.8275  | valid_accuracy: 0.8335  |  0:00:11s\n",
      "epoch 15 | loss: 0.44221 | train_accuracy: 0.7895  | valid_accuracy: 0.81    |  0:00:12s\n",
      "epoch 16 | loss: 0.43925 | train_accuracy: 0.81375 | valid_accuracy: 0.8305  |  0:00:12s\n",
      "epoch 17 | loss: 0.45122 | train_accuracy: 0.8195  | valid_accuracy: 0.8245  |  0:00:13s\n",
      "epoch 18 | loss: 0.45128 | train_accuracy: 0.81012 | valid_accuracy: 0.8185  |  0:00:14s\n",
      "epoch 19 | loss: 0.43526 | train_accuracy: 0.81638 | valid_accuracy: 0.8145  |  0:00:15s\n",
      "epoch 20 | loss: 0.44176 | train_accuracy: 0.82212 | valid_accuracy: 0.821   |  0:00:15s\n",
      "epoch 21 | loss: 0.4245  | train_accuracy: 0.82588 | valid_accuracy: 0.8255  |  0:00:16s\n",
      "epoch 22 | loss: 0.42997 | train_accuracy: 0.82388 | valid_accuracy: 0.826   |  0:00:17s\n",
      "epoch 23 | loss: 0.43425 | train_accuracy: 0.82275 | valid_accuracy: 0.826   |  0:00:18s\n",
      "epoch 24 | loss: 0.43773 | train_accuracy: 0.82075 | valid_accuracy: 0.8265  |  0:00:19s\n",
      "epoch 25 | loss: 0.4305  | train_accuracy: 0.80675 | valid_accuracy: 0.815   |  0:00:19s\n",
      "epoch 26 | loss: 0.44298 | train_accuracy: 0.8315  | valid_accuracy: 0.8245  |  0:00:20s\n",
      "epoch 27 | loss: 0.44844 | train_accuracy: 0.82488 | valid_accuracy: 0.8215  |  0:00:21s\n",
      "epoch 28 | loss: 0.42883 | train_accuracy: 0.821   | valid_accuracy: 0.8245  |  0:00:22s\n",
      "epoch 29 | loss: 0.42355 | train_accuracy: 0.829   | valid_accuracy: 0.825   |  0:00:22s\n",
      "Stop training because you reached max_epochs = 30 with best_epoch = 14 and best_valid_accuracy = 0.8335\n"
     ]
    },
    {
     "name": "stderr",
     "output_type": "stream",
     "text": [
      "/home/organization/miniforge3/envs/metaflow_pytorch_1/lib/python3.9/site-packages/pytorch_tabnet/callbacks.py:172: UserWarning: Best weights from best epoch are automatically used!\n",
      "  warnings.warn(wrn_msg)\n"
     ]
    }
   ],
   "source": [
    "clf.fit(\n",
    "    X_train=X_train, y_train=y_train,\n",
    "    loss_fn=torch.nn.CrossEntropyLoss(),\n",
    "    eval_set=[(X_train, y_train), (X_valid, y_valid)],\n",
    "    eval_name=['train', 'valid'],\n",
    "    **all_hp_combinations[0]['trainer'],\n",
    "    augmentations=None,\n",
    "    drop_last=False,\n",
    "    callbacks=[PrintLR()]#, WandbCallback]\n",
    ")"
   ]
  },
  {
   "cell_type": "code",
   "execution_count": 22,
   "id": "7def8fdb-6e38-4f01-9f93-d308a464873c",
   "metadata": {
    "hidden": true
   },
   "outputs": [],
   "source": [
    "#clf.history"
   ]
  },
  {
   "cell_type": "code",
   "execution_count": 23,
   "id": "471c7e2a-1d19-4040-8e5d-cb7e1c5f32e4",
   "metadata": {
    "hidden": true
   },
   "outputs": [
    {
     "data": {
      "image/png": "[encoded data removed]",
      "text/plain": [
       "<Figure size 640x480 with 1 Axes>"
      ]
     },
     "metadata": {},
     "output_type": "display_data"
    },
    {
     "data": {
      "image/png": "[encoded data removed]",
      "text/plain": [
       "<Figure size 640x480 with 2 Axes>"
      ]
     },
     "metadata": {},
     "output_type": "display_data"
    }
   ],
   "source": [
    "from matplotlib import pyplot as plt\n",
    "%matplotlib inline\n",
    "\n",
    "plt.plot(clf.history['loss'])\n",
    "plt.show()\n",
    "\n",
    "epochs = range(1, len(clf.history['train_accuracy']) + 1)\n",
    "train_accuracy = clf.history['train_accuracy']\n",
    "valid_accuracy = clf.history['valid_accuracy']\n",
    "learning_rates = clf.history['lr']\n",
    "\n",
    "\n",
    "fig, ax1 = plt.subplots()\n",
    "\n",
    "# Plotting train_accuracy and valid_accuracy on the primary y-axis\n",
    "ax1.plot(epochs, train_accuracy, 'b-', label='Train Accuracy', zorder=2)\n",
    "ax1.plot(epochs, valid_accuracy, 'g-', label='Validation Accuracy', zorder=2)\n",
    "ax1.set_xlabel('Epochs')\n",
    "ax1.set_ylabel('Accuracy')\n",
    "ax1.tick_params(axis='y', labelcolor='black')\n",
    "\n",
    "# Create a secondary y-axis for the learning rates\n",
    "ax2 = ax1.twinx()\n",
    "ax2.plot(epochs, learning_rates, 'r-', label='Learning Rate', zorder=1)\n",
    "ax2.set_ylabel('Learning Rate', color='r')\n",
    "ax2.tick_params(axis='y', labelcolor='r')\n",
    "\n",
    "# Adding legends (making sure both ar above plots (zorder)\n",
    "handles1, labels1 = ax1.get_legend_handles_labels()\n",
    "handles2, labels2 = ax2.get_legend_handles_labels()\n",
    "first_legend = plt.legend(handles1, labels1, loc='upper right')\n",
    "ax2.add_artist(first_legend)\n",
    "ax2.legend(handles2, labels2, loc='upper left')\n",
    "\n",
    "# Show grid and plot\n",
    "plt.grid(True)\n",
    "plt.title('Training and Validation Accuracy with Learning Rates')\n",
    "plt.show()"
   ]
  },
  {
   "cell_type": "code",
   "execution_count": 24,
   "id": "b7819be4-9aca-4cbe-88fc-90f415172b43",
   "metadata": {
    "hidden": true
   },
   "outputs": [
    {
     "data": {
      "text/plain": [
       "array([[8.35684924e-11, 7.88313557e-08, 1.10517125e-04, 9.99889374e-01],\n",
       "       [5.71286670e-13, 5.69568448e-10, 3.57970725e-06, 9.99996424e-01],\n",
       "       [6.74554259e-02, 1.96318299e-01, 2.82912880e-01, 4.53313440e-01],\n",
       "       ...,\n",
       "       [6.87348321e-02, 3.54554296e-01, 3.76041651e-01, 2.00669229e-01],\n",
       "       [7.97084613e-06, 1.98343210e-03, 1.05365805e-01, 8.92642796e-01],\n",
       "       [4.68859040e-09, 1.48286872e-05, 3.24799446e-03, 9.96737182e-01]],\n",
       "      dtype=float32)"
      ]
     },
     "execution_count": 24,
     "metadata": {},
     "output_type": "execute_result"
    }
   ],
   "source": [
    "clf.predict_proba(X_valid)"
   ]
  },
  {
   "cell_type": "code",
   "execution_count": 25,
   "id": "75a6a4f0-8124-45ea-a4c1-f233a1cb1779",
   "metadata": {
    "hidden": true
   },
   "outputs": [
    {
     "data": {
      "text/plain": [
       "array(['class_3', 'class_3', 'class_3', ..., 'class_2', 'class_3',\n",
       "       'class_3'], dtype='<U7')"
      ]
     },
     "metadata": {},
     "output_type": "display_data"
    },
    {
     "name": "stdout",
     "output_type": "stream",
     "text": [
      "BEST VALID SCORE : 0.8335\n",
      "FINAL TEST SCORE : 0.8335\n"
     ]
    }
   ],
   "source": [
    "import numpy as np\n",
    "from sklearn.metrics import accuracy_score\n",
    "\n",
    "y_pred = clf.predict(X_valid) # I know, measuring model perf' on valid dataset is stooop'\n",
    "display(y_pred)\n",
    "test_acc = accuracy_score(y_pred=y_pred, y_true=y_valid)\n",
    "\n",
    "print(f\"BEST VALID SCORE : {clf.best_cost}\")\n",
    "print(f\"FINAL TEST SCORE : {test_acc}\")"
   ]
  },
  {
   "cell_type": "code",
   "execution_count": 26,
   "id": "431631d0-c1df-4495-add8-f0724cacb52f",
   "metadata": {
    "hidden": true
   },
   "outputs": [
    {
     "data": {
      "image/png": "[encoded data removed]",
      "text/plain": [
       "<Figure size 2000x2000 with 5 Axes>"
      ]
     },
     "metadata": {},
     "output_type": "display_data"
    }
   ],
   "source": [
    "explain_matrix, masks = clf.explain(X_valid) # change to holdout dataset here too\n",
    "\n",
    "fig, axs = plt.subplots(1, 5, figsize=(20,20))\n",
    "\n",
    "for i in range(5):\n",
    "    axs[i].imshow(masks[i][:50])\n",
    "    axs[i].set_title(f\"mask {i}\")"
   ]
  },
  {
   "cell_type": "code",
   "execution_count": 27,
   "id": "f5289077-dd9a-4bcf-9c4d-c6c7c16df70d",
   "metadata": {
    "hidden": true
   },
   "outputs": [
    {
     "data": {
      "text/plain": [
       "array(['class_2', 'class_0', 'class_0', ..., 'class_2', 'class_2',\n",
       "       'class_3'], dtype='<U7')"
      ]
     },
     "execution_count": 27,
     "metadata": {},
     "output_type": "execute_result"
    }
   ],
   "source": [
    "y_pred"
   ]
  },
  {
   "cell_type": "code",
   "execution_count": 28,
   "id": "5f682860-ae1f-404c-a679-1c83cd338874",
   "metadata": {
    "hidden": true
   },
   "outputs": [
    {
     "data": {
      "text/plain": [
       "(2000, 12)"
      ]
     },
     "execution_count": 28,
     "metadata": {},
     "output_type": "execute_result"
    }
   ],
   "source": [
    "X_valid.shape"
   ]
  },
  {
   "cell_type": "code",
   "execution_count": 29,
   "id": "2111f4cd-ec25-4a09-bb9e-4863fbce7433",
   "metadata": {
    "hidden": true
   },
   "outputs": [
    {
     "data": {
      "text/plain": [
       "array([0.02121709, 0.02121709, 0.02121709, 0.02121709, 0.04760441,\n",
       "       0.04760441, 0.04760441, 0.04760441, 0.04760441, 0.1187497 ,\n",
       "       0.42452973, 0.13383015])"
      ]
     },
     "execution_count": 29,
     "metadata": {},
     "output_type": "execute_result"
    }
   ],
   "source": [
    "clf.feature_importances_"
   ]
  },
  {
   "cell_type": "code",
   "execution_count": 30,
   "id": "87da39d3-cafa-4ec1-bf5d-74779ab03299",
   "metadata": {
    "hidden": true
   },
   "outputs": [
    {
     "data": {
      "text/plain": [
       "[[0, 1, 2, 3], [4, 5, 6, 7, 8]]"
      ]
     },
     "execution_count": 30,
     "metadata": {},
     "output_type": "execute_result"
    }
   ],
   "source": [
    "clf.grouped_features"
   ]
  },
  {
   "cell_type": "code",
   "execution_count": null,
   "id": "86cee012-b198-473f-9edf-aedc93943a2f",
   "metadata": {
    "hidden": true
   },
   "outputs": [],
   "source": []
  },
  {
   "cell_type": "code",
   "execution_count": 31,
   "id": "31292640-05a8-4264-a15d-3f993e7cf992",
   "metadata": {
    "hidden": true
   },
   "outputs": [
    {
     "data": {
      "text/plain": [
       "'class Callback:\\n    \"\"\"\\n    Abstract base class used to build new callbacks.\\n    \"\"\"\\n\\n    def __init__(self):\\n        pass\\n\\n    def set_params(self, params):\\n        self.params = params\\n\\n    def set_trainer(self, model):\\n        self.trainer = model\\n\\n    def on_epoch_begin(self, epoch, logs=None):\\n        pass\\n\\n    def on_epoch_end(self, epoch, logs=None):\\n        pass\\n\\n    def on_batch_begin(self, batch, logs=None):\\n        pass\\n\\n    def on_batch_end(self, batch, logs=None):\\n        pass\\n\\n    def on_train_begin(self, logs=None):\\n        pass\\n\\n    def on_train_end(self, logs=None):\\n        pass\\n'"
      ]
     },
     "execution_count": 31,
     "metadata": {},
     "output_type": "execute_result"
    }
   ],
   "source": [
    "import inspect\n",
    "from pytorch_tabnet.callbacks import Callback\n",
    "inspect.getsource(Callback)"
   ]
  },
  {
   "cell_type": "markdown",
   "id": "a4edf077-e684-49cd-a2f4-41968f496297",
   "metadata": {
    "hidden": true
   },
   "source": [
    "<hr />"
   ]
  },
  {
   "cell_type": "markdown",
   "id": "71f6b0f2-8745-4de3-91cb-4f4a2fb39e59",
   "metadata": {},
   "source": [
    "# Metaflow Run"
   ]
  },
  {
   "cell_type": "markdown",
   "id": "dddf771c-7d06-4b2c-8d95-c61acc066590",
   "metadata": {},
   "source": [
    "Chosse which domain shall be considered for the HP tuning grid search&nbsp;:"
   ]
  },
  {
   "cell_type": "code",
   "execution_count": 1,
   "id": "acf1bb8b-4237-4e26-895b-2728680fb7f8",
   "metadata": {},
   "outputs": [
    {
     "name": "stdout",
     "output_type": "stream",
     "text": [
      "{\"trainer\": {\"max_epochs\": [100], \"patience\": [10], \"batch_size\": [1024], \"virtual_batch_size\": [256]}, \"model\": {\"n_d\": [64], \"n_a\": [64], \"n_steps\": [6], \"gamma\": [1.5], \"n_independent\": [2], \"n_shared\": [2], \"lambda_sparse\": [0.0001], \"momentum\": [0.3], \"clip_value\": [2.0], \"optimizer_fn\": [\"torch.optim.Adam\"], \"optimizer_params\": [{\"lr\": 0.02}, {\"lr\": 0.1}], \"scheduler_params\": [{\"gamma\": 0.8, \"step_size\": 20}], \"scheduler_fn\": [\"torch.optim.lr_scheduler.StepLR\"], \"epsilon\": [1e-15]}}\n"
     ]
    }
   ],
   "source": [
    "pipeline_hp_grid = {\n",
    "    \"trainer\": {\n",
    "        \"max_epochs\":[100], #sys.maxsize,\n",
    "        \"patience\":[10],\n",
    "        \"batch_size\":[1024],\n",
    "        \"virtual_batch_size\":[256],\n",
    "    },\n",
    "    \"model\": {\n",
    "        \"n_d\":[64],\n",
    "        \"n_a\":[64],\n",
    "        \"n_steps\":[6],\n",
    "        \"gamma\":[1.5],\n",
    "        \"n_independent\":[2],\n",
    "        \"n_shared\":[2],\n",
    "        \"lambda_sparse\":[1e-4],\n",
    "        \"momentum\":[0.3],\n",
    "        \"clip_value\":[2.],\n",
    "        \"optimizer_fn\":[\"torch.optim.Adam\"],\n",
    "        \"optimizer_params\":[dict(lr=2e-2), dict(lr=0.1)],\n",
    "        \"scheduler_params\":[{\"gamma\": 0.80,\n",
    "                            \"step_size\": 20}],\n",
    "        \"scheduler_fn\":[\"torch.optim.lr_scheduler.StepLR\"],\n",
    "        \"epsilon\":[1e-15]\n",
    "    }\n",
    "}\n",
    "from textwrap import dedent\n",
    "os.environ['pipeline_hp_grid'] = str(json.dumps(dedent(\"\"\"{pipeline_hp_grid}\"\"\".format(pipeline_hp_grid=pipeline_hp_grid)))).replace(\"'\", '\"').strip('\"')\n",
    "print(os.environ['pipeline_hp_grid'])"
   ]
  },
  {
   "cell_type": "markdown",
   "id": "18a2d686-3854-4354-ac2a-2f69ee54d3d0",
   "metadata": {
    "collapsed": true,
    "jupyter": {
     "outputs_hidden": true
    },
    "tags": []
   },
   "source": [
    "## Run flow"
   ]
  },
  {
   "cell_type": "code",
   "execution_count": 2,
   "id": "475c78bb-9ff6-474b-8935-dbc55b1957ef",
   "metadata": {},
   "outputs": [
    {
     "data": {
      "text/html": [
       "\n",
       "        <style>\n",
       "        .wave-container {\n",
       "            display: inline-block;\n",
       "            padding: 5px 10px;\n",
       "            border-radius: 5px;\n",
       "            background-color: black;\n",
       "            font-family: monospace;\n",
       "        }\n",
       "        .wave-yellow { color: #FFD700; }\n",
       "        .wave-magenta { color: #FF00FF; font-weight: bold; }\n",
       "        </style>\n",
       "        <div class='wave-container'><span class='wave-yellow'>retrain-pipelines 0.0.0</span></div>"
      ],
      "text/plain": [
       "<IPython.core.display.HTML object>"
      ]
     },
     "metadata": {},
     "output_type": "display_data"
    }
   ],
   "source": [
    "%reload_ext retrain_pipelines.local_launcher_magic"
   ]
  },
  {
   "cell_type": "code",
   "execution_count": null,
   "id": "e7c9f6c4-ec1c-4e16-ae62-28b9ee41e59c",
   "metadata": {},
   "outputs": [],
   "source": [
    "%retrain_pipelines_local retraining_pipeline.py run --help"
   ]
  },
  {
   "cell_type": "code",
   "execution_count": 3,
   "id": "464135f0-ff8b-41ec-bcc0-6df3c4360c59",
   "metadata": {
    "scrolled": true
   },
   "outputs": [
    {
     "name": "stdout",
     "output_type": "stream",
     "text": [
      "\u001b[40m\u001b[33m retrain-pipelines 0.0.0 \u001b[0m\n",
      "\u001b[35m\u001b[1mMetaflow 2.10.0\u001b[0m\u001b[35m\u001b[22m executing \u001b[0m\u001b[31m\u001b[1mTabNetHpCvWandbFlow\u001b[0m\u001b[35m\u001b[22m\u001b[0m\u001b[35m\u001b[22m for \u001b[0m\u001b[31m\u001b[1muser:organization\u001b[0m\u001b[35m\u001b[22m\u001b[K\u001b[0m\u001b[35m\u001b[22m\u001b[0m\n",
      "\u001b[35m\u001b[22mValidating your flow...\u001b[K\u001b[0m\u001b[35m\u001b[22m\u001b[0m\n",
      "\u001b[32m\u001b[1m    The graph looks good!\u001b[K\u001b[0m\u001b[32m\u001b[1m\u001b[0m\n",
      "\u001b[35m\u001b[22mRunning pylint...\u001b[K\u001b[0m\u001b[35m\u001b[22m\u001b[0m\n",
      "\u001b[32m\u001b[22m    Pylint not found, so extra checks are disabled.\u001b[K\u001b[0m\u001b[32m\u001b[22m\u001b[0m\n",
      "\u001b[22mIncluding file /mnt/d/jupyter_notebooks/job_hunt/AWS/fresh_start/sample_pipelines/TabNet_hp_cv_WandB/../data/synthetic_classif_tab_data_4classes.csv of size 315KB \u001b[K\u001b[0m\u001b[22m\u001b[0m\n",
      "\u001b[35m2024-09-21 14:15:43.672 \u001b[0m\u001b[1mWorkflow starting (run-id 973):\u001b[0m\n",
      "\u001b[35m2024-09-21 14:15:44.089 \u001b[0m\u001b[32m[973/start/29573 (pid 10856)] \u001b[0m\u001b[1mTask is starting.\u001b[0m\n",
      "\u001b[35m2024-09-21 14:15:47.264 \u001b[0m\u001b[32m[973/start/29573 (pid 10856)] \u001b[0m\u001b[22mTabNetHpCvWandbFlow - 973\u001b[0m\n",
      "\u001b[35m2024-09-21 14:15:47.265 \u001b[0m\u001b[32m[973/start/29573 (pid 10856)] \u001b[0m\u001b[22m/home/organization/local_datastore/.metaflow/TabNetHpCvWandbFlow/973\u001b[0m\n",
      "\u001b[35m2024-09-21 14:15:49.187 \u001b[0m\u001b[32m[973/start/29573 (pid 10856)] \u001b[0m\u001b[1mTask finished successfully.\u001b[0m\n",
      "\u001b[35m2024-09-21 14:15:49.568 \u001b[0m\u001b[32m[973/eda/29574 (pid 10875)] \u001b[0m\u001b[1mTask is starting.\u001b[0m\n",
      "\u001b[35m2024-09-21 14:15:55.187 \u001b[0m\u001b[32m[973/eda/29574 (pid 10875)] \u001b[0m\u001b[1mTask finished successfully.\u001b[0m\n",
      "\u001b[35m2024-09-21 14:15:55.466 \u001b[0m\u001b[32m[973/preprocess_data/29575 (pid 10911)] \u001b[0m\u001b[1mTask is starting.\u001b[0m\n",
      "\u001b[35m2024-09-21 14:15:58.608 \u001b[0m\u001b[32m[973/preprocess_data/29575 (pid 10911)] \u001b[0m\u001b[22mbuckets_dict : {'num_feature2': [-0.245, 2.45, 4.9, 7.3500000000000005, 9.8, 12.25, 14.700000000000001, 17.150000000000002, 19.6, 22.05, 24.5, 26.950000000000003, 29.400000000000002, 31.85, 34.300000000000004, 36.75, 39.2, 41.650000000000006, 44.1, 46.550000000000004, 49.0, 51.45, 53.900000000000006, 56.35, 58.800000000000004, 61.25000000000001, 63.7, 66.15, 68.60000000000001, 71.05000000000001, 73.5, 75.95, 78.4, 80.85000000000001, 83.30000000000001, 85.75, 88.2, 90.65, 93.10000000000001, 95.55000000000001, 98.0, 100.45, 102.9, 105.35000000000001, 107.80000000000001, 110.25000000000001, 112.7, 115.15, 117.60000000000001, 120.05000000000001, 122.50000000000001, 124.95, 127.4, 129.85000000000002, 132.3, 134.75, 137.20000000000002, 139.65, 142.10000000000002, 144.55, 147.0, 149.45000000000002, 151.9, 154.35000000000002, 156.8, 159.25, 161.70000000000002, 164.15, 166.60000000000002, 169.05, 171.5, 173.95000000000002, 176.4, 178.85000000000002, 181.3, 183.75, 186.20000000000002, 188.65, 191.10000000000002, 193.55, 196.0, 198.45000000000002, 200.9, 203.35000000000002, 205.8, 208.25000000000003, 210.70000000000002, 213.15, 215.60000000000002, 218.05, 220.50000000000003, 222.95000000000002, 225.4, 227.85000000000002, 230.3, 232.75000000000003, 235.20000000000002, 237.65, 240.10000000000002, 242.55, 245.0], 'num_feature4': [-7293828452177388.0, 1.4587656904354778e+17, 2.9175313808709555e+17, 4.376297071306433e+17, 5.835062761741911e+17, 7.293828452177389e+17, 8.752594142612867e+17, 1.0211359833048344e+18, 1.1670125523483822e+18, 1.3128891213919299e+18, 1.4587656904354778e+18, 1.6046422594790257e+18, 1.7505188285225733e+18, 1.896395397566121e+18, 2.0422719666096689e+18, 2.1881485356532168e+18, 2.3340251046967644e+18, 2.479901673740312e+18, 2.6257782427838597e+18, 2.771654811827408e+18, 2.9175313808709555e+18, 3.063407949914503e+18, 3.2092845189580513e+18, 3.355161088001599e+18, 3.5010376570451466e+18, 3.6469142260886943e+18, 3.792790795132242e+18, 3.93866736417579e+18, 4.0845439332193377e+18, 4.2304205022628854e+18, 4.3762970713064335e+18, 4.522173640349981e+18, 4.668050209393529e+18, 4.813926778437077e+18, 4.959803347480624e+18, 5.105679916524172e+18, 5.251556485567719e+18, 5.397433054611268e+18, 5.543309623654816e+18, 5.689186192698363e+18, 5.835062761741911e+18, 5.980939330785459e+18, 6.126815899829006e+18, 6.272692468872554e+18, 6.418569037916103e+18, 6.56444560695965e+18, 6.710322176003198e+18, 6.856198745046745e+18, 7.002075314090293e+18, 7.147951883133841e+18, 7.293828452177389e+18]}\u001b[0m\n",
      "\u001b[35m2024-09-21 14:15:58.635 \u001b[0m\u001b[32m[973/preprocess_data/29575 (pid 10911)] \u001b[0m\u001b[22mencoder_dict : {'categ_feature0': ['value1', 'value2', 'value3', 'value4', 'value5', 'value6', 'value7', 'value8', 'value9'], 'bucketized_num_feature2': ['bucket001', 'bucket002', 'bucket003', 'bucket004', 'bucket005', 'bucket006', 'bucket007', 'bucket008', 'bucket009', 'bucket010', 'bucket011', 'bucket012', 'bucket013', 'bucket014', 'bucket015', 'bucket016', 'bucket017', 'bucket018', 'bucket019', 'bucket020', 'bucket021', 'bucket022', 'bucket023', 'bucket024', 'bucket025', 'bucket026', 'bucket027', 'bucket028', 'bucket029', 'bucket030', 'bucket031', 'bucket032', 'bucket033', 'bucket034', 'bucket035', 'bucket036', 'bucket037', 'bucket038', 'bucket039', 'bucket040', 'bucket041', 'bucket042', 'bucket043', 'bucket044', 'bucket045', 'bucket046', 'bucket047', 'bucket048', 'bucket049', 'bucket050', 'bucket051', 'bucket052', 'bucket053', 'bucket056', 'bucket057', 'bucket059', 'bucket066', 'bucket067', 'bucket068', 'bucket074', 'bucket079', 'bucket100'], 'bucketized_num_feature4': ['bucket01', 'bucket50']}\u001b[0m\n",
      "\u001b[35m2024-09-21 14:15:58.642 \u001b[0m\u001b[32m[973/preprocess_data/29575 (pid 10911)] \u001b[0m\u001b[22mgrouped_features : [[0, 1, 2, 3, 4, 5, 6, 7, 8], [9, 10, 11, 12, 13, 14, 15, 16, 17, 18, 19, 20, 21, 22, 23, 24, 25, 26, 27, 28, 29, 30, 31, 32, 33, 34, 35, 36, 37, 38, 39, 40, 41, 42, 43, 44, 45, 46, 47, 48, 49, 50, 51, 52, 53, 54, 55, 56, 57, 58, 59, 60, 61, 62, 63, 64, 65, 66, 67, 68, 69, 70], [71, 72]]\u001b[0m\n",
      "\u001b[35m2024-09-21 14:15:58.647 \u001b[0m\u001b[32m[973/preprocess_data/29575 (pid 10911)] \u001b[0m\u001b[22mscaler_dict : {'mean': [3.96412, 2.9877800000000003], 'std_dev': [5.571489982545064, 2.680538877091694]}\u001b[0m\n",
      "\u001b[35m2024-09-21 14:16:00.970 \u001b[0m\u001b[32m[973/preprocess_data/29575 (pid 10911)] \u001b[0m\u001b[1mTask finished successfully.\u001b[0m\n",
      "\u001b[35m2024-09-21 14:16:01.228 \u001b[0m\u001b[32m[973/split_data/29576 (pid 10945)] \u001b[0m\u001b[1mTask is starting.\u001b[0m\n",
      "\u001b[35m2024-09-21 14:16:06.883 \u001b[0m\u001b[32m[973/split_data/29576 (pid 10945)] \u001b[0m\u001b[1mTask finished successfully.\u001b[0m\n",
      "\u001b[35m2024-09-21 14:16:07.277 \u001b[0m\u001b[32m[973/hyper_tuning/29577 (pid 10962)] \u001b[0m\u001b[1mTask is starting.\u001b[0m\n",
      "\u001b[35m2024-09-21 14:16:12.519 \u001b[0m\u001b[32m[973/hyper_tuning/29577 (pid 10962)] \u001b[0m\u001b[1mForeach yields 2 child steps.\u001b[0m\n",
      "\u001b[35m2024-09-21 14:16:12.519 \u001b[0m\u001b[32m[973/hyper_tuning/29577 (pid 10962)] \u001b[0m\u001b[1mTask finished successfully.\u001b[0m\n",
      "\u001b[35m2024-09-21 14:16:12.778 \u001b[0m\u001b[32m[973/cross_validation/29578 (pid 10997)] \u001b[0m\u001b[1mTask is starting.\u001b[0m\n",
      "\u001b[35m2024-09-21 14:16:12.960 \u001b[0m\u001b[32m[973/cross_validation/29579 (pid 11007)] \u001b[0m\u001b[1mTask is starting.\u001b[0m\n",
      "\u001b[35m2024-09-21 14:16:16.112 \u001b[0m\u001b[32m[973/cross_validation/29578 (pid 10997)] \u001b[0m\u001b[22m29578: {'trainer': {'max_epochs': 100, 'patience': 10, 'batch_size': 1024, 'virtual_batch_size': 256}, 'model': {'n_d': 64, 'n_a': 64, 'n_steps': 6, 'gamma': 1.5, 'n_independent': 2, 'n_shared': 2, 'lambda_sparse': 0.0001, 'momentum': 0.3, 'clip_value': 2.0, 'optimizer_fn': <class 'torch.optim.adam.Adam'>, 'optimizer_params': {'lr': 0.02}, 'scheduler_params': {'gamma': 0.8, 'step_size': 20}, 'scheduler_fn': <class 'torch.optim.lr_scheduler.StepLR'>, 'epsilon': 1e-15}}\u001b[0m\n",
      "\u001b[35m2024-09-21 14:16:16.530 \u001b[0m\u001b[32m[973/cross_validation/29579 (pid 11007)] \u001b[0m\u001b[22m29579: {'trainer': {'max_epochs': 100, 'patience': 10, 'batch_size': 1024, 'virtual_batch_size': 256}, 'model': {'n_d': 64, 'n_a': 64, 'n_steps': 6, 'gamma': 1.5, 'n_independent': 2, 'n_shared': 2, 'lambda_sparse': 0.0001, 'momentum': 0.3, 'clip_value': 2.0, 'optimizer_fn': <class 'torch.optim.adam.Adam'>, 'optimizer_params': {'lr': 0.1}, 'scheduler_params': {'gamma': 0.8, 'step_size': 20}, 'scheduler_fn': <class 'torch.optim.lr_scheduler.StepLR'>, 'epsilon': 1e-15}}\u001b[0m\n",
      "\u001b[35m2024-09-21 14:16:19.566 \u001b[0m\u001b[32m[973/cross_validation/29578 (pid 10997)] \u001b[0m\u001b[1mForeach yields 2 child steps.\u001b[0m\n",
      "\u001b[35m2024-09-21 14:16:19.566 \u001b[0m\u001b[32m[973/cross_validation/29578 (pid 10997)] \u001b[0m\u001b[1mTask finished successfully.\u001b[0m\n",
      "\u001b[35m2024-09-21 14:16:19.819 \u001b[0m\u001b[32m[973/training_job/29580 (pid 11032)] \u001b[0m\u001b[1mTask is starting.\u001b[0m\n",
      "\u001b[35m2024-09-21 14:16:19.995 \u001b[0m\u001b[32m[973/training_job/29581 (pid 11043)] \u001b[0m\u001b[1mTask is starting.\u001b[0m\n",
      "\u001b[35m2024-09-21 14:16:19.997 \u001b[0m\u001b[32m[973/cross_validation/29579 (pid 11007)] \u001b[0m\u001b[1mForeach yields 2 child steps.\u001b[0m\n",
      "\u001b[35m2024-09-21 14:16:19.997 \u001b[0m\u001b[32m[973/cross_validation/29579 (pid 11007)] \u001b[0m\u001b[1mTask finished successfully.\u001b[0m\n"
     ]
    },
    {
     "name": "stdout",
     "output_type": "stream",
     "text": [
      "\u001b[35m2024-09-21 14:16:20.189 \u001b[0m\u001b[32m[973/training_job/29582 (pid 11069)] \u001b[0m\u001b[1mTask is starting.\u001b[0m\n",
      "\u001b[35m2024-09-21 14:16:20.610 \u001b[0m\u001b[32m[973/training_job/29583 (pid 11080)] \u001b[0m\u001b[1mTask is starting.\u001b[0m\n",
      "\u001b[35m2024-09-21 14:16:24.315 \u001b[0m\u001b[32m[973/training_job/29580 (pid 11032)] \u001b[0m\u001b[22mcross_validation 29578\u001b[0m\n",
      "\u001b[35m2024-09-21 14:16:24.317 \u001b[0m\u001b[32m[973/training_job/29580 (pid 11032)] \u001b[0m\u001b[22mhyperparameter values : {'trainer': {'max_epochs': 100, 'patience': 10, 'batch_size': 1024, 'virtual_batch_size': 256}, 'model': {'n_d': 64, 'n_a': 64, 'n_steps': 6, 'gamma': 1.5, 'n_independent': 2, 'n_shared': 2, 'lambda_sparse': 0.0001, 'momentum': 0.3, 'clip_value': 2.0, 'optimizer_fn': <class 'torch.optim.adam.Adam'>, 'optimizer_params': {'lr': 0.02}, 'scheduler_params': {'gamma': 0.8, 'step_size': 20}, 'scheduler_fn': <class 'torch.optim.lr_scheduler.StepLR'>, 'epsilon': 1e-15}}\u001b[0m\n",
      "\u001b[35m2024-09-21 14:16:24.345 \u001b[0m\u001b[32m[973/training_job/29581 (pid 11043)] \u001b[0m\u001b[22mcross_validation 29578\u001b[0m\n",
      "\u001b[35m2024-09-21 14:16:24.348 \u001b[0m\u001b[32m[973/training_job/29581 (pid 11043)] \u001b[0m\u001b[22mhyperparameter values : {'trainer': {'max_epochs': 100, 'patience': 10, 'batch_size': 1024, 'virtual_batch_size': 256}, 'model': {'n_d': 64, 'n_a': 64, 'n_steps': 6, 'gamma': 1.5, 'n_independent': 2, 'n_shared': 2, 'lambda_sparse': 0.0001, 'momentum': 0.3, 'clip_value': 2.0, 'optimizer_fn': <class 'torch.optim.adam.Adam'>, 'optimizer_params': {'lr': 0.02}, 'scheduler_params': {'gamma': 0.8, 'step_size': 20}, 'scheduler_fn': <class 'torch.optim.lr_scheduler.StepLR'>, 'epsilon': 1e-15}}\u001b[0m\n",
      "\u001b[35m2024-09-21 14:16:24.609 \u001b[0m\u001b[32m[973/training_job/29582 (pid 11069)] \u001b[0m\u001b[22mcross_validation 29579\u001b[0m\n",
      "\u001b[35m2024-09-21 14:16:24.612 \u001b[0m\u001b[32m[973/training_job/29582 (pid 11069)] \u001b[0m\u001b[22mhyperparameter values : {'trainer': {'max_epochs': 100, 'patience': 10, 'batch_size': 1024, 'virtual_batch_size': 256}, 'model': {'n_d': 64, 'n_a': 64, 'n_steps': 6, 'gamma': 1.5, 'n_independent': 2, 'n_shared': 2, 'lambda_sparse': 0.0001, 'momentum': 0.3, 'clip_value': 2.0, 'optimizer_fn': <class 'torch.optim.adam.Adam'>, 'optimizer_params': {'lr': 0.1}, 'scheduler_params': {'gamma': 0.8, 'step_size': 20}, 'scheduler_fn': <class 'torch.optim.lr_scheduler.StepLR'>, 'epsilon': 1e-15}}\u001b[0m\n",
      "\u001b[35m2024-09-21 14:16:24.919 \u001b[0m\u001b[32m[973/training_job/29583 (pid 11080)] \u001b[0m\u001b[22mcross_validation 29579\u001b[0m\n",
      "\u001b[35m2024-09-21 14:16:26.699 \u001b[0m\u001b[32m[973/training_job/29580 (pid 11032)] \u001b[0m\u001b[22mCV fold #1/2\u001b[0m\n",
      "\u001b[35m2024-09-21 14:16:26.702 \u001b[0m\u001b[32m[973/training_job/29580 (pid 11032)] \u001b[0m\u001b[22mepoch 0  | loss: 2.97664 | Training_accuracy: 0.29725 | Validation_accuracy: 0.2865  |  0:00:01s\u001b[0m\n",
      "\u001b[35m2024-09-21 14:16:26.784 \u001b[0m\u001b[32m[973/training_job/29582 (pid 11069)] \u001b[0m\u001b[22mCV fold #1/2\u001b[0m\n",
      "\u001b[35m2024-09-21 14:16:26.785 \u001b[0m\u001b[32m[973/training_job/29582 (pid 11069)] \u001b[0m\u001b[22mepoch 0  | loss: 6.44325 | Training_accuracy: 0.24888 | Validation_accuracy: 0.254   |  0:00:01s\u001b[0m\n",
      "\u001b[35m2024-09-21 14:16:26.832 \u001b[0m\u001b[32m[973/training_job/29581 (pid 11043)] \u001b[0m\u001b[22mCV fold #2/2\u001b[0m\n",
      "\u001b[35m2024-09-21 14:16:26.835 \u001b[0m\u001b[32m[973/training_job/29581 (pid 11043)] \u001b[0m\u001b[22mepoch 0  | loss: 2.97925 | Training_accuracy: 0.24462 | Validation_accuracy: 0.2325  |  0:00:02s\u001b[0m\n",
      "\u001b[35m2024-09-21 14:16:27.082 \u001b[0m\u001b[32m[973/training_job/29583 (pid 11080)] \u001b[0m\u001b[22mhyperparameter values : {'trainer': {'max_epochs': 100, 'patience': 10, 'batch_size': 1024, 'virtual_batch_size': 256}, 'model': {'n_d': 64, 'n_a': 64, 'n_steps': 6, 'gamma': 1.5, 'n_independent': 2, 'n_shared': 2, 'lambda_sparse': 0.0001, 'momentum': 0.3, 'clip_value': 2.0, 'optimizer_fn': <class 'torch.optim.adam.Adam'>, 'optimizer_params': {'lr': 0.1}, 'scheduler_params': {'gamma': 0.8, 'step_size': 20}, 'scheduler_fn': <class 'torch.optim.lr_scheduler.StepLR'>, 'epsilon': 1e-15}}\u001b[0m\n",
      "\u001b[35m2024-09-21 14:16:27.082 \u001b[0m\u001b[32m[973/training_job/29583 (pid 11080)] \u001b[0m\u001b[22mCV fold #2/2\u001b[0m\n",
      "\u001b[35m2024-09-21 14:16:27.090 \u001b[0m\u001b[32m[973/training_job/29583 (pid 11080)] \u001b[0m\u001b[22mepoch 0  | loss: 6.22919 | Training_accuracy: 0.31025 | Validation_accuracy: 0.3025  |  0:00:01s\u001b[0m\n",
      "\u001b[35m2024-09-21 14:16:28.465 \u001b[0m\u001b[32m[973/training_job/29580 (pid 11032)] \u001b[0m\u001b[22mepoch 1  | loss: 1.74396 | Training_accuracy: 0.26775 | Validation_accuracy: 0.265   |  0:00:03s\u001b[0m\n",
      "\u001b[35m2024-09-21 14:16:28.517 \u001b[0m\u001b[32m[973/training_job/29581 (pid 11043)] \u001b[0m\u001b[22mepoch 1  | loss: 1.92846 | Training_accuracy: 0.31988 | Validation_accuracy: 0.304   |  0:00:03s\u001b[0m\n",
      "\u001b[35m2024-09-21 14:16:28.551 \u001b[0m\u001b[32m[973/training_job/29582 (pid 11069)] \u001b[0m\u001b[22mepoch 1  | loss: 2.48689 | Training_accuracy: 0.28225 | Validation_accuracy: 0.277   |  0:00:03s\u001b[0m\n",
      "\u001b[35m2024-09-21 14:16:28.823 \u001b[0m\u001b[32m[973/training_job/29583 (pid 11080)] \u001b[0m\u001b[22mepoch 1  | loss: 1.87078 | Training_accuracy: 0.2895  | Validation_accuracy: 0.2985  |  0:00:03s\u001b[0m\n",
      "\u001b[35m2024-09-21 14:16:29.993 \u001b[0m\u001b[32m[973/training_job/29580 (pid 11032)] \u001b[0m\u001b[22mepoch 2  | loss: 1.37023 | Training_accuracy: 0.2915  | Validation_accuracy: 0.283   |  0:00:05s\u001b[0m\n",
      "\u001b[35m2024-09-21 14:16:30.003 \u001b[0m\u001b[32m[973/training_job/29582 (pid 11069)] \u001b[0m\u001b[22mepoch 2  | loss: 1.49131 | Training_accuracy: 0.26312 | Validation_accuracy: 0.258   |  0:00:04s\u001b[0m\n",
      "\u001b[35m2024-09-21 14:16:30.050 \u001b[0m\u001b[32m[973/training_job/29581 (pid 11043)] \u001b[0m\u001b[22mepoch 2  | loss: 1.41507 | Training_accuracy: 0.3105  | Validation_accuracy: 0.316   |  0:00:05s\u001b[0m\n",
      "\u001b[35m2024-09-21 14:16:30.332 \u001b[0m\u001b[32m[973/training_job/29583 (pid 11080)] \u001b[0m\u001b[22mepoch 2  | loss: 1.38432 | Training_accuracy: 0.35588 | Validation_accuracy: 0.333   |  0:00:05s\u001b[0m\n",
      "\u001b[35m2024-09-21 14:16:31.374 \u001b[0m\u001b[32m[973/training_job/29580 (pid 11032)] \u001b[0m\u001b[22mepoch 3  | loss: 1.20596 | Training_accuracy: 0.27825 | Validation_accuracy: 0.294   |  0:00:06s\u001b[0m\n",
      "\u001b[35m2024-09-21 14:16:31.554 \u001b[0m\u001b[32m[973/training_job/29582 (pid 11069)] \u001b[0m\u001b[22mepoch 3  | loss: 1.22112 | Training_accuracy: 0.4035  | Validation_accuracy: 0.3725  |  0:00:06s\u001b[0m\n",
      "\u001b[35m2024-09-21 14:16:31.608 \u001b[0m\u001b[32m[973/training_job/29581 (pid 11043)] \u001b[0m\u001b[22mepoch 3  | loss: 1.21602 | Training_accuracy: 0.41275 | Validation_accuracy: 0.42    |  0:00:06s\u001b[0m\n",
      "\u001b[35m2024-09-21 14:16:31.829 \u001b[0m\u001b[32m[973/training_job/29583 (pid 11080)] \u001b[0m\u001b[22mepoch 3  | loss: 1.08193 | Training_accuracy: 0.34588 | Validation_accuracy: 0.3175  |  0:00:06s\u001b[0m\n",
      "\u001b[35m2024-09-21 14:16:32.718 \u001b[0m\u001b[32m[973/training_job/29580 (pid 11032)] \u001b[0m\u001b[22mepoch 4  | loss: 1.11342 | Training_accuracy: 0.30425 | Validation_accuracy: 0.2965  |  0:00:07s\u001b[0m\n",
      "\u001b[35m2024-09-21 14:16:32.977 \u001b[0m\u001b[32m[973/training_job/29581 (pid 11043)] \u001b[0m\u001b[22mepoch 4  | loss: 1.07223 | Training_accuracy: 0.443   | Validation_accuracy: 0.431   |  0:00:08s\u001b[0m\n",
      "\u001b[35m2024-09-21 14:16:33.028 \u001b[0m\u001b[32m[973/training_job/29582 (pid 11069)] \u001b[0m\u001b[22mepoch 4  | loss: 1.10029 | Training_accuracy: 0.29488 | Validation_accuracy: 0.303   |  0:00:08s\u001b[0m\n",
      "\u001b[35m2024-09-21 14:16:33.127 \u001b[0m\u001b[32m[973/training_job/29583 (pid 11080)] \u001b[0m\u001b[22mepoch 4  | loss: 0.93273 | Training_accuracy: 0.3535  | Validation_accuracy: 0.3255  |  0:00:07s\u001b[0m\n",
      "\u001b[35m2024-09-21 14:16:34.024 \u001b[0m\u001b[32m[973/training_job/29580 (pid 11032)] \u001b[0m\u001b[22mepoch 5  | loss: 0.94533 | Training_accuracy: 0.37275 | Validation_accuracy: 0.354   |  0:00:09s\u001b[0m\n",
      "\u001b[35m2024-09-21 14:16:34.466 \u001b[0m\u001b[32m[973/training_job/29581 (pid 11043)] \u001b[0m\u001b[22mepoch 5  | loss: 0.90759 | Training_accuracy: 0.42538 | Validation_accuracy: 0.428   |  0:00:09s\u001b[0m\n",
      "\u001b[35m2024-09-21 14:16:34.499 \u001b[0m\u001b[32m[973/training_job/29582 (pid 11069)] \u001b[0m\u001b[22mepoch 5  | loss: 1.01688 | Training_accuracy: 0.30912 | Validation_accuracy: 0.315   |  0:00:09s\u001b[0m\n",
      "\u001b[35m2024-09-21 14:16:34.693 \u001b[0m\u001b[32m[973/training_job/29583 (pid 11080)] \u001b[0m\u001b[22mepoch 5  | loss: 0.83911 | Training_accuracy: 0.38038 | Validation_accuracy: 0.3695  |  0:00:09s\u001b[0m\n",
      "\u001b[35m2024-09-21 14:16:35.563 \u001b[0m\u001b[32m[973/training_job/29580 (pid 11032)] \u001b[0m\u001b[22mepoch 6  | loss: 0.86277 | Training_accuracy: 0.40625 | Validation_accuracy: 0.393   |  0:00:10s\u001b[0m\n",
      "\u001b[35m2024-09-21 14:16:35.923 \u001b[0m\u001b[32m[973/training_job/29582 (pid 11069)] \u001b[0m\u001b[22mepoch 6  | loss: 0.94877 | Training_accuracy: 0.56175 | Validation_accuracy: 0.5575  |  0:00:10s\u001b[0m\n",
      "\u001b[35m2024-09-21 14:16:36.017 \u001b[0m\u001b[32m[973/training_job/29581 (pid 11043)] \u001b[0m\u001b[22mepoch 6  | loss: 0.8841  | Training_accuracy: 0.45925 | Validation_accuracy: 0.442   |  0:00:11s\u001b[0m\n"
     ]
    },
    {
     "name": "stdout",
     "output_type": "stream",
     "text": [
      "\u001b[35m2024-09-21 14:16:36.255 \u001b[0m\u001b[32m[973/training_job/29583 (pid 11080)] \u001b[0m\u001b[22mepoch 6  | loss: 0.80665 | Training_accuracy: 0.43075 | Validation_accuracy: 0.417   |  0:00:10s\u001b[0m\n",
      "\u001b[35m2024-09-21 14:16:37.010 \u001b[0m\u001b[32m[973/training_job/29580 (pid 11032)] \u001b[0m\u001b[22mepoch 7  | loss: 0.81118 | Training_accuracy: 0.40638 | Validation_accuracy: 0.388   |  0:00:12s\u001b[0m\n",
      "\u001b[35m2024-09-21 14:16:37.428 \u001b[0m\u001b[32m[973/training_job/29582 (pid 11069)] \u001b[0m\u001b[22mepoch 7  | loss: 0.889   | Training_accuracy: 0.51413 | Validation_accuracy: 0.507   |  0:00:12s\u001b[0m\n",
      "\u001b[35m2024-09-21 14:16:37.439 \u001b[0m\u001b[32m[973/training_job/29581 (pid 11043)] \u001b[0m\u001b[22mepoch 7  | loss: 0.85595 | Training_accuracy: 0.45038 | Validation_accuracy: 0.4395  |  0:00:12s\u001b[0m\n",
      "\u001b[35m2024-09-21 14:16:37.508 \u001b[0m\u001b[32m[973/training_job/29583 (pid 11080)] \u001b[0m\u001b[22mepoch 7  | loss: 0.77076 | Training_accuracy: 0.49762 | Validation_accuracy: 0.4795  |  0:00:12s\u001b[0m\n",
      "\u001b[35m2024-09-21 14:16:38.320 \u001b[0m\u001b[32m[973/training_job/29580 (pid 11032)] \u001b[0m\u001b[22mepoch 8  | loss: 0.78604 | Training_accuracy: 0.3825  | Validation_accuracy: 0.372   |  0:00:13s\u001b[0m\n",
      "\u001b[35m2024-09-21 14:16:38.899 \u001b[0m\u001b[32m[973/training_job/29582 (pid 11069)] \u001b[0m\u001b[22mepoch 8  | loss: 0.84139 | Training_accuracy: 0.4825  | Validation_accuracy: 0.475   |  0:00:13s\u001b[0m\n",
      "\u001b[35m2024-09-21 14:16:38.957 \u001b[0m\u001b[32m[973/training_job/29581 (pid 11043)] \u001b[0m\u001b[22mepoch 8  | loss: 0.82935 | Training_accuracy: 0.437   | Validation_accuracy: 0.417   |  0:00:14s\u001b[0m\n",
      "\u001b[35m2024-09-21 14:16:39.073 \u001b[0m\u001b[32m[973/training_job/29583 (pid 11080)] \u001b[0m\u001b[22mepoch 8  | loss: 0.7606  | Training_accuracy: 0.53788 | Validation_accuracy: 0.5115  |  0:00:13s\u001b[0m\n",
      "\u001b[35m2024-09-21 14:16:39.754 \u001b[0m\u001b[32m[973/training_job/29580 (pid 11032)] \u001b[0m\u001b[22mepoch 9  | loss: 0.78713 | Training_accuracy: 0.37912 | Validation_accuracy: 0.349   |  0:00:14s\u001b[0m\n",
      "\u001b[35m2024-09-21 14:16:40.406 \u001b[0m\u001b[32m[973/training_job/29581 (pid 11043)] \u001b[0m\u001b[22mepoch 9  | loss: 0.84839 | Training_accuracy: 0.46412 | Validation_accuracy: 0.45    |  0:00:15s\u001b[0m\n",
      "\u001b[35m2024-09-21 14:16:40.519 \u001b[0m\u001b[32m[973/training_job/29582 (pid 11069)] \u001b[0m\u001b[22mepoch 9  | loss: 0.82719 | Training_accuracy: 0.4125  | Validation_accuracy: 0.397   |  0:00:15s\u001b[0m\n",
      "\u001b[35m2024-09-21 14:16:40.662 \u001b[0m\u001b[32m[973/training_job/29583 (pid 11080)] \u001b[0m\u001b[22mepoch 9  | loss: 0.74837 | Training_accuracy: 0.5385  | Validation_accuracy: 0.5255  |  0:00:15s\u001b[0m\n",
      "\u001b[35m2024-09-21 14:16:41.333 \u001b[0m\u001b[32m[973/training_job/29580 (pid 11032)] \u001b[0m\u001b[22mepoch 10 | loss: 0.76851 | Training_accuracy: 0.3925  | Validation_accuracy: 0.372   |  0:00:16s\u001b[0m\n",
      "\u001b[35m2024-09-21 14:16:41.988 \u001b[0m\u001b[32m[973/training_job/29581 (pid 11043)] \u001b[0m\u001b[22mepoch 10 | loss: 0.78966 | Training_accuracy: 0.43375 | Validation_accuracy: 0.411   |  0:00:17s\u001b[0m\n",
      "\u001b[35m2024-09-21 14:16:42.152 \u001b[0m\u001b[32m[973/training_job/29582 (pid 11069)] \u001b[0m\u001b[22mepoch 10 | loss: 0.82839 | Training_accuracy: 0.63213 | Validation_accuracy: 0.6335  |  0:00:17s\u001b[0m\n",
      "\u001b[35m2024-09-21 14:16:42.264 \u001b[0m\u001b[32m[973/training_job/29583 (pid 11080)] \u001b[0m\u001b[22mepoch 10 | loss: 0.74345 | Training_accuracy: 0.57063 | Validation_accuracy: 0.564   |  0:00:16s\u001b[0m\n",
      "\u001b[35m2024-09-21 14:16:42.846 \u001b[0m\u001b[32m[973/training_job/29580 (pid 11032)] \u001b[0m\u001b[22mepoch 11 | loss: 0.7733  | Training_accuracy: 0.36388 | Validation_accuracy: 0.351   |  0:00:18s\u001b[0m\n",
      "\u001b[35m2024-09-21 14:16:43.460 \u001b[0m\u001b[32m[973/training_job/29581 (pid 11043)] \u001b[0m\u001b[22mepoch 11 | loss: 0.77199 | Training_accuracy: 0.4205  | Validation_accuracy: 0.4065  |  0:00:18s\u001b[0m\n",
      "\u001b[35m2024-09-21 14:16:43.712 \u001b[0m\u001b[32m[973/training_job/29583 (pid 11080)] \u001b[0m\u001b[22mepoch 11 | loss: 0.74819 | Training_accuracy: 0.56388 | Validation_accuracy: 0.548   |  0:00:18s\u001b[0m\n",
      "\u001b[35m2024-09-21 14:16:43.770 \u001b[0m\u001b[32m[973/training_job/29582 (pid 11069)] \u001b[0m\u001b[22mepoch 11 | loss: 0.81636 | Training_accuracy: 0.49175 | Validation_accuracy: 0.486   |  0:00:18s\u001b[0m\n",
      "\u001b[35m2024-09-21 14:16:44.373 \u001b[0m\u001b[32m[973/training_job/29580 (pid 11032)] \u001b[0m\u001b[22mepoch 12 | loss: 0.77099 | Training_accuracy: 0.38975 | Validation_accuracy: 0.3605  |  0:00:19s\u001b[0m\n",
      "\u001b[35m2024-09-21 14:16:45.010 \u001b[0m\u001b[32m[973/training_job/29581 (pid 11043)] \u001b[0m\u001b[22mepoch 12 | loss: 0.77056 | Training_accuracy: 0.40162 | Validation_accuracy: 0.392   |  0:00:20s\u001b[0m\n",
      "\u001b[35m2024-09-21 14:16:45.269 \u001b[0m\u001b[32m[973/training_job/29583 (pid 11080)] \u001b[0m\u001b[22mepoch 12 | loss: 0.73913 | Training_accuracy: 0.49412 | Validation_accuracy: 0.4665  |  0:00:19s\u001b[0m\n",
      "\u001b[35m2024-09-21 14:16:45.343 \u001b[0m\u001b[32m[973/training_job/29582 (pid 11069)] \u001b[0m\u001b[22mepoch 12 | loss: 0.79697 | Training_accuracy: 0.65062 | Validation_accuracy: 0.6495  |  0:00:20s\u001b[0m\n",
      "\u001b[35m2024-09-21 14:16:45.955 \u001b[0m\u001b[32m[973/training_job/29580 (pid 11032)] \u001b[0m\u001b[22mepoch 13 | loss: 0.75372 | Training_accuracy: 0.3755  | Validation_accuracy: 0.3565  |  0:00:21s\u001b[0m\n",
      "\u001b[35m2024-09-21 14:16:46.612 \u001b[0m\u001b[32m[973/training_job/29581 (pid 11043)] \u001b[0m\u001b[22mepoch 13 | loss: 0.78506 | Training_accuracy: 0.51513 | Validation_accuracy: 0.4845  |  0:00:21s\u001b[0m\n",
      "\u001b[35m2024-09-21 14:16:46.807 \u001b[0m\u001b[32m[973/training_job/29583 (pid 11080)] \u001b[0m\u001b[22mepoch 13 | loss: 0.73944 | Training_accuracy: 0.52112 | Validation_accuracy: 0.4995  |  0:00:21s\u001b[0m\n",
      "\u001b[35m2024-09-21 14:16:46.978 \u001b[0m\u001b[32m[973/training_job/29582 (pid 11069)] \u001b[0m\u001b[22mepoch 13 | loss: 0.79197 | Training_accuracy: 0.5585  | Validation_accuracy: 0.545   |  0:00:21s\u001b[0m\n",
      "\u001b[35m2024-09-21 14:16:47.405 \u001b[0m\u001b[32m[973/training_job/29580 (pid 11032)] \u001b[0m\u001b[22mepoch 14 | loss: 0.73609 | Training_accuracy: 0.38288 | Validation_accuracy: 0.3675  |  0:00:22s\u001b[0m\n",
      "\u001b[35m2024-09-21 14:16:48.144 \u001b[0m\u001b[32m[973/training_job/29581 (pid 11043)] \u001b[0m\u001b[22mepoch 14 | loss: 0.75096 | Training_accuracy: 0.45638 | Validation_accuracy: 0.439   |  0:00:23s\u001b[0m\n",
      "\u001b[35m2024-09-21 14:16:48.312 \u001b[0m\u001b[32m[973/training_job/29583 (pid 11080)] \u001b[0m\u001b[22mepoch 14 | loss: 0.73705 | Training_accuracy: 0.43075 | Validation_accuracy: 0.4     |  0:00:22s\u001b[0m\n",
      "\u001b[35m2024-09-21 14:16:48.613 \u001b[0m\u001b[32m[973/training_job/29582 (pid 11069)] \u001b[0m\u001b[22mepoch 14 | loss: 0.80343 | Training_accuracy: 0.516   | Validation_accuracy: 0.503   |  0:00:23s\u001b[0m\n",
      "\u001b[35m2024-09-21 14:16:48.809 \u001b[0m\u001b[32m[973/training_job/29580 (pid 11032)] \u001b[0m\u001b[22mepoch 15 | loss: 0.7363  | Training_accuracy: 0.382   | Validation_accuracy: 0.3655  |  0:00:24s\u001b[0m\n",
      "\u001b[35m2024-09-21 14:16:49.668 \u001b[0m\u001b[32m[973/training_job/29581 (pid 11043)] \u001b[0m\u001b[22mepoch 15 | loss: 0.75926 | Training_accuracy: 0.47912 | Validation_accuracy: 0.459   |  0:00:24s\u001b[0m\n",
      "\u001b[35m2024-09-21 14:16:49.837 \u001b[0m\u001b[32m[973/training_job/29583 (pid 11080)] \u001b[0m\u001b[22mepoch 15 | loss: 0.73565 | Training_accuracy: 0.55    | Validation_accuracy: 0.5375  |  0:00:24s\u001b[0m\n",
      "\u001b[35m2024-09-21 14:16:50.221 \u001b[0m\u001b[32m[973/training_job/29580 (pid 11032)] \u001b[0m\u001b[22mepoch 16 | loss: 0.74453 | Training_accuracy: 0.3845  | Validation_accuracy: 0.3695  |  0:00:25s\u001b[0m\n",
      "\u001b[35m2024-09-21 14:16:50.221 \u001b[0m\u001b[32m[973/training_job/29582 (pid 11069)] \u001b[0m\u001b[22mepoch 15 | loss: 0.79045 | Training_accuracy: 0.47988 | Validation_accuracy: 0.475   |  0:00:25s\u001b[0m\n",
      "\u001b[35m2024-09-21 14:16:50.242 \u001b[0m\u001b[32m[973/training_job/29580 (pid 11032)] \u001b[0m\u001b[22m\u001b[0m\n",
      "\u001b[35m2024-09-21 14:16:50.245 \u001b[0m\u001b[32m[973/training_job/29580 (pid 11032)] \u001b[0m\u001b[22mEarly stopping occurred at epoch 16 with best_epoch = 6 and best_Validation_accuracy = 0.393\u001b[0m\n",
      "\u001b[35m2024-09-21 14:16:51.039 \u001b[0m\u001b[32m[973/training_job/29580 (pid 11032)] \u001b[0m\u001b[22mFold finished with accuracy: 0.40375.\u001b[0m\n",
      "\u001b[35m2024-09-21 14:16:51.079 \u001b[0m\u001b[32m[973/training_job/29581 (pid 11043)] \u001b[0m\u001b[22mepoch 16 | loss: 0.7461  | Training_accuracy: 0.53875 | Validation_accuracy: 0.5015  |  0:00:26s\u001b[0m\n",
      "\u001b[35m2024-09-21 14:16:51.252 \u001b[0m\u001b[32m[973/training_job/29583 (pid 11080)] \u001b[0m\u001b[22mepoch 16 | loss: 0.74433 | Training_accuracy: 0.55675 | Validation_accuracy: 0.5375  |  0:00:25s\u001b[0m\n",
      "\u001b[35m2024-09-21 14:16:51.570 \u001b[0m\u001b[32m[973/training_job/29582 (pid 11069)] \u001b[0m\u001b[22mepoch 16 | loss: 0.77623 | Training_accuracy: 0.49038 | Validation_accuracy: 0.48    |  0:00:26s\u001b[0m\n",
      "\u001b[35m2024-09-21 14:16:52.363 \u001b[0m\u001b[32m[973/training_job/29581 (pid 11043)] \u001b[0m\u001b[22mepoch 17 | loss: 0.74037 | Training_accuracy: 0.47238 | Validation_accuracy: 0.455   |  0:00:27s\u001b[0m\n",
      "\u001b[35m2024-09-21 14:16:52.436 \u001b[0m\u001b[32m[973/training_job/29583 (pid 11080)] \u001b[0m\u001b[22mepoch 17 | loss: 0.73578 | Training_accuracy: 0.52138 | Validation_accuracy: 0.517   |  0:00:27s\u001b[0m\n"
     ]
    },
    {
     "name": "stdout",
     "output_type": "stream",
     "text": [
      "\u001b[35m2024-09-21 14:16:52.835 \u001b[0m\u001b[32m[973/training_job/29582 (pid 11069)] \u001b[0m\u001b[22mepoch 17 | loss: 0.76183 | Training_accuracy: 0.50838 | Validation_accuracy: 0.4965  |  0:00:27s\u001b[0m\n",
      "\u001b[35m2024-09-21 14:16:53.603 \u001b[0m\u001b[32m[973/training_job/29581 (pid 11043)] \u001b[0m\u001b[22mepoch 18 | loss: 0.74956 | Training_accuracy: 0.48588 | Validation_accuracy: 0.4715  |  0:00:28s\u001b[0m\n",
      "\u001b[35m2024-09-21 14:16:53.773 \u001b[0m\u001b[32m[973/training_job/29583 (pid 11080)] \u001b[0m\u001b[22mepoch 18 | loss: 0.73673 | Training_accuracy: 0.49012 | Validation_accuracy: 0.473   |  0:00:28s\u001b[0m\n",
      "\u001b[35m2024-09-21 14:16:54.064 \u001b[0m\u001b[32m[973/training_job/29580 (pid 11032)] \u001b[0m\u001b[1mTask finished successfully.\u001b[0m\n",
      "\u001b[35m2024-09-21 14:16:54.311 \u001b[0m\u001b[32m[973/training_job/29582 (pid 11069)] \u001b[0m\u001b[22mepoch 18 | loss: 0.75964 | Training_accuracy: 0.53038 | Validation_accuracy: 0.529   |  0:00:29s\u001b[0m\n",
      "\u001b[35m2024-09-21 14:16:54.901 \u001b[0m\u001b[32m[973/training_job/29581 (pid 11043)] \u001b[0m\u001b[22mepoch 19 | loss: 0.73574 | Training_accuracy: 0.55612 | Validation_accuracy: 0.532   |  0:00:30s\u001b[0m\n",
      "\u001b[35m2024-09-21 14:16:55.125 \u001b[0m\u001b[32m[973/training_job/29583 (pid 11080)] \u001b[0m\u001b[22mepoch 19 | loss: 0.73087 | Training_accuracy: 0.53788 | Validation_accuracy: 0.5235  |  0:00:29s\u001b[0m\n",
      "\u001b[35m2024-09-21 14:16:55.636 \u001b[0m\u001b[32m[973/training_job/29582 (pid 11069)] \u001b[0m\u001b[22mepoch 19 | loss: 0.75599 | Training_accuracy: 0.47425 | Validation_accuracy: 0.4705  |  0:00:30s\u001b[0m\n",
      "\u001b[35m2024-09-21 14:16:56.278 \u001b[0m\u001b[32m[973/training_job/29581 (pid 11043)] \u001b[0m\u001b[22mepoch 20 | loss: 0.72955 | Training_accuracy: 0.51888 | Validation_accuracy: 0.5035  |  0:00:31s\u001b[0m\n",
      "\u001b[35m2024-09-21 14:16:56.475 \u001b[0m\u001b[32m[973/training_job/29583 (pid 11080)] \u001b[0m\u001b[22mepoch 20 | loss: 0.72327 | Training_accuracy: 0.57212 | Validation_accuracy: 0.556   |  0:00:31s\u001b[0m\n",
      "\u001b[35m2024-09-21 14:16:56.517 \u001b[0m\u001b[32m[973/training_job/29583 (pid 11080)] \u001b[0m\u001b[22m\u001b[0m\n",
      "\u001b[35m2024-09-21 14:16:56.518 \u001b[0m\u001b[32m[973/training_job/29583 (pid 11080)] \u001b[0m\u001b[22mEarly stopping occurred at epoch 20 with best_epoch = 10 and best_Validation_accuracy = 0.564\u001b[0m\n",
      "\u001b[35m2024-09-21 14:16:57.135 \u001b[0m\u001b[32m[973/training_job/29582 (pid 11069)] \u001b[0m\u001b[22mepoch 20 | loss: 0.75101 | Training_accuracy: 0.54888 | Validation_accuracy: 0.5495  |  0:00:32s\u001b[0m\n",
      "\u001b[35m2024-09-21 14:16:57.223 \u001b[0m\u001b[32m[973/training_job/29583 (pid 11080)] \u001b[0m\u001b[22mFold finished with accuracy: 0.56650.\u001b[0m\n",
      "\u001b[35m2024-09-21 14:16:57.481 \u001b[0m\u001b[32m[973/training_job/29581 (pid 11043)] \u001b[0m\u001b[22mepoch 21 | loss: 0.72751 | Training_accuracy: 0.54112 | Validation_accuracy: 0.524   |  0:00:32s\u001b[0m\n",
      "\u001b[35m2024-09-21 14:16:57.999 \u001b[0m\u001b[32m[973/training_job/29582 (pid 11069)] \u001b[0m\u001b[22mepoch 21 | loss: 0.74954 | Training_accuracy: 0.49438 | Validation_accuracy: 0.487   |  0:00:32s\u001b[0m\n",
      "\u001b[35m2024-09-21 14:16:58.361 \u001b[0m\u001b[32m[973/training_job/29581 (pid 11043)] \u001b[0m\u001b[22mepoch 22 | loss: 0.72862 | Training_accuracy: 0.55812 | Validation_accuracy: 0.548   |  0:00:33s\u001b[0m\n",
      "\u001b[35m2024-09-21 14:16:58.825 \u001b[0m\u001b[32m[973/training_job/29582 (pid 11069)] \u001b[0m\u001b[22mepoch 22 | loss: 0.73766 | Training_accuracy: 0.58225 | Validation_accuracy: 0.591   |  0:00:33s\u001b[0m\n",
      "\u001b[35m2024-09-21 14:16:58.854 \u001b[0m\u001b[32m[973/training_job/29582 (pid 11069)] \u001b[0m\u001b[22m\u001b[0m\n",
      "\u001b[35m2024-09-21 14:16:58.859 \u001b[0m\u001b[32m[973/training_job/29582 (pid 11069)] \u001b[0m\u001b[22mEarly stopping occurred at epoch 22 with best_epoch = 12 and best_Validation_accuracy = 0.6495\u001b[0m\n",
      "\u001b[35m2024-09-21 14:16:59.508 \u001b[0m\u001b[32m[973/training_job/29582 (pid 11069)] \u001b[0m\u001b[22mFold finished with accuracy: 0.65500.\u001b[0m\n",
      "\u001b[35m2024-09-21 14:16:59.580 \u001b[0m\u001b[32m[973/training_job/29581 (pid 11043)] \u001b[0m\u001b[22mepoch 23 | loss: 0.72108 | Training_accuracy: 0.53038 | Validation_accuracy: 0.5075  |  0:00:34s\u001b[0m\n",
      "\u001b[35m2024-09-21 14:16:59.775 \u001b[0m\u001b[32m[973/training_job/29583 (pid 11080)] \u001b[0m\u001b[1mTask finished successfully.\u001b[0m\n",
      "\u001b[35m2024-09-21 14:17:00.318 \u001b[0m\u001b[32m[973/training_job/29581 (pid 11043)] \u001b[0m\u001b[22mepoch 24 | loss: 0.73411 | Training_accuracy: 0.596   | Validation_accuracy: 0.5665  |  0:00:35s\u001b[0m\n",
      "\u001b[35m2024-09-21 14:17:00.999 \u001b[0m\u001b[32m[973/training_job/29581 (pid 11043)] \u001b[0m\u001b[22mepoch 25 | loss: 0.74594 | Training_accuracy: 0.48438 | Validation_accuracy: 0.4615  |  0:00:36s\u001b[0m\n",
      "\u001b[35m2024-09-21 14:17:01.642 \u001b[0m\u001b[32m[973/training_job/29581 (pid 11043)] \u001b[0m\u001b[22mepoch 26 | loss: 0.71905 | Training_accuracy: 0.596   | Validation_accuracy: 0.5635  |  0:00:36s\u001b[0m\n",
      "\u001b[35m2024-09-21 14:17:01.859 \u001b[0m\u001b[32m[973/training_job/29582 (pid 11069)] \u001b[0m\u001b[1mTask finished successfully.\u001b[0m\n",
      "\u001b[35m2024-09-21 14:17:02.362 \u001b[0m\u001b[32m[973/cross_validation_agg/29584 (pid 11221)] \u001b[0m\u001b[1mTask is starting.\u001b[0m\n",
      "\u001b[35m2024-09-21 14:17:02.363 \u001b[0m\u001b[32m[973/training_job/29581 (pid 11043)] \u001b[0m\u001b[22mepoch 27 | loss: 0.70314 | Training_accuracy: 0.56425 | Validation_accuracy: 0.534   |  0:00:37s\u001b[0m\n",
      "\u001b[35m2024-09-21 14:17:03.111 \u001b[0m\u001b[32m[973/training_job/29581 (pid 11043)] \u001b[0m\u001b[22mepoch 28 | loss: 0.70364 | Training_accuracy: 0.56512 | Validation_accuracy: 0.5355  |  0:00:38s\u001b[0m\n",
      "\u001b[35m2024-09-21 14:17:04.304 \u001b[0m\u001b[32m[973/training_job/29581 (pid 11043)] \u001b[0m\u001b[22mepoch 29 | loss: 0.70053 | Training_accuracy: 0.62638 | Validation_accuracy: 0.592   |  0:00:39s\u001b[0m\n",
      "\u001b[35m2024-09-21 14:17:05.266 \u001b[0m\u001b[32m[973/training_job/29581 (pid 11043)] \u001b[0m\u001b[22mepoch 30 | loss: 0.70203 | Training_accuracy: 0.5685  | Validation_accuracy: 0.545   |  0:00:40s\u001b[0m\n",
      "\u001b[35m2024-09-21 14:17:06.061 \u001b[0m\u001b[32m[973/training_job/29581 (pid 11043)] \u001b[0m\u001b[22mepoch 31 | loss: 0.69637 | Training_accuracy: 0.62613 | Validation_accuracy: 0.6125  |  0:00:41s\u001b[0m\n",
      "\u001b[35m2024-09-21 14:17:06.743 \u001b[0m\u001b[32m[973/training_job/29581 (pid 11043)] \u001b[0m\u001b[22mepoch 32 | loss: 0.68756 | Training_accuracy: 0.59788 | Validation_accuracy: 0.5765  |  0:00:41s\u001b[0m\n",
      "\u001b[35m2024-09-21 14:17:07.482 \u001b[0m\u001b[32m[973/training_job/29581 (pid 11043)] \u001b[0m\u001b[22mepoch 33 | loss: 0.68111 | Training_accuracy: 0.63087 | Validation_accuracy: 0.6055  |  0:00:42s\u001b[0m\n",
      "\u001b[35m2024-09-21 14:17:07.578 \u001b[0m\u001b[32m[973/cross_validation_agg/29584 (pid 11221)] \u001b[0m\u001b[22mhp values lead to an accuracy of {'trainer_max_epochs': 100, 'trainer_patience': 10, 'trainer_batch_size': 1024, 'trainer_virtual_batch_size': 256, 'model_n_d': 64, 'model_n_a': 64, 'model_n_steps': 6, 'model_gamma': 1.5, 'model_n_independent': 2, 'model_n_shared': 2, 'model_lambda_sparse': 0.0001, 'model_momentum': 0.3, 'model_clip_value': 2.0, 'model_optimizer_fn': 'Adam', 'model_optimizer_params_lr': 0.1, 'model_scheduler_params_gamma': 0.8, 'model_scheduler_params_step_size': 20, 'model_scheduler_fn': 'StepLR', 'model_epsilon': 1e-15, 'accuracy': 0.61075}\u001b[0m\n",
      "\u001b[35m2024-09-21 14:17:08.157 \u001b[0m\u001b[32m[973/training_job/29581 (pid 11043)] \u001b[0m\u001b[22mepoch 34 | loss: 0.68817 | Training_accuracy: 0.61462 | Validation_accuracy: 0.595   |  0:00:43s\u001b[0m\n",
      "\u001b[35m2024-09-21 14:17:08.779 \u001b[0m\u001b[32m[973/training_job/29581 (pid 11043)] \u001b[0m\u001b[22mepoch 35 | loss: 0.68892 | Training_accuracy: 0.63162 | Validation_accuracy: 0.6095  |  0:00:43s\u001b[0m\n",
      "\u001b[35m2024-09-21 14:17:09.460 \u001b[0m\u001b[32m[973/training_job/29581 (pid 11043)] \u001b[0m\u001b[22mepoch 36 | loss: 0.69432 | Training_accuracy: 0.65488 | Validation_accuracy: 0.628   |  0:00:44s\u001b[0m\n",
      "\u001b[35m2024-09-21 14:17:09.700 \u001b[0m\u001b[32m[973/cross_validation_agg/29584 (pid 11221)] \u001b[0m\u001b[1mTask finished successfully.\u001b[0m\n",
      "\u001b[35m2024-09-21 14:17:10.086 \u001b[0m\u001b[32m[973/training_job/29581 (pid 11043)] \u001b[0m\u001b[22mepoch 37 | loss: 0.69961 | Training_accuracy: 0.62313 | Validation_accuracy: 0.611   |  0:00:45s\u001b[0m\n",
      "\u001b[35m2024-09-21 14:17:10.665 \u001b[0m\u001b[32m[973/training_job/29581 (pid 11043)] \u001b[0m\u001b[22mepoch 38 | loss: 0.69111 | Training_accuracy: 0.643   | Validation_accuracy: 0.624   |  0:00:45s\u001b[0m\n",
      "\u001b[35m2024-09-21 14:17:11.235 \u001b[0m\u001b[32m[973/training_job/29581 (pid 11043)] \u001b[0m\u001b[22mepoch 39 | loss: 0.69542 | Training_accuracy: 0.62387 | Validation_accuracy: 0.601   |  0:00:46s\u001b[0m\n",
      "\u001b[35m2024-09-21 14:17:11.835 \u001b[0m\u001b[32m[973/training_job/29581 (pid 11043)] \u001b[0m\u001b[22mepoch 40 | loss: 0.69314 | Training_accuracy: 0.64875 | Validation_accuracy: 0.638   |  0:00:47s\u001b[0m\n",
      "\u001b[35m2024-09-21 14:17:12.429 \u001b[0m\u001b[32m[973/training_job/29581 (pid 11043)] \u001b[0m\u001b[22mepoch 41 | loss: 0.68256 | Training_accuracy: 0.47512 | Validation_accuracy: 0.474   |  0:00:47s\u001b[0m\n"
     ]
    },
    {
     "name": "stdout",
     "output_type": "stream",
     "text": [
      "\u001b[35m2024-09-21 14:17:13.019 \u001b[0m\u001b[32m[973/training_job/29581 (pid 11043)] \u001b[0m\u001b[22mepoch 42 | loss: 0.67263 | Training_accuracy: 0.53212 | Validation_accuracy: 0.5255  |  0:00:48s\u001b[0m\n",
      "\u001b[35m2024-09-21 14:17:13.629 \u001b[0m\u001b[32m[973/training_job/29581 (pid 11043)] \u001b[0m\u001b[22mepoch 43 | loss: 0.6694  | Training_accuracy: 0.507   | Validation_accuracy: 0.5     |  0:00:48s\u001b[0m\n",
      "\u001b[35m2024-09-21 14:17:14.216 \u001b[0m\u001b[32m[973/training_job/29581 (pid 11043)] \u001b[0m\u001b[22mepoch 44 | loss: 0.66786 | Training_accuracy: 0.63925 | Validation_accuracy: 0.626   |  0:00:49s\u001b[0m\n",
      "\u001b[35m2024-09-21 14:17:14.782 \u001b[0m\u001b[32m[973/training_job/29581 (pid 11043)] \u001b[0m\u001b[22mepoch 45 | loss: 0.68605 | Training_accuracy: 0.62113 | Validation_accuracy: 0.6075  |  0:00:49s\u001b[0m\n",
      "\u001b[35m2024-09-21 14:17:15.386 \u001b[0m\u001b[32m[973/training_job/29581 (pid 11043)] \u001b[0m\u001b[22mepoch 46 | loss: 0.67581 | Training_accuracy: 0.64738 | Validation_accuracy: 0.6225  |  0:00:50s\u001b[0m\n",
      "\u001b[35m2024-09-21 14:17:15.991 \u001b[0m\u001b[32m[973/training_job/29581 (pid 11043)] \u001b[0m\u001b[22mepoch 47 | loss: 0.67787 | Training_accuracy: 0.64275 | Validation_accuracy: 0.6135  |  0:00:51s\u001b[0m\n",
      "\u001b[35m2024-09-21 14:17:16.592 \u001b[0m\u001b[32m[973/training_job/29581 (pid 11043)] \u001b[0m\u001b[22mepoch 48 | loss: 0.67509 | Training_accuracy: 0.65288 | Validation_accuracy: 0.6305  |  0:00:51s\u001b[0m\n",
      "\u001b[35m2024-09-21 14:17:17.184 \u001b[0m\u001b[32m[973/training_job/29581 (pid 11043)] \u001b[0m\u001b[22mepoch 49 | loss: 0.67981 | Training_accuracy: 0.66762 | Validation_accuracy: 0.6465  |  0:00:52s\u001b[0m\n",
      "\u001b[35m2024-09-21 14:17:17.789 \u001b[0m\u001b[32m[973/training_job/29581 (pid 11043)] \u001b[0m\u001b[22mepoch 50 | loss: 0.681   | Training_accuracy: 0.68775 | Validation_accuracy: 0.6545  |  0:00:52s\u001b[0m\n",
      "\u001b[35m2024-09-21 14:17:18.389 \u001b[0m\u001b[32m[973/training_job/29581 (pid 11043)] \u001b[0m\u001b[22mepoch 51 | loss: 0.6673  | Training_accuracy: 0.66475 | Validation_accuracy: 0.6385  |  0:00:53s\u001b[0m\n",
      "\u001b[35m2024-09-21 14:17:18.988 \u001b[0m\u001b[32m[973/training_job/29581 (pid 11043)] \u001b[0m\u001b[22mepoch 52 | loss: 0.66785 | Training_accuracy: 0.68975 | Validation_accuracy: 0.6725  |  0:00:54s\u001b[0m\n",
      "\u001b[35m2024-09-21 14:17:19.585 \u001b[0m\u001b[32m[973/training_job/29581 (pid 11043)] \u001b[0m\u001b[22mepoch 53 | loss: 0.66913 | Training_accuracy: 0.67162 | Validation_accuracy: 0.6535  |  0:00:54s\u001b[0m\n",
      "\u001b[35m2024-09-21 14:17:20.168 \u001b[0m\u001b[32m[973/training_job/29581 (pid 11043)] \u001b[0m\u001b[22mepoch 54 | loss: 0.66862 | Training_accuracy: 0.694   | Validation_accuracy: 0.6755  |  0:00:55s\u001b[0m\n",
      "\u001b[35m2024-09-21 14:17:20.774 \u001b[0m\u001b[32m[973/training_job/29581 (pid 11043)] \u001b[0m\u001b[22mepoch 55 | loss: 0.66107 | Training_accuracy: 0.6775  | Validation_accuracy: 0.662   |  0:00:55s\u001b[0m\n",
      "\u001b[35m2024-09-21 14:17:21.371 \u001b[0m\u001b[32m[973/training_job/29581 (pid 11043)] \u001b[0m\u001b[22mepoch 56 | loss: 0.66543 | Training_accuracy: 0.59688 | Validation_accuracy: 0.5885  |  0:00:56s\u001b[0m\n",
      "\u001b[35m2024-09-21 14:17:21.971 \u001b[0m\u001b[32m[973/training_job/29581 (pid 11043)] \u001b[0m\u001b[22mepoch 57 | loss: 0.66511 | Training_accuracy: 0.67188 | Validation_accuracy: 0.6555  |  0:00:57s\u001b[0m\n",
      "\u001b[35m2024-09-21 14:17:22.575 \u001b[0m\u001b[32m[973/training_job/29581 (pid 11043)] \u001b[0m\u001b[22mepoch 58 | loss: 0.65756 | Training_accuracy: 0.68675 | Validation_accuracy: 0.6785  |  0:00:57s\u001b[0m\n",
      "\u001b[35m2024-09-21 14:17:23.182 \u001b[0m\u001b[32m[973/training_job/29581 (pid 11043)] \u001b[0m\u001b[22mepoch 59 | loss: 0.669   | Training_accuracy: 0.52638 | Validation_accuracy: 0.497   |  0:00:58s\u001b[0m\n",
      "\u001b[35m2024-09-21 14:17:23.754 \u001b[0m\u001b[32m[973/training_job/29581 (pid 11043)] \u001b[0m\u001b[22mepoch 60 | loss: 0.65268 | Training_accuracy: 0.68438 | Validation_accuracy: 0.6635  |  0:00:58s\u001b[0m\n",
      "\u001b[35m2024-09-21 14:17:24.355 \u001b[0m\u001b[32m[973/training_job/29581 (pid 11043)] \u001b[0m\u001b[22mepoch 61 | loss: 0.64923 | Training_accuracy: 0.69825 | Validation_accuracy: 0.673   |  0:00:59s\u001b[0m\n",
      "\u001b[35m2024-09-21 14:17:24.952 \u001b[0m\u001b[32m[973/training_job/29581 (pid 11043)] \u001b[0m\u001b[22mepoch 62 | loss: 0.64373 | Training_accuracy: 0.61762 | Validation_accuracy: 0.6005  |  0:01:00s\u001b[0m\n",
      "\u001b[35m2024-09-21 14:17:25.575 \u001b[0m\u001b[32m[973/training_job/29581 (pid 11043)] \u001b[0m\u001b[22mepoch 63 | loss: 0.65898 | Training_accuracy: 0.71938 | Validation_accuracy: 0.6915  |  0:01:00s\u001b[0m\n",
      "\u001b[35m2024-09-21 14:17:26.177 \u001b[0m\u001b[32m[973/training_job/29581 (pid 11043)] \u001b[0m\u001b[22mepoch 64 | loss: 0.64209 | Training_accuracy: 0.70312 | Validation_accuracy: 0.683   |  0:01:01s\u001b[0m\n",
      "\u001b[35m2024-09-21 14:17:26.778 \u001b[0m\u001b[32m[973/training_job/29581 (pid 11043)] \u001b[0m\u001b[22mepoch 65 | loss: 0.63566 | Training_accuracy: 0.69725 | Validation_accuracy: 0.678   |  0:01:01s\u001b[0m\n",
      "\u001b[35m2024-09-21 14:17:27.364 \u001b[0m\u001b[32m[973/training_job/29581 (pid 11043)] \u001b[0m\u001b[22mepoch 66 | loss: 0.63764 | Training_accuracy: 0.71738 | Validation_accuracy: 0.6935  |  0:01:02s\u001b[0m\n",
      "\u001b[35m2024-09-21 14:17:27.948 \u001b[0m\u001b[32m[973/training_job/29581 (pid 11043)] \u001b[0m\u001b[22mepoch 67 | loss: 0.64107 | Training_accuracy: 0.61325 | Validation_accuracy: 0.588   |  0:01:03s\u001b[0m\n",
      "\u001b[35m2024-09-21 14:17:28.535 \u001b[0m\u001b[32m[973/training_job/29581 (pid 11043)] \u001b[0m\u001b[22mepoch 68 | loss: 0.64199 | Training_accuracy: 0.50287 | Validation_accuracy: 0.483   |  0:01:03s\u001b[0m\n",
      "\u001b[35m2024-09-21 14:17:29.125 \u001b[0m\u001b[32m[973/training_job/29581 (pid 11043)] \u001b[0m\u001b[22mepoch 69 | loss: 0.63388 | Training_accuracy: 0.71638 | Validation_accuracy: 0.6875  |  0:01:04s\u001b[0m\n",
      "\u001b[35m2024-09-21 14:17:29.717 \u001b[0m\u001b[32m[973/training_job/29581 (pid 11043)] \u001b[0m\u001b[22mepoch 70 | loss: 0.62893 | Training_accuracy: 0.71762 | Validation_accuracy: 0.694   |  0:01:04s\u001b[0m\n",
      "\u001b[35m2024-09-21 14:17:30.308 \u001b[0m\u001b[32m[973/training_job/29581 (pid 11043)] \u001b[0m\u001b[22mepoch 71 | loss: 0.63305 | Training_accuracy: 0.72438 | Validation_accuracy: 0.694   |  0:01:05s\u001b[0m\n",
      "\u001b[35m2024-09-21 14:17:30.879 \u001b[0m\u001b[32m[973/training_job/29581 (pid 11043)] \u001b[0m\u001b[22mepoch 72 | loss: 0.63052 | Training_accuracy: 0.71712 | Validation_accuracy: 0.6845  |  0:01:06s\u001b[0m\n",
      "\u001b[35m2024-09-21 14:17:31.543 \u001b[0m\u001b[32m[973/training_job/29581 (pid 11043)] \u001b[0m\u001b[22mepoch 73 | loss: 0.63475 | Training_accuracy: 0.72762 | Validation_accuracy: 0.703   |  0:01:06s\u001b[0m\n",
      "\u001b[35m2024-09-21 14:17:32.183 \u001b[0m\u001b[32m[973/training_job/29581 (pid 11043)] \u001b[0m\u001b[22mepoch 74 | loss: 0.62682 | Training_accuracy: 0.72762 | Validation_accuracy: 0.6905  |  0:01:07s\u001b[0m\n",
      "\u001b[35m2024-09-21 14:17:32.756 \u001b[0m\u001b[32m[973/training_job/29581 (pid 11043)] \u001b[0m\u001b[22mepoch 75 | loss: 0.62812 | Training_accuracy: 0.73438 | Validation_accuracy: 0.709   |  0:01:07s\u001b[0m\n",
      "\u001b[35m2024-09-21 14:17:33.358 \u001b[0m\u001b[32m[973/training_job/29581 (pid 11043)] \u001b[0m\u001b[22mepoch 76 | loss: 0.63052 | Training_accuracy: 0.726   | Validation_accuracy: 0.703   |  0:01:08s\u001b[0m\n",
      "\u001b[35m2024-09-21 14:17:33.969 \u001b[0m\u001b[32m[973/training_job/29581 (pid 11043)] \u001b[0m\u001b[22mepoch 77 | loss: 0.62626 | Training_accuracy: 0.72962 | Validation_accuracy: 0.704   |  0:01:09s\u001b[0m\n",
      "\u001b[35m2024-09-21 14:17:34.560 \u001b[0m\u001b[32m[973/training_job/29581 (pid 11043)] \u001b[0m\u001b[22mepoch 78 | loss: 0.62457 | Training_accuracy: 0.73012 | Validation_accuracy: 0.698   |  0:01:09s\u001b[0m\n",
      "\u001b[35m2024-09-21 14:17:35.141 \u001b[0m\u001b[32m[973/training_job/29581 (pid 11043)] \u001b[0m\u001b[22mepoch 79 | loss: 0.62661 | Training_accuracy: 0.7385  | Validation_accuracy: 0.7115  |  0:01:10s\u001b[0m\n",
      "\u001b[35m2024-09-21 14:17:35.859 \u001b[0m\u001b[32m[973/training_job/29581 (pid 11043)] \u001b[0m\u001b[22mepoch 80 | loss: 0.6209  | Training_accuracy: 0.73862 | Validation_accuracy: 0.705   |  0:01:11s\u001b[0m\n",
      "\u001b[35m2024-09-21 14:17:36.514 \u001b[0m\u001b[32m[973/training_job/29581 (pid 11043)] \u001b[0m\u001b[22mepoch 81 | loss: 0.6171  | Training_accuracy: 0.736   | Validation_accuracy: 0.702   |  0:01:11s\u001b[0m\n",
      "\u001b[35m2024-09-21 14:17:37.148 \u001b[0m\u001b[32m[973/training_job/29581 (pid 11043)] \u001b[0m\u001b[22mepoch 82 | loss: 0.6247  | Training_accuracy: 0.73475 | Validation_accuracy: 0.694   |  0:01:12s\u001b[0m\n",
      "\u001b[35m2024-09-21 14:17:37.785 \u001b[0m\u001b[32m[973/training_job/29581 (pid 11043)] \u001b[0m\u001b[22mepoch 83 | loss: 0.6191  | Training_accuracy: 0.74238 | Validation_accuracy: 0.708   |  0:01:12s\u001b[0m\n",
      "\u001b[35m2024-09-21 14:17:38.395 \u001b[0m\u001b[32m[973/training_job/29581 (pid 11043)] \u001b[0m\u001b[22mepoch 84 | loss: 0.61361 | Training_accuracy: 0.74375 | Validation_accuracy: 0.71    |  0:01:13s\u001b[0m\n",
      "\u001b[35m2024-09-21 14:17:38.973 \u001b[0m\u001b[32m[973/training_job/29581 (pid 11043)] \u001b[0m\u001b[22mepoch 85 | loss: 0.61819 | Training_accuracy: 0.74638 | Validation_accuracy: 0.714   |  0:01:14s\u001b[0m\n",
      "\u001b[35m2024-09-21 14:17:39.608 \u001b[0m\u001b[32m[973/training_job/29581 (pid 11043)] \u001b[0m\u001b[22mepoch 86 | loss: 0.62201 | Training_accuracy: 0.74112 | Validation_accuracy: 0.711   |  0:01:14s\u001b[0m\n"
     ]
    },
    {
     "name": "stdout",
     "output_type": "stream",
     "text": [
      "\u001b[35m2024-09-21 14:17:40.210 \u001b[0m\u001b[32m[973/training_job/29581 (pid 11043)] \u001b[0m\u001b[22mepoch 87 | loss: 0.61765 | Training_accuracy: 0.74762 | Validation_accuracy: 0.7205  |  0:01:15s\u001b[0m\n",
      "\u001b[35m2024-09-21 14:17:40.793 \u001b[0m\u001b[32m[973/training_job/29581 (pid 11043)] \u001b[0m\u001b[22mepoch 88 | loss: 0.6201  | Training_accuracy: 0.74925 | Validation_accuracy: 0.714   |  0:01:16s\u001b[0m\n",
      "\u001b[35m2024-09-21 14:17:41.370 \u001b[0m\u001b[32m[973/training_job/29581 (pid 11043)] \u001b[0m\u001b[22mepoch 89 | loss: 0.61058 | Training_accuracy: 0.74625 | Validation_accuracy: 0.71    |  0:01:16s\u001b[0m\n",
      "\u001b[35m2024-09-21 14:17:41.969 \u001b[0m\u001b[32m[973/training_job/29581 (pid 11043)] \u001b[0m\u001b[22mepoch 90 | loss: 0.62295 | Training_accuracy: 0.74638 | Validation_accuracy: 0.721   |  0:01:17s\u001b[0m\n",
      "\u001b[35m2024-09-21 14:17:42.621 \u001b[0m\u001b[32m[973/training_job/29581 (pid 11043)] \u001b[0m\u001b[22mepoch 91 | loss: 0.61255 | Training_accuracy: 0.74412 | Validation_accuracy: 0.715   |  0:01:17s\u001b[0m\n",
      "\u001b[35m2024-09-21 14:17:43.214 \u001b[0m\u001b[32m[973/training_job/29581 (pid 11043)] \u001b[0m\u001b[22mepoch 92 | loss: 0.62247 | Training_accuracy: 0.74462 | Validation_accuracy: 0.718   |  0:01:18s\u001b[0m\n",
      "\u001b[35m2024-09-21 14:17:43.761 \u001b[0m\u001b[32m[973/training_job/29581 (pid 11043)] \u001b[0m\u001b[22mepoch 93 | loss: 0.62246 | Training_accuracy: 0.74312 | Validation_accuracy: 0.7075  |  0:01:18s\u001b[0m\n",
      "\u001b[35m2024-09-21 14:17:44.345 \u001b[0m\u001b[32m[973/training_job/29581 (pid 11043)] \u001b[0m\u001b[22mepoch 94 | loss: 0.61834 | Training_accuracy: 0.74588 | Validation_accuracy: 0.714   |  0:01:19s\u001b[0m\n",
      "\u001b[35m2024-09-21 14:17:44.883 \u001b[0m\u001b[32m[973/training_job/29581 (pid 11043)] \u001b[0m\u001b[22mepoch 95 | loss: 0.62154 | Training_accuracy: 0.74462 | Validation_accuracy: 0.72    |  0:01:20s\u001b[0m\n",
      "\u001b[35m2024-09-21 14:17:45.459 \u001b[0m\u001b[32m[973/training_job/29581 (pid 11043)] \u001b[0m\u001b[22mepoch 96 | loss: 0.62455 | Training_accuracy: 0.74962 | Validation_accuracy: 0.7155  |  0:01:20s\u001b[0m\n",
      "\u001b[35m2024-09-21 14:17:46.041 \u001b[0m\u001b[32m[973/training_job/29581 (pid 11043)] \u001b[0m\u001b[22mepoch 97 | loss: 0.61281 | Training_accuracy: 0.74612 | Validation_accuracy: 0.7125  |  0:01:21s\u001b[0m\n",
      "\u001b[35m2024-09-21 14:17:46.640 \u001b[0m\u001b[32m[973/training_job/29581 (pid 11043)] \u001b[0m\u001b[22mepoch 98 | loss: 0.61348 | Training_accuracy: 0.75475 | Validation_accuracy: 0.7255  |  0:01:21s\u001b[0m\n",
      "\u001b[35m2024-09-21 14:17:47.237 \u001b[0m\u001b[32m[973/training_job/29581 (pid 11043)] \u001b[0m\u001b[22mepoch 99 | loss: 0.60875 | Training_accuracy: 0.75138 | Validation_accuracy: 0.7235  |  0:01:22s\u001b[0m\n",
      "\u001b[35m2024-09-21 14:17:47.244 \u001b[0m\u001b[32m[973/training_job/29581 (pid 11043)] \u001b[0m\u001b[22mStop training because you reached max_epochs = 100 with best_epoch = 98 and best_Validation_accuracy = 0.7255\u001b[0m\n",
      "\u001b[35m2024-09-21 14:17:47.512 \u001b[0m\u001b[32m[973/training_job/29581 (pid 11043)] \u001b[0m\u001b[22mFold finished with accuracy: 0.73425.\u001b[0m\n",
      "\u001b[35m2024-09-21 14:17:49.592 \u001b[0m\u001b[32m[973/training_job/29581 (pid 11043)] \u001b[0m\u001b[1mTask finished successfully.\u001b[0m\n",
      "\u001b[35m2024-09-21 14:17:49.896 \u001b[0m\u001b[32m[973/cross_validation_agg/29585 (pid 11310)] \u001b[0m\u001b[1mTask is starting.\u001b[0m\n",
      "\u001b[35m2024-09-21 14:17:53.193 \u001b[0m\u001b[32m[973/cross_validation_agg/29585 (pid 11310)] \u001b[0m\u001b[22mhp values lead to an accuracy of {'trainer_max_epochs': 100, 'trainer_patience': 10, 'trainer_batch_size': 1024, 'trainer_virtual_batch_size': 256, 'model_n_d': 64, 'model_n_a': 64, 'model_n_steps': 6, 'model_gamma': 1.5, 'model_n_independent': 2, 'model_n_shared': 2, 'model_lambda_sparse': 0.0001, 'model_momentum': 0.3, 'model_clip_value': 2.0, 'model_optimizer_fn': 'Adam', 'model_optimizer_params_lr': 0.02, 'model_scheduler_params_gamma': 0.8, 'model_scheduler_params_step_size': 20, 'model_scheduler_fn': 'StepLR', 'model_epsilon': 1e-15, 'accuracy': 0.569}\u001b[0m\n",
      "\u001b[35m2024-09-21 14:17:55.465 \u001b[0m\u001b[32m[973/cross_validation_agg/29585 (pid 11310)] \u001b[0m\u001b[1mTask finished successfully.\u001b[0m\n",
      "\u001b[35m2024-09-21 14:17:55.697 \u001b[0m\u001b[32m[973/best_hp/29586 (pid 11346)] \u001b[0m\u001b[1mTask is starting.\u001b[0m\n",
      "\u001b[35m2024-09-21 14:17:58.964 \u001b[0m\u001b[32m[973/best_hp/29586 (pid 11346)] \u001b[0m\u001b[22mmf:cv_task  trainer_max_epochs  ...  model_epsilon  accuracy\u001b[0m\n",
      "\u001b[35m2024-09-21 14:18:01.408 \u001b[0m\u001b[32m[973/best_hp/29586 (pid 11346)] \u001b[0m\u001b[22m1      29579                 100  ...   1.000000e-15   0.61075\u001b[0m\n",
      "\u001b[35m2024-09-21 14:18:01.408 \u001b[0m\u001b[32m[973/best_hp/29586 (pid 11346)] \u001b[0m\u001b[22m0      29578                 100  ...   1.000000e-15   0.56900\u001b[0m\n",
      "\u001b[35m2024-09-21 14:18:01.408 \u001b[0m\u001b[32m[973/best_hp/29586 (pid 11346)] \u001b[0m\u001b[22m\u001b[0m\n",
      "\u001b[35m2024-09-21 14:18:01.408 \u001b[0m\u001b[32m[973/best_hp/29586 (pid 11346)] \u001b[0m\u001b[22m[2 rows x 21 columns]\u001b[0m\n",
      "\u001b[35m2024-09-21 14:18:01.409 \u001b[0m\u001b[32m[973/best_hp/29586 (pid 11346)] \u001b[0m\u001b[1mTask finished successfully.\u001b[0m\n",
      "\u001b[35m2024-09-21 14:18:01.654 \u001b[0m\u001b[32m[973/train_model/29587 (pid 11363)] \u001b[0m\u001b[1mTask is starting.\u001b[0m\n",
      "\u001b[35m2024-09-21 14:18:06.371 \u001b[0m\u001b[32m[973/train_model/29587 (pid 11363)] \u001b[0m\u001b[22mepoch 0  | loss: 2.4613  | Training_accuracy: 0.22075 | Validation_accuracy: 0.2185  |  0:00:01s\u001b[0m\n",
      "\u001b[35m2024-09-21 14:18:07.215 \u001b[0m\u001b[32m[973/train_model/29587 (pid 11363)] \u001b[0m\u001b[22mepoch 1  | loss: 1.34732 | Training_accuracy: 0.31262 | Validation_accuracy: 0.2955  |  0:00:01s\u001b[0m\n",
      "\u001b[35m2024-09-21 14:18:08.030 \u001b[0m\u001b[32m[973/train_model/29587 (pid 11363)] \u001b[0m\u001b[22mepoch 2  | loss: 1.10021 | Training_accuracy: 0.39025 | Validation_accuracy: 0.366   |  0:00:02s\u001b[0m\n",
      "\u001b[35m2024-09-21 14:18:08.859 \u001b[0m\u001b[32m[973/train_model/29587 (pid 11363)] \u001b[0m\u001b[22mepoch 3  | loss: 0.90739 | Training_accuracy: 0.38825 | Validation_accuracy: 0.3745  |  0:00:03s\u001b[0m\n",
      "\u001b[35m2024-09-21 14:18:09.702 \u001b[0m\u001b[32m[973/train_model/29587 (pid 11363)] \u001b[0m\u001b[22mepoch 4  | loss: 0.83962 | Training_accuracy: 0.4665  | Validation_accuracy: 0.449   |  0:00:04s\u001b[0m\n",
      "\u001b[35m2024-09-21 14:18:10.525 \u001b[0m\u001b[32m[973/train_model/29587 (pid 11363)] \u001b[0m\u001b[22mepoch 5  | loss: 0.8066  | Training_accuracy: 0.44625 | Validation_accuracy: 0.425   |  0:00:05s\u001b[0m\n",
      "\u001b[35m2024-09-21 14:18:11.353 \u001b[0m\u001b[32m[973/train_model/29587 (pid 11363)] \u001b[0m\u001b[22mepoch 6  | loss: 0.77998 | Training_accuracy: 0.47825 | Validation_accuracy: 0.459   |  0:00:06s\u001b[0m\n",
      "\u001b[35m2024-09-21 14:18:12.186 \u001b[0m\u001b[32m[973/train_model/29587 (pid 11363)] \u001b[0m\u001b[22mepoch 7  | loss: 0.74916 | Training_accuracy: 0.46738 | Validation_accuracy: 0.4455  |  0:00:06s\u001b[0m\n",
      "\u001b[35m2024-09-21 14:18:13.004 \u001b[0m\u001b[32m[973/train_model/29587 (pid 11363)] \u001b[0m\u001b[22mepoch 8  | loss: 0.74855 | Training_accuracy: 0.447   | Validation_accuracy: 0.4275  |  0:00:07s\u001b[0m\n",
      "\u001b[35m2024-09-21 14:18:13.843 \u001b[0m\u001b[32m[973/train_model/29587 (pid 11363)] \u001b[0m\u001b[22mepoch 9  | loss: 0.74118 | Training_accuracy: 0.44788 | Validation_accuracy: 0.4255  |  0:00:08s\u001b[0m\n",
      "\u001b[35m2024-09-21 14:18:14.674 \u001b[0m\u001b[32m[973/train_model/29587 (pid 11363)] \u001b[0m\u001b[22mepoch 10 | loss: 0.74323 | Training_accuracy: 0.487   | Validation_accuracy: 0.4725  |  0:00:09s\u001b[0m\n",
      "\u001b[35m2024-09-21 14:18:15.537 \u001b[0m\u001b[32m[973/train_model/29587 (pid 11363)] \u001b[0m\u001b[22mepoch 11 | loss: 0.73549 | Training_accuracy: 0.534   | Validation_accuracy: 0.5125  |  0:00:10s\u001b[0m\n",
      "\u001b[35m2024-09-21 14:18:16.378 \u001b[0m\u001b[32m[973/train_model/29587 (pid 11363)] \u001b[0m\u001b[22mepoch 12 | loss: 0.72536 | Training_accuracy: 0.559   | Validation_accuracy: 0.5355  |  0:00:11s\u001b[0m\n",
      "\u001b[35m2024-09-21 14:18:17.195 \u001b[0m\u001b[32m[973/train_model/29587 (pid 11363)] \u001b[0m\u001b[22mepoch 13 | loss: 0.71726 | Training_accuracy: 0.52938 | Validation_accuracy: 0.5105  |  0:00:11s\u001b[0m\n",
      "\u001b[35m2024-09-21 14:18:18.017 \u001b[0m\u001b[32m[973/train_model/29587 (pid 11363)] \u001b[0m\u001b[22mepoch 14 | loss: 0.71481 | Training_accuracy: 0.53438 | Validation_accuracy: 0.529   |  0:00:12s\u001b[0m\n",
      "\u001b[35m2024-09-21 14:18:18.889 \u001b[0m\u001b[32m[973/train_model/29587 (pid 11363)] \u001b[0m\u001b[22mepoch 15 | loss: 0.70663 | Training_accuracy: 0.58688 | Validation_accuracy: 0.5725  |  0:00:13s\u001b[0m\n",
      "\u001b[35m2024-09-21 14:18:19.743 \u001b[0m\u001b[32m[973/train_model/29587 (pid 11363)] \u001b[0m\u001b[22mepoch 16 | loss: 0.70556 | Training_accuracy: 0.60388 | Validation_accuracy: 0.5895  |  0:00:14s\u001b[0m\n",
      "\u001b[35m2024-09-21 14:18:20.570 \u001b[0m\u001b[32m[973/train_model/29587 (pid 11363)] \u001b[0m\u001b[22mepoch 17 | loss: 0.69319 | Training_accuracy: 0.585   | Validation_accuracy: 0.5755  |  0:00:15s\u001b[0m\n",
      "\u001b[35m2024-09-21 14:18:21.418 \u001b[0m\u001b[32m[973/train_model/29587 (pid 11363)] \u001b[0m\u001b[22mepoch 18 | loss: 0.69986 | Training_accuracy: 0.56588 | Validation_accuracy: 0.5585  |  0:00:16s\u001b[0m\n",
      "\u001b[35m2024-09-21 14:18:22.268 \u001b[0m\u001b[32m[973/train_model/29587 (pid 11363)] \u001b[0m\u001b[22mepoch 19 | loss: 0.70054 | Training_accuracy: 0.58438 | Validation_accuracy: 0.5605  |  0:00:16s\u001b[0m\n"
     ]
    },
    {
     "name": "stdout",
     "output_type": "stream",
     "text": [
      "\u001b[35m2024-09-21 14:18:23.120 \u001b[0m\u001b[32m[973/train_model/29587 (pid 11363)] \u001b[0m\u001b[22mepoch 20 | loss: 0.70181 | Training_accuracy: 0.63938 | Validation_accuracy: 0.6205  |  0:00:17s\u001b[0m\n",
      "\u001b[35m2024-09-21 14:18:23.998 \u001b[0m\u001b[32m[973/train_model/29587 (pid 11363)] \u001b[0m\u001b[22mepoch 21 | loss: 0.68558 | Training_accuracy: 0.64375 | Validation_accuracy: 0.6215  |  0:00:18s\u001b[0m\n",
      "\u001b[35m2024-09-21 14:18:24.842 \u001b[0m\u001b[32m[973/train_model/29587 (pid 11363)] \u001b[0m\u001b[22mepoch 22 | loss: 0.69013 | Training_accuracy: 0.66825 | Validation_accuracy: 0.6485  |  0:00:19s\u001b[0m\n",
      "\u001b[35m2024-09-21 14:18:25.706 \u001b[0m\u001b[32m[973/train_model/29587 (pid 11363)] \u001b[0m\u001b[22mepoch 23 | loss: 0.69042 | Training_accuracy: 0.65162 | Validation_accuracy: 0.633   |  0:00:20s\u001b[0m\n",
      "\u001b[35m2024-09-21 14:18:26.562 \u001b[0m\u001b[32m[973/train_model/29587 (pid 11363)] \u001b[0m\u001b[22mepoch 24 | loss: 0.68288 | Training_accuracy: 0.67212 | Validation_accuracy: 0.658   |  0:00:21s\u001b[0m\n",
      "\u001b[35m2024-09-21 14:18:27.448 \u001b[0m\u001b[32m[973/train_model/29587 (pid 11363)] \u001b[0m\u001b[22mepoch 25 | loss: 0.68513 | Training_accuracy: 0.67812 | Validation_accuracy: 0.67    |  0:00:22s\u001b[0m\n",
      "\u001b[35m2024-09-21 14:18:28.435 \u001b[0m\u001b[32m[973/train_model/29587 (pid 11363)] \u001b[0m\u001b[22mepoch 26 | loss: 0.68175 | Training_accuracy: 0.69688 | Validation_accuracy: 0.6865  |  0:00:23s\u001b[0m\n",
      "\u001b[35m2024-09-21 14:18:29.344 \u001b[0m\u001b[32m[973/train_model/29587 (pid 11363)] \u001b[0m\u001b[22mepoch 27 | loss: 0.67838 | Training_accuracy: 0.691   | Validation_accuracy: 0.677   |  0:00:24s\u001b[0m\n",
      "\u001b[35m2024-09-21 14:18:30.395 \u001b[0m\u001b[32m[973/train_model/29587 (pid 11363)] \u001b[0m\u001b[22mepoch 28 | loss: 0.67264 | Training_accuracy: 0.70562 | Validation_accuracy: 0.6785  |  0:00:25s\u001b[0m\n",
      "\u001b[35m2024-09-21 14:18:31.962 \u001b[0m\u001b[32m[973/train_model/29587 (pid 11363)] \u001b[0m\u001b[22mepoch 29 | loss: 0.66888 | Training_accuracy: 0.70175 | Validation_accuracy: 0.684   |  0:00:26s\u001b[0m\n",
      "\u001b[35m2024-09-21 14:18:32.912 \u001b[0m\u001b[32m[973/train_model/29587 (pid 11363)] \u001b[0m\u001b[22mepoch 30 | loss: 0.67104 | Training_accuracy: 0.70738 | Validation_accuracy: 0.6845  |  0:00:27s\u001b[0m\n",
      "\u001b[35m2024-09-21 14:18:33.904 \u001b[0m\u001b[32m[973/train_model/29587 (pid 11363)] \u001b[0m\u001b[22mepoch 31 | loss: 0.66824 | Training_accuracy: 0.72075 | Validation_accuracy: 0.695   |  0:00:28s\u001b[0m\n",
      "\u001b[35m2024-09-21 14:18:34.807 \u001b[0m\u001b[32m[973/train_model/29587 (pid 11363)] \u001b[0m\u001b[22mepoch 32 | loss: 0.66731 | Training_accuracy: 0.724   | Validation_accuracy: 0.701   |  0:00:29s\u001b[0m\n",
      "\u001b[35m2024-09-21 14:18:35.715 \u001b[0m\u001b[32m[973/train_model/29587 (pid 11363)] \u001b[0m\u001b[22mepoch 33 | loss: 0.66855 | Training_accuracy: 0.72425 | Validation_accuracy: 0.7025  |  0:00:30s\u001b[0m\n",
      "\u001b[35m2024-09-21 14:18:36.609 \u001b[0m\u001b[32m[973/train_model/29587 (pid 11363)] \u001b[0m\u001b[22mepoch 34 | loss: 0.66459 | Training_accuracy: 0.72025 | Validation_accuracy: 0.695   |  0:00:31s\u001b[0m\n",
      "\u001b[35m2024-09-21 14:18:37.631 \u001b[0m\u001b[32m[973/train_model/29587 (pid 11363)] \u001b[0m\u001b[22mepoch 35 | loss: 0.67311 | Training_accuracy: 0.70738 | Validation_accuracy: 0.6865  |  0:00:32s\u001b[0m\n",
      "\u001b[35m2024-09-21 14:18:38.631 \u001b[0m\u001b[32m[973/train_model/29587 (pid 11363)] \u001b[0m\u001b[22mepoch 36 | loss: 0.67363 | Training_accuracy: 0.73262 | Validation_accuracy: 0.7005  |  0:00:33s\u001b[0m\n",
      "\u001b[35m2024-09-21 14:18:39.559 \u001b[0m\u001b[32m[973/train_model/29587 (pid 11363)] \u001b[0m\u001b[22mepoch 37 | loss: 0.66774 | Training_accuracy: 0.7435  | Validation_accuracy: 0.724   |  0:00:34s\u001b[0m\n",
      "\u001b[35m2024-09-21 14:18:40.487 \u001b[0m\u001b[32m[973/train_model/29587 (pid 11363)] \u001b[0m\u001b[22mepoch 38 | loss: 0.67432 | Training_accuracy: 0.736   | Validation_accuracy: 0.7155  |  0:00:35s\u001b[0m\n",
      "\u001b[35m2024-09-21 14:18:41.392 \u001b[0m\u001b[32m[973/train_model/29587 (pid 11363)] \u001b[0m\u001b[22mepoch 39 | loss: 0.67785 | Training_accuracy: 0.74712 | Validation_accuracy: 0.727   |  0:00:36s\u001b[0m\n",
      "\u001b[35m2024-09-21 14:18:42.311 \u001b[0m\u001b[32m[973/train_model/29587 (pid 11363)] \u001b[0m\u001b[22mepoch 40 | loss: 0.66749 | Training_accuracy: 0.752   | Validation_accuracy: 0.7355  |  0:00:36s\u001b[0m\n",
      "\u001b[35m2024-09-21 14:18:43.270 \u001b[0m\u001b[32m[973/train_model/29587 (pid 11363)] \u001b[0m\u001b[22mepoch 41 | loss: 0.66441 | Training_accuracy: 0.75262 | Validation_accuracy: 0.7365  |  0:00:37s\u001b[0m\n",
      "\u001b[35m2024-09-21 14:18:44.202 \u001b[0m\u001b[32m[973/train_model/29587 (pid 11363)] \u001b[0m\u001b[22mepoch 42 | loss: 0.65857 | Training_accuracy: 0.75588 | Validation_accuracy: 0.7355  |  0:00:38s\u001b[0m\n",
      "\u001b[35m2024-09-21 14:18:45.113 \u001b[0m\u001b[32m[973/train_model/29587 (pid 11363)] \u001b[0m\u001b[22mepoch 43 | loss: 0.66203 | Training_accuracy: 0.757   | Validation_accuracy: 0.7375  |  0:00:39s\u001b[0m\n",
      "\u001b[35m2024-09-21 14:18:46.047 \u001b[0m\u001b[32m[973/train_model/29587 (pid 11363)] \u001b[0m\u001b[22mepoch 44 | loss: 0.65055 | Training_accuracy: 0.76025 | Validation_accuracy: 0.741   |  0:00:40s\u001b[0m\n",
      "\u001b[35m2024-09-21 14:18:46.971 \u001b[0m\u001b[32m[973/train_model/29587 (pid 11363)] \u001b[0m\u001b[22mepoch 45 | loss: 0.64774 | Training_accuracy: 0.76075 | Validation_accuracy: 0.7435  |  0:00:41s\u001b[0m\n",
      "\u001b[35m2024-09-21 14:18:47.867 \u001b[0m\u001b[32m[973/train_model/29587 (pid 11363)] \u001b[0m\u001b[22mepoch 46 | loss: 0.64854 | Training_accuracy: 0.7625  | Validation_accuracy: 0.7355  |  0:00:42s\u001b[0m\n",
      "\u001b[35m2024-09-21 14:18:48.798 \u001b[0m\u001b[32m[973/train_model/29587 (pid 11363)] \u001b[0m\u001b[22mepoch 47 | loss: 0.6459  | Training_accuracy: 0.76162 | Validation_accuracy: 0.743   |  0:00:43s\u001b[0m\n",
      "\u001b[35m2024-09-21 14:18:49.693 \u001b[0m\u001b[32m[973/train_model/29587 (pid 11363)] \u001b[0m\u001b[22mepoch 48 | loss: 0.64947 | Training_accuracy: 0.76338 | Validation_accuracy: 0.74    |  0:00:44s\u001b[0m\n",
      "\u001b[35m2024-09-21 14:18:50.618 \u001b[0m\u001b[32m[973/train_model/29587 (pid 11363)] \u001b[0m\u001b[22mepoch 49 | loss: 0.64538 | Training_accuracy: 0.7655  | Validation_accuracy: 0.7415  |  0:00:45s\u001b[0m\n",
      "\u001b[35m2024-09-21 14:18:51.529 \u001b[0m\u001b[32m[973/train_model/29587 (pid 11363)] \u001b[0m\u001b[22mepoch 50 | loss: 0.64053 | Training_accuracy: 0.76925 | Validation_accuracy: 0.748   |  0:00:46s\u001b[0m\n",
      "\u001b[35m2024-09-21 14:18:52.448 \u001b[0m\u001b[32m[973/train_model/29587 (pid 11363)] \u001b[0m\u001b[22mepoch 51 | loss: 0.64119 | Training_accuracy: 0.77338 | Validation_accuracy: 0.7465  |  0:00:47s\u001b[0m\n",
      "\u001b[35m2024-09-21 14:18:53.373 \u001b[0m\u001b[32m[973/train_model/29587 (pid 11363)] \u001b[0m\u001b[22mepoch 52 | loss: 0.64445 | Training_accuracy: 0.77138 | Validation_accuracy: 0.7505  |  0:00:48s\u001b[0m\n",
      "\u001b[35m2024-09-21 14:18:54.278 \u001b[0m\u001b[32m[973/train_model/29587 (pid 11363)] \u001b[0m\u001b[22mepoch 53 | loss: 0.64726 | Training_accuracy: 0.77325 | Validation_accuracy: 0.752   |  0:00:48s\u001b[0m\n",
      "\u001b[35m2024-09-21 14:18:55.216 \u001b[0m\u001b[32m[973/train_model/29587 (pid 11363)] \u001b[0m\u001b[22mepoch 54 | loss: 0.64474 | Training_accuracy: 0.77238 | Validation_accuracy: 0.7495  |  0:00:49s\u001b[0m\n",
      "\u001b[35m2024-09-21 14:18:56.113 \u001b[0m\u001b[32m[973/train_model/29587 (pid 11363)] \u001b[0m\u001b[22mepoch 55 | loss: 0.64183 | Training_accuracy: 0.7715  | Validation_accuracy: 0.752   |  0:00:50s\u001b[0m\n",
      "\u001b[35m2024-09-21 14:18:57.111 \u001b[0m\u001b[32m[973/train_model/29587 (pid 11363)] \u001b[0m\u001b[22mepoch 56 | loss: 0.64126 | Training_accuracy: 0.77475 | Validation_accuracy: 0.7475  |  0:00:51s\u001b[0m\n",
      "\u001b[35m2024-09-21 14:18:58.031 \u001b[0m\u001b[32m[973/train_model/29587 (pid 11363)] \u001b[0m\u001b[22mepoch 57 | loss: 0.64582 | Training_accuracy: 0.77462 | Validation_accuracy: 0.753   |  0:00:52s\u001b[0m\n",
      "\u001b[35m2024-09-21 14:18:58.924 \u001b[0m\u001b[32m[973/train_model/29587 (pid 11363)] \u001b[0m\u001b[22mepoch 58 | loss: 0.63585 | Training_accuracy: 0.77512 | Validation_accuracy: 0.751   |  0:00:53s\u001b[0m\n",
      "\u001b[35m2024-09-21 14:18:59.827 \u001b[0m\u001b[32m[973/train_model/29587 (pid 11363)] \u001b[0m\u001b[22mepoch 59 | loss: 0.63344 | Training_accuracy: 0.77875 | Validation_accuracy: 0.746   |  0:00:54s\u001b[0m\n",
      "\u001b[35m2024-09-21 14:19:00.764 \u001b[0m\u001b[32m[973/train_model/29587 (pid 11363)] \u001b[0m\u001b[22mepoch 60 | loss: 0.62622 | Training_accuracy: 0.77762 | Validation_accuracy: 0.7475  |  0:00:55s\u001b[0m\n",
      "\u001b[35m2024-09-21 14:19:01.683 \u001b[0m\u001b[32m[973/train_model/29587 (pid 11363)] \u001b[0m\u001b[22mepoch 61 | loss: 0.63001 | Training_accuracy: 0.78175 | Validation_accuracy: 0.751   |  0:00:56s\u001b[0m\n",
      "\u001b[35m2024-09-21 14:19:02.594 \u001b[0m\u001b[32m[973/train_model/29587 (pid 11363)] \u001b[0m\u001b[22mepoch 62 | loss: 0.62366 | Training_accuracy: 0.77888 | Validation_accuracy: 0.751   |  0:00:57s\u001b[0m\n",
      "\u001b[35m2024-09-21 14:19:03.606 \u001b[0m\u001b[32m[973/train_model/29587 (pid 11363)] \u001b[0m\u001b[22mepoch 63 | loss: 0.62185 | Training_accuracy: 0.78038 | Validation_accuracy: 0.752   |  0:00:58s\u001b[0m\n",
      "\u001b[35m2024-09-21 14:19:04.538 \u001b[0m\u001b[32m[973/train_model/29587 (pid 11363)] \u001b[0m\u001b[22mepoch 64 | loss: 0.62147 | Training_accuracy: 0.78088 | Validation_accuracy: 0.752   |  0:00:59s\u001b[0m\n"
     ]
    },
    {
     "name": "stdout",
     "output_type": "stream",
     "text": [
      "\u001b[35m2024-09-21 14:19:05.484 \u001b[0m\u001b[32m[973/train_model/29587 (pid 11363)] \u001b[0m\u001b[22mepoch 65 | loss: 0.61785 | Training_accuracy: 0.781   | Validation_accuracy: 0.752   |  0:01:00s\u001b[0m\n",
      "\u001b[35m2024-09-21 14:19:06.416 \u001b[0m\u001b[32m[973/train_model/29587 (pid 11363)] \u001b[0m\u001b[22mepoch 66 | loss: 0.61883 | Training_accuracy: 0.78388 | Validation_accuracy: 0.7505  |  0:01:01s\u001b[0m\n",
      "\u001b[35m2024-09-21 14:19:07.306 \u001b[0m\u001b[32m[973/train_model/29587 (pid 11363)] \u001b[0m\u001b[22mepoch 67 | loss: 0.61842 | Training_accuracy: 0.781   | Validation_accuracy: 0.7505  |  0:01:01s\u001b[0m\n",
      "\u001b[35m2024-09-21 14:19:07.315 \u001b[0m\u001b[32m[973/train_model/29587 (pid 11363)] \u001b[0m\u001b[22m\u001b[0m\n",
      "\u001b[35m2024-09-21 14:19:07.793 \u001b[0m\u001b[32m[973/train_model/29587 (pid 11363)] \u001b[0m\u001b[22mEarly stopping occurred at epoch 67 with best_epoch = 57 and best_Validation_accuracy = 0.753\u001b[0m\n",
      "\u001b[35m2024-09-21 14:19:07.793 \u001b[0m\u001b[32m[973/train_model/29587 (pid 11363)] \u001b[0m\u001b[22msubset of true positives for 'class_0' : 10\u001b[0m\n",
      "\u001b[35m2024-09-21 14:19:07.976 \u001b[0m\u001b[32m[973/train_model/29587 (pid 11363)] \u001b[0m\u001b[22mWarning: tight_layout may not be fully compatible with all Axes.\u001b[0m\n",
      "\u001b[35m2024-09-21 14:19:07.976 \u001b[0m\u001b[32m[973/train_model/29587 (pid 11363)] \u001b[0m\u001b[22mfig dims : [7.    3.075]\u001b[0m\n",
      "\u001b[35m2024-09-21 14:19:08.009 \u001b[0m\u001b[32m[973/train_model/29587 (pid 11363)] \u001b[0m\u001b[22msubset of true positives for 'class_1' : 10\u001b[0m\n",
      "\u001b[35m2024-09-21 14:19:08.191 \u001b[0m\u001b[32m[973/train_model/29587 (pid 11363)] \u001b[0m\u001b[22mWarning: tight_layout may not be fully compatible with all Axes.\u001b[0m\n",
      "\u001b[35m2024-09-21 14:19:08.191 \u001b[0m\u001b[32m[973/train_model/29587 (pid 11363)] \u001b[0m\u001b[22mfig dims : [7.    3.075]\u001b[0m\n",
      "\u001b[35m2024-09-21 14:19:08.221 \u001b[0m\u001b[32m[973/train_model/29587 (pid 11363)] \u001b[0m\u001b[22msubset of true positives for 'class_2' : 10\u001b[0m\n",
      "\u001b[35m2024-09-21 14:19:08.399 \u001b[0m\u001b[32m[973/train_model/29587 (pid 11363)] \u001b[0m\u001b[22mWarning: tight_layout may not be fully compatible with all Axes.\u001b[0m\n",
      "\u001b[35m2024-09-21 14:19:08.399 \u001b[0m\u001b[32m[973/train_model/29587 (pid 11363)] \u001b[0m\u001b[22mfig dims : [7.    3.075]\u001b[0m\n",
      "\u001b[35m2024-09-21 14:19:08.426 \u001b[0m\u001b[32m[973/train_model/29587 (pid 11363)] \u001b[0m\u001b[22msubset of true positives for 'class_3' : 10\u001b[0m\n",
      "\u001b[35m2024-09-21 14:19:08.697 \u001b[0m\u001b[32m[973/train_model/29587 (pid 11363)] \u001b[0m\u001b[22mWarning: tight_layout may not be fully compatible with all Axes.\u001b[0m\n",
      "\u001b[35m2024-09-21 14:19:08.697 \u001b[0m\u001b[32m[973/train_model/29587 (pid 11363)] \u001b[0m\u001b[22mfig dims : [7.    3.075]\u001b[0m\n",
      "\u001b[35m2024-09-21 14:19:13.114 \u001b[0m\u001b[32m[973/train_model/29587 (pid 11363)] \u001b[0m\u001b[1mTask finished successfully.\u001b[0m\n",
      "\u001b[35m2024-09-21 14:19:13.365 \u001b[0m\u001b[32m[973/evaluate_model/29588 (pid 11530)] \u001b[0m\u001b[1mTask is starting.\u001b[0m\n",
      "\u001b[35m2024-09-21 14:19:16.605 \u001b[0m\u001b[32m[973/evaluate_model/29588 (pid 11530)] \u001b[0m\u001b[22m{'categ_feature0': ['value1', 'value2', 'value3', 'value4', 'value5', 'value6', 'value7', 'value8', 'value9'], 'bucketized_num_feature2': ['bucket001', 'bucket002', 'bucket003', 'bucket004', 'bucket005', 'bucket006', 'bucket007', 'bucket008', 'bucket009', 'bucket010', 'bucket011', 'bucket012', 'bucket013', 'bucket014', 'bucket015', 'bucket016', 'bucket017', 'bucket018', 'bucket019', 'bucket020', 'bucket021', 'bucket022', 'bucket023', 'bucket024', 'bucket025', 'bucket026', 'bucket027', 'bucket028', 'bucket029', 'bucket030', 'bucket031', 'bucket032', 'bucket033', 'bucket034', 'bucket035', 'bucket036', 'bucket037', 'bucket038', 'bucket039', 'bucket040', 'bucket041', 'bucket042', 'bucket043', 'bucket044', 'bucket045', 'bucket046', 'bucket047', 'bucket048', 'bucket049', 'bucket050', 'bucket051', 'bucket052', 'bucket053', 'bucket056', 'bucket057', 'bucket059', 'bucket066', 'bucket067', 'bucket068', 'bucket074', 'bucket079', 'bucket100'], 'bucketized_num_feature4': ['bucket01', 'bucket50']}\u001b[0m\n",
      "\u001b[35m2024-09-21 14:19:16.678 \u001b[0m\u001b[32m[973/evaluate_model/29588 (pid 11530)] \u001b[0m\u001b[22mcateg_feature0\u001b[0m\n",
      "\u001b[35m2024-09-21 14:19:16.678 \u001b[0m\u001b[32m[973/evaluate_model/29588 (pid 11530)] \u001b[0m\u001b[22maccuracy  precision    recall        f1\u001b[0m\n",
      "\u001b[35m2024-09-21 14:19:19.257 \u001b[0m\u001b[32m[973/evaluate_model/29588 (pid 11530)] \u001b[0m\u001b[22mvalue1  0.760870   0.784005  0.760870  0.749966\u001b[0m\n",
      "\u001b[35m2024-09-21 14:19:19.257 \u001b[0m\u001b[32m[973/evaluate_model/29588 (pid 11530)] \u001b[0m\u001b[22mvalue2  0.741071   0.763498  0.741071  0.723805\u001b[0m\n",
      "\u001b[35m2024-09-21 14:19:19.257 \u001b[0m\u001b[32m[973/evaluate_model/29588 (pid 11530)] \u001b[0m\u001b[22mvalue3  0.683673   0.684318  0.683673  0.655786\u001b[0m\n",
      "\u001b[35m2024-09-21 14:19:19.257 \u001b[0m\u001b[32m[973/evaluate_model/29588 (pid 11530)] \u001b[0m\u001b[22mvalue4  0.794393   0.805061  0.794393  0.767117\u001b[0m\n",
      "\u001b[35m2024-09-21 14:19:19.257 \u001b[0m\u001b[32m[973/evaluate_model/29588 (pid 11530)] \u001b[0m\u001b[22mvalue5  0.786070   0.794532  0.786070  0.772109\u001b[0m\n",
      "\u001b[35m2024-09-21 14:19:19.257 \u001b[0m\u001b[32m[973/evaluate_model/29588 (pid 11530)] \u001b[0m\u001b[22mvalue6  0.778656   0.797990  0.778656  0.751702\u001b[0m\n",
      "\u001b[35m2024-09-21 14:19:19.257 \u001b[0m\u001b[32m[973/evaluate_model/29588 (pid 11530)] \u001b[0m\u001b[22mvalue7  0.732794   0.765910  0.732794  0.704775\u001b[0m\n",
      "\u001b[35m2024-09-21 14:19:19.257 \u001b[0m\u001b[32m[973/evaluate_model/29588 (pid 11530)] \u001b[0m\u001b[22mvalue8  0.750000   0.761903  0.750000  0.733868\u001b[0m\n",
      "\u001b[35m2024-09-21 14:19:19.257 \u001b[0m\u001b[32m[973/evaluate_model/29588 (pid 11530)] \u001b[0m\u001b[22mvalue9  0.743961   0.755559  0.743961  0.728037\u001b[0m\n",
      "\u001b[35m2024-09-21 14:19:19.258 \u001b[0m\u001b[32m[973/evaluate_model/29588 (pid 11530)] \u001b[0m\u001b[1mTask finished successfully.\u001b[0m\n",
      "\u001b[35m2024-09-21 14:19:19.501 \u001b[0m\u001b[32m[973/model_version_blessing/29589 (pid 11547)] \u001b[0m\u001b[1mTask is starting.\u001b[0m\n",
      "\u001b[35m2024-09-21 14:19:27.411 \u001b[0m\u001b[32m[973/model_version_blessing/29589 (pid 11547)] \u001b[0m\u001b[22mnew : 0.753 - previous best : 0.7966666666666666 - model_version_blessing : False\u001b[0m\n",
      "\u001b[35m2024-09-21 14:19:29.887 \u001b[0m\u001b[32m[973/model_version_blessing/29589 (pid 11547)] \u001b[0m\u001b[1mTask finished successfully.\u001b[0m\n",
      "\u001b[35m2024-09-21 14:19:30.131 \u001b[0m\u001b[32m[973/infra_validator/29590 (pid 11582)] \u001b[0m\u001b[1mTask is starting.\u001b[0m\n",
      "\u001b[35m2024-09-21 14:19:36.161 \u001b[0m\u001b[32m[973/infra_validator/29590 (pid 11582)] \u001b[0m\u001b[1mTask finished successfully.\u001b[0m\n",
      "\u001b[35m2024-09-21 14:19:36.382 \u001b[0m\u001b[32m[973/pipeline_card/29591 (pid 11617)] \u001b[0m\u001b[1mTask is starting.\u001b[0m\n",
      "\u001b[35m2024-09-21 14:19:56.118 \u001b[0m\u001b[32m[973/pipeline_card/29591 (pid 11617)] \u001b[0m\u001b[1mTask finished successfully.\u001b[0m\n",
      "\u001b[35m2024-09-21 14:19:56.445 \u001b[0m\u001b[32m[973/deploy/29592 (pid 11705)] \u001b[0m\u001b[1mTask is starting.\u001b[0m\n",
      "\u001b[35m2024-09-21 14:20:02.511 \u001b[0m\u001b[32m[973/deploy/29592 (pid 11705)] \u001b[0m\u001b[1mTask finished successfully.\u001b[0m\n",
      "\u001b[35m2024-09-21 14:20:02.811 \u001b[0m\u001b[32m[973/load_test/29593 (pid 11723)] \u001b[0m\u001b[1mTask is starting.\u001b[0m\n",
      "\u001b[35m2024-09-21 14:20:08.607 \u001b[0m\u001b[32m[973/load_test/29593 (pid 11723)] \u001b[0m\u001b[1mTask finished successfully.\u001b[0m\n",
      "\u001b[35m2024-09-21 14:20:08.845 \u001b[0m\u001b[32m[973/end/29594 (pid 11758)] \u001b[0m\u001b[1mTask is starting.\u001b[0m\n",
      "\u001b[35m2024-09-21 14:20:14.780 \u001b[0m\u001b[32m[973/end/29594 (pid 11758)] \u001b[0m\u001b[1mTask finished successfully.\u001b[0m\n",
      "\u001b[35m2024-09-21 14:20:14.781 \u001b[0m\u001b[1mDone!\u001b[0m\n",
      "\u001b[0m"
     ]
    }
   ],
   "source": [
    "%retrain_pipelines_local retraining_pipeline.py run \\\n",
    "    --data_file \"../data/synthetic_classif_tab_data_4classes.csv\" \\\n",
    "    --buckets_param '{\"num_feature2\": 100, \"num_feature4\": 50}' \\\n",
    "    --pipeline_hp_grid \"${pipeline_hp_grid}\" \\\n",
    "    --cv_folds 2 \\\n",
    "    --wandb_run_mode disabled\n",
    "    #--preprocess_artifacts_path \".\" \\\n",
    "    #--pipeline_card_artifacts_path \".\" \\"
   ]
  },
  {
   "cell_type": "code",
   "execution_count": null,
   "id": "203ab2bc-f558-4bf8-9ca8-445cfb605452",
   "metadata": {
    "scrolled": true
   },
   "outputs": [],
   "source": [
    "%retrain_pipelines_local retraining_pipeline.py resume pipeline_card"
   ]
  },
  {
   "cell_type": "markdown",
   "id": "4abc0950-dbb4-4d31-aaab-c9bf2c4bb816",
   "metadata": {},
   "source": [
    "# Inspectors"
   ]
  },
  {
   "cell_type": "markdown",
   "id": "c21d23de-e2d3-4301-9909-690a8f7af2ca",
   "metadata": {},
   "source": [
    "After the fact inspecting retraining pipelines runs."
   ]
  },
  {
   "cell_type": "markdown",
   "id": "b0a723ec-1972-45c1-be71-29628aa9faa4",
   "metadata": {},
   "source": [
    "## local Metaflow SDK"
   ]
  },
  {
   "cell_type": "code",
   "execution_count": 6,
   "id": "1b3791cd-3759-4b06-8dd1-75acfb0fd1be",
   "metadata": {},
   "outputs": [],
   "source": [
    "from retrain_pipelines.frameworks import local_metaflow as metaflow"
   ]
  },
  {
   "cell_type": "code",
   "execution_count": 9,
   "id": "4c781840-d41f-4da5-955c-eb39992cd644",
   "metadata": {},
   "outputs": [
    {
     "data": {
      "text/html": [
       "<style>#sk-container-id-1 {\n",
       "  /* Definition of color scheme common for light and dark mode */\n",
       "  --sklearn-color-text: black;\n",
       "  --sklearn-color-line: gray;\n",
       "  /* Definition of color scheme for unfitted estimators */\n",
       "  --sklearn-color-unfitted-level-0: #fff5e6;\n",
       "  --sklearn-color-unfitted-level-1: #f6e4d2;\n",
       "  --sklearn-color-unfitted-level-2: #ffe0b3;\n",
       "  --sklearn-color-unfitted-level-3: chocolate;\n",
       "  /* Definition of color scheme for fitted estimators */\n",
       "  --sklearn-color-fitted-level-0: #f0f8ff;\n",
       "  --sklearn-color-fitted-level-1: #d4ebff;\n",
       "  --sklearn-color-fitted-level-2: #b3dbfd;\n",
       "  --sklearn-color-fitted-level-3: cornflowerblue;\n",
       "\n",
       "  /* Specific color for light theme */\n",
       "  --sklearn-color-text-on-default-background: var(--sg-text-color, var(--theme-code-foreground, var(--jp-content-font-color1, black)));\n",
       "  --sklearn-color-background: var(--sg-background-color, var(--theme-background, var(--jp-layout-color0, white)));\n",
       "  --sklearn-color-border-box: var(--sg-text-color, var(--theme-code-foreground, var(--jp-content-font-color1, black)));\n",
       "  --sklearn-color-icon: #696969;\n",
       "\n",
       "  @media (prefers-color-scheme: dark) {\n",
       "    /* Redefinition of color scheme for dark theme */\n",
       "    --sklearn-color-text-on-default-background: var(--sg-text-color, var(--theme-code-foreground, var(--jp-content-font-color1, white)));\n",
       "    --sklearn-color-background: var(--sg-background-color, var(--theme-background, var(--jp-layout-color0, #111)));\n",
       "    --sklearn-color-border-box: var(--sg-text-color, var(--theme-code-foreground, var(--jp-content-font-color1, white)));\n",
       "    --sklearn-color-icon: #878787;\n",
       "  }\n",
       "}\n",
       "\n",
       "#sk-container-id-1 {\n",
       "  color: var(--sklearn-color-text);\n",
       "}\n",
       "\n",
       "#sk-container-id-1 pre {\n",
       "  padding: 0;\n",
       "}\n",
       "\n",
       "#sk-container-id-1 input.sk-hidden--visually {\n",
       "  border: 0;\n",
       "  clip: rect(1px 1px 1px 1px);\n",
       "  clip: rect(1px, 1px, 1px, 1px);\n",
       "  height: 1px;\n",
       "  margin: -1px;\n",
       "  overflow: hidden;\n",
       "  padding: 0;\n",
       "  position: absolute;\n",
       "  width: 1px;\n",
       "}\n",
       "\n",
       "#sk-container-id-1 div.sk-dashed-wrapped {\n",
       "  border: 1px dashed var(--sklearn-color-line);\n",
       "  margin: 0 0.4em 0.5em 0.4em;\n",
       "  box-sizing: border-box;\n",
       "  padding-bottom: 0.4em;\n",
       "  background-color: var(--sklearn-color-background);\n",
       "}\n",
       "\n",
       "#sk-container-id-1 div.sk-container {\n",
       "  /* jupyter's `normalize.less` sets `[hidden] { display: none; }`\n",
       "     but bootstrap.min.css set `[hidden] { display: none !important; }`\n",
       "     so we also need the `!important` here to be able to override the\n",
       "     default hidden behavior on the sphinx rendered scikit-learn.org.\n",
       "     See: https://github.com/scikit-learn/scikit-learn/issues/21755 */\n",
       "  display: inline-block !important;\n",
       "  position: relative;\n",
       "}\n",
       "\n",
       "#sk-container-id-1 div.sk-text-repr-fallback {\n",
       "  display: none;\n",
       "}\n",
       "\n",
       "div.sk-parallel-item,\n",
       "div.sk-serial,\n",
       "div.sk-item {\n",
       "  /* draw centered vertical line to link estimators */\n",
       "  background-image: linear-gradient(var(--sklearn-color-text-on-default-background), var(--sklearn-color-text-on-default-background));\n",
       "  background-size: 2px 100%;\n",
       "  background-repeat: no-repeat;\n",
       "  background-position: center center;\n",
       "}\n",
       "\n",
       "/* Parallel-specific style estimator block */\n",
       "\n",
       "#sk-container-id-1 div.sk-parallel-item::after {\n",
       "  content: \"\";\n",
       "  width: 100%;\n",
       "  border-bottom: 2px solid var(--sklearn-color-text-on-default-background);\n",
       "  flex-grow: 1;\n",
       "}\n",
       "\n",
       "#sk-container-id-1 div.sk-parallel {\n",
       "  display: flex;\n",
       "  align-items: stretch;\n",
       "  justify-content: center;\n",
       "  background-color: var(--sklearn-color-background);\n",
       "  position: relative;\n",
       "}\n",
       "\n",
       "#sk-container-id-1 div.sk-parallel-item {\n",
       "  display: flex;\n",
       "  flex-direction: column;\n",
       "}\n",
       "\n",
       "#sk-container-id-1 div.sk-parallel-item:first-child::after {\n",
       "  align-self: flex-end;\n",
       "  width: 50%;\n",
       "}\n",
       "\n",
       "#sk-container-id-1 div.sk-parallel-item:last-child::after {\n",
       "  align-self: flex-start;\n",
       "  width: 50%;\n",
       "}\n",
       "\n",
       "#sk-container-id-1 div.sk-parallel-item:only-child::after {\n",
       "  width: 0;\n",
       "}\n",
       "\n",
       "/* Serial-specific style estimator block */\n",
       "\n",
       "#sk-container-id-1 div.sk-serial {\n",
       "  display: flex;\n",
       "  flex-direction: column;\n",
       "  align-items: center;\n",
       "  background-color: var(--sklearn-color-background);\n",
       "  padding-right: 1em;\n",
       "  padding-left: 1em;\n",
       "}\n",
       "\n",
       "\n",
       "/* Toggleable style: style used for estimator/Pipeline/ColumnTransformer box that is\n",
       "clickable and can be expanded/collapsed.\n",
       "- Pipeline and ColumnTransformer use this feature and define the default style\n",
       "- Estimators will overwrite some part of the style using the `sk-estimator` class\n",
       "*/\n",
       "\n",
       "/* Pipeline and ColumnTransformer style (default) */\n",
       "\n",
       "#sk-container-id-1 div.sk-toggleable {\n",
       "  /* Default theme specific background. It is overwritten whether we have a\n",
       "  specific estimator or a Pipeline/ColumnTransformer */\n",
       "  background-color: var(--sklearn-color-background);\n",
       "}\n",
       "\n",
       "/* Toggleable label */\n",
       "#sk-container-id-1 label.sk-toggleable__label {\n",
       "  cursor: pointer;\n",
       "  display: block;\n",
       "  width: 100%;\n",
       "  margin-bottom: 0;\n",
       "  padding: 0.5em;\n",
       "  box-sizing: border-box;\n",
       "  text-align: center;\n",
       "}\n",
       "\n",
       "#sk-container-id-1 label.sk-toggleable__label-arrow:before {\n",
       "  /* Arrow on the left of the label */\n",
       "  content: \"▸\";\n",
       "  float: left;\n",
       "  margin-right: 0.25em;\n",
       "  color: var(--sklearn-color-icon);\n",
       "}\n",
       "\n",
       "#sk-container-id-1 label.sk-toggleable__label-arrow:hover:before {\n",
       "  color: var(--sklearn-color-text);\n",
       "}\n",
       "\n",
       "/* Toggleable content - dropdown */\n",
       "\n",
       "#sk-container-id-1 div.sk-toggleable__content {\n",
       "  max-height: 0;\n",
       "  max-width: 0;\n",
       "  overflow: hidden;\n",
       "  text-align: left;\n",
       "  /* unfitted */\n",
       "  background-color: var(--sklearn-color-unfitted-level-0);\n",
       "}\n",
       "\n",
       "#sk-container-id-1 div.sk-toggleable__content.fitted {\n",
       "  /* fitted */\n",
       "  background-color: var(--sklearn-color-fitted-level-0);\n",
       "}\n",
       "\n",
       "#sk-container-id-1 div.sk-toggleable__content pre {\n",
       "  margin: 0.2em;\n",
       "  border-radius: 0.25em;\n",
       "  color: var(--sklearn-color-text);\n",
       "  /* unfitted */\n",
       "  background-color: var(--sklearn-color-unfitted-level-0);\n",
       "}\n",
       "\n",
       "#sk-container-id-1 div.sk-toggleable__content.fitted pre {\n",
       "  /* unfitted */\n",
       "  background-color: var(--sklearn-color-fitted-level-0);\n",
       "}\n",
       "\n",
       "#sk-container-id-1 input.sk-toggleable__control:checked~div.sk-toggleable__content {\n",
       "  /* Expand drop-down */\n",
       "  max-height: 200px;\n",
       "  max-width: 100%;\n",
       "  overflow: auto;\n",
       "}\n",
       "\n",
       "#sk-container-id-1 input.sk-toggleable__control:checked~label.sk-toggleable__label-arrow:before {\n",
       "  content: \"▾\";\n",
       "}\n",
       "\n",
       "/* Pipeline/ColumnTransformer-specific style */\n",
       "\n",
       "#sk-container-id-1 div.sk-label input.sk-toggleable__control:checked~label.sk-toggleable__label {\n",
       "  color: var(--sklearn-color-text);\n",
       "  background-color: var(--sklearn-color-unfitted-level-2);\n",
       "}\n",
       "\n",
       "#sk-container-id-1 div.sk-label.fitted input.sk-toggleable__control:checked~label.sk-toggleable__label {\n",
       "  background-color: var(--sklearn-color-fitted-level-2);\n",
       "}\n",
       "\n",
       "/* Estimator-specific style */\n",
       "\n",
       "/* Colorize estimator box */\n",
       "#sk-container-id-1 div.sk-estimator input.sk-toggleable__control:checked~label.sk-toggleable__label {\n",
       "  /* unfitted */\n",
       "  background-color: var(--sklearn-color-unfitted-level-2);\n",
       "}\n",
       "\n",
       "#sk-container-id-1 div.sk-estimator.fitted input.sk-toggleable__control:checked~label.sk-toggleable__label {\n",
       "  /* fitted */\n",
       "  background-color: var(--sklearn-color-fitted-level-2);\n",
       "}\n",
       "\n",
       "#sk-container-id-1 div.sk-label label.sk-toggleable__label,\n",
       "#sk-container-id-1 div.sk-label label {\n",
       "  /* The background is the default theme color */\n",
       "  color: var(--sklearn-color-text-on-default-background);\n",
       "}\n",
       "\n",
       "/* On hover, darken the color of the background */\n",
       "#sk-container-id-1 div.sk-label:hover label.sk-toggleable__label {\n",
       "  color: var(--sklearn-color-text);\n",
       "  background-color: var(--sklearn-color-unfitted-level-2);\n",
       "}\n",
       "\n",
       "/* Label box, darken color on hover, fitted */\n",
       "#sk-container-id-1 div.sk-label.fitted:hover label.sk-toggleable__label.fitted {\n",
       "  color: var(--sklearn-color-text);\n",
       "  background-color: var(--sklearn-color-fitted-level-2);\n",
       "}\n",
       "\n",
       "/* Estimator label */\n",
       "\n",
       "#sk-container-id-1 div.sk-label label {\n",
       "  font-family: monospace;\n",
       "  font-weight: bold;\n",
       "  display: inline-block;\n",
       "  line-height: 1.2em;\n",
       "}\n",
       "\n",
       "#sk-container-id-1 div.sk-label-container {\n",
       "  text-align: center;\n",
       "}\n",
       "\n",
       "/* Estimator-specific */\n",
       "#sk-container-id-1 div.sk-estimator {\n",
       "  font-family: monospace;\n",
       "  border: 1px dotted var(--sklearn-color-border-box);\n",
       "  border-radius: 0.25em;\n",
       "  box-sizing: border-box;\n",
       "  margin-bottom: 0.5em;\n",
       "  /* unfitted */\n",
       "  background-color: var(--sklearn-color-unfitted-level-0);\n",
       "}\n",
       "\n",
       "#sk-container-id-1 div.sk-estimator.fitted {\n",
       "  /* fitted */\n",
       "  background-color: var(--sklearn-color-fitted-level-0);\n",
       "}\n",
       "\n",
       "/* on hover */\n",
       "#sk-container-id-1 div.sk-estimator:hover {\n",
       "  /* unfitted */\n",
       "  background-color: var(--sklearn-color-unfitted-level-2);\n",
       "}\n",
       "\n",
       "#sk-container-id-1 div.sk-estimator.fitted:hover {\n",
       "  /* fitted */\n",
       "  background-color: var(--sklearn-color-fitted-level-2);\n",
       "}\n",
       "\n",
       "/* Specification for estimator info (e.g. \"i\" and \"?\") */\n",
       "\n",
       "/* Common style for \"i\" and \"?\" */\n",
       "\n",
       ".sk-estimator-doc-link,\n",
       "a:link.sk-estimator-doc-link,\n",
       "a:visited.sk-estimator-doc-link {\n",
       "  float: right;\n",
       "  font-size: smaller;\n",
       "  line-height: 1em;\n",
       "  font-family: monospace;\n",
       "  background-color: var(--sklearn-color-background);\n",
       "  border-radius: 1em;\n",
       "  height: 1em;\n",
       "  width: 1em;\n",
       "  text-decoration: none !important;\n",
       "  margin-left: 1ex;\n",
       "  /* unfitted */\n",
       "  border: var(--sklearn-color-unfitted-level-1) 1pt solid;\n",
       "  color: var(--sklearn-color-unfitted-level-1);\n",
       "}\n",
       "\n",
       ".sk-estimator-doc-link.fitted,\n",
       "a:link.sk-estimator-doc-link.fitted,\n",
       "a:visited.sk-estimator-doc-link.fitted {\n",
       "  /* fitted */\n",
       "  border: var(--sklearn-color-fitted-level-1) 1pt solid;\n",
       "  color: var(--sklearn-color-fitted-level-1);\n",
       "}\n",
       "\n",
       "/* On hover */\n",
       "div.sk-estimator:hover .sk-estimator-doc-link:hover,\n",
       ".sk-estimator-doc-link:hover,\n",
       "div.sk-label-container:hover .sk-estimator-doc-link:hover,\n",
       ".sk-estimator-doc-link:hover {\n",
       "  /* unfitted */\n",
       "  background-color: var(--sklearn-color-unfitted-level-3);\n",
       "  color: var(--sklearn-color-background);\n",
       "  text-decoration: none;\n",
       "}\n",
       "\n",
       "div.sk-estimator.fitted:hover .sk-estimator-doc-link.fitted:hover,\n",
       ".sk-estimator-doc-link.fitted:hover,\n",
       "div.sk-label-container:hover .sk-estimator-doc-link.fitted:hover,\n",
       ".sk-estimator-doc-link.fitted:hover {\n",
       "  /* fitted */\n",
       "  background-color: var(--sklearn-color-fitted-level-3);\n",
       "  color: var(--sklearn-color-background);\n",
       "  text-decoration: none;\n",
       "}\n",
       "\n",
       "/* Span, style for the box shown on hovering the info icon */\n",
       ".sk-estimator-doc-link span {\n",
       "  display: none;\n",
       "  z-index: 9999;\n",
       "  position: relative;\n",
       "  font-weight: normal;\n",
       "  right: .2ex;\n",
       "  padding: .5ex;\n",
       "  margin: .5ex;\n",
       "  width: min-content;\n",
       "  min-width: 20ex;\n",
       "  max-width: 50ex;\n",
       "  color: var(--sklearn-color-text);\n",
       "  box-shadow: 2pt 2pt 4pt #999;\n",
       "  /* unfitted */\n",
       "  background: var(--sklearn-color-unfitted-level-0);\n",
       "  border: .5pt solid var(--sklearn-color-unfitted-level-3);\n",
       "}\n",
       "\n",
       ".sk-estimator-doc-link.fitted span {\n",
       "  /* fitted */\n",
       "  background: var(--sklearn-color-fitted-level-0);\n",
       "  border: var(--sklearn-color-fitted-level-3);\n",
       "}\n",
       "\n",
       ".sk-estimator-doc-link:hover span {\n",
       "  display: block;\n",
       "}\n",
       "\n",
       "/* \"?\"-specific style due to the `<a>` HTML tag */\n",
       "\n",
       "#sk-container-id-1 a.estimator_doc_link {\n",
       "  float: right;\n",
       "  font-size: 1rem;\n",
       "  line-height: 1em;\n",
       "  font-family: monospace;\n",
       "  background-color: var(--sklearn-color-background);\n",
       "  border-radius: 1rem;\n",
       "  height: 1rem;\n",
       "  width: 1rem;\n",
       "  text-decoration: none;\n",
       "  /* unfitted */\n",
       "  color: var(--sklearn-color-unfitted-level-1);\n",
       "  border: var(--sklearn-color-unfitted-level-1) 1pt solid;\n",
       "}\n",
       "\n",
       "#sk-container-id-1 a.estimator_doc_link.fitted {\n",
       "  /* fitted */\n",
       "  border: var(--sklearn-color-fitted-level-1) 1pt solid;\n",
       "  color: var(--sklearn-color-fitted-level-1);\n",
       "}\n",
       "\n",
       "/* On hover */\n",
       "#sk-container-id-1 a.estimator_doc_link:hover {\n",
       "  /* unfitted */\n",
       "  background-color: var(--sklearn-color-unfitted-level-3);\n",
       "  color: var(--sklearn-color-background);\n",
       "  text-decoration: none;\n",
       "}\n",
       "\n",
       "#sk-container-id-1 a.estimator_doc_link.fitted:hover {\n",
       "  /* fitted */\n",
       "  background-color: var(--sklearn-color-fitted-level-3);\n",
       "}\n",
       "</style><div id=\"sk-container-id-1\" class=\"sk-top-container\"><div class=\"sk-text-repr-fallback\"><pre>TabNetClassifier(n_d=64, n_a=64, n_steps=6, gamma=1.5, cat_idxs=[], cat_dims=[], cat_emb_dim=[], n_independent=2, n_shared=2, epsilon=1e-15, momentum=0.3, lambda_sparse=0.0001, seed=0, clip_value=2.0, verbose=1, optimizer_fn=&lt;class &#x27;torch.optim.adam.Adam&#x27;&gt;, optimizer_params={&#x27;lr&#x27;: 0.02}, scheduler_fn=&lt;class &#x27;torch.optim.lr_scheduler.StepLR&#x27;&gt;, scheduler_params={&#x27;gamma&#x27;: 0.8, &#x27;step_size&#x27;: 20}, mask_type=&#x27;sparsemax&#x27;, input_dim=75, output_dim=4, device_name=&#x27;auto&#x27;, n_shared_decoder=1, n_indep_decoder=1, grouped_features=[[0, 1, 2, 3, 4, 5, 6, 7, 8], [9, 10, 11, 12, 13, 14, 15, 16, 17, 18, 19, 20, 21, 22, 23, 24, 25, 26, 27, 28, 29, 30, 31, 32, 33, 34, 35, 36, 37, 38, 39, 40, 41, 42, 43, 44, 45, 46, 47, 48, 49, 50, 51, 52, 53, 54, 55, 56, 57, 58, 59, 60, 61, 62, 63, 64, 65, 66, 67, 68, 69, 70], [71, 72]])</pre><b>In a Jupyter environment, please rerun this cell to show the HTML representation or trust the notebook. <br />On GitHub, the HTML representation is unable to render, please try loading this page with nbviewer.org.</b></div><div class=\"sk-container\" hidden><div class=\"sk-item\"><div class=\"sk-estimator fitted sk-toggleable\"><input class=\"sk-toggleable__control sk-hidden--visually\" id=\"sk-estimator-id-1\" type=\"checkbox\" checked><label for=\"sk-estimator-id-1\" class=\"sk-toggleable__label fitted sk-toggleable__label-arrow fitted\">&nbsp;TabNetClassifier<span class=\"sk-estimator-doc-link fitted\">i<span>Fitted</span></span></label><div class=\"sk-toggleable__content fitted\"><pre>TabNetClassifier(n_d=64, n_a=64, n_steps=6, gamma=1.5, cat_idxs=[], cat_dims=[], cat_emb_dim=[], n_independent=2, n_shared=2, epsilon=1e-15, momentum=0.3, lambda_sparse=0.0001, seed=0, clip_value=2.0, verbose=1, optimizer_fn=&lt;class &#x27;torch.optim.adam.Adam&#x27;&gt;, optimizer_params={&#x27;lr&#x27;: 0.02}, scheduler_fn=&lt;class &#x27;torch.optim.lr_scheduler.StepLR&#x27;&gt;, scheduler_params={&#x27;gamma&#x27;: 0.8, &#x27;step_size&#x27;: 20}, mask_type=&#x27;sparsemax&#x27;, input_dim=75, output_dim=4, device_name=&#x27;auto&#x27;, n_shared_decoder=1, n_indep_decoder=1, grouped_features=[[0, 1, 2, 3, 4, 5, 6, 7, 8], [9, 10, 11, 12, 13, 14, 15, 16, 17, 18, 19, 20, 21, 22, 23, 24, 25, 26, 27, 28, 29, 30, 31, 32, 33, 34, 35, 36, 37, 38, 39, 40, 41, 42, 43, 44, 45, 46, 47, 48, 49, 50, 51, 52, 53, 54, 55, 56, 57, 58, 59, 60, 61, 62, 63, 64, 65, 66, 67, 68, 69, 70], [71, 72]])</pre></div> </div></div></div></div>"
      ],
      "text/plain": [
       "TabNetClassifier(n_d=64, n_a=64, n_steps=6, gamma=1.5, cat_idxs=[], cat_dims=[], cat_emb_dim=[], n_independent=2, n_shared=2, epsilon=1e-15, momentum=0.3, lambda_sparse=0.0001, seed=0, clip_value=2.0, verbose=1, optimizer_fn=<class 'torch.optim.adam.Adam'>, optimizer_params={'lr': 0.02}, scheduler_fn=<class 'torch.optim.lr_scheduler.StepLR'>, scheduler_params={'gamma': 0.8, 'step_size': 20}, mask_type='sparsemax', input_dim=75, output_dim=4, device_name='auto', n_shared_decoder=1, n_indep_decoder=1, grouped_features=[[0, 1, 2, 3, 4, 5, 6, 7, 8], [9, 10, 11, 12, 13, 14, 15, 16, 17, 18, 19, 20, 21, 22, 23, 24, 25, 26, 27, 28, 29, 30, 31, 32, 33, 34, 35, 36, 37, 38, 39, 40, 41, 42, 43, 44, 45, 46, 47, 48, 49, 50, 51, 52, 53, 54, 55, 56, 57, 58, 59, 60, 61, 62, 63, 64, 65, 66, 67, 68, 69, 70], [71, 72]])"
      ]
     },
     "execution_count": 9,
     "metadata": {},
     "output_type": "execute_result"
    }
   ],
   "source": [
    "metaflow.Task(\"TabNetHpCvWandbFlow/973/pipeline_card/29591\",  attempt=0)['model'].data"
   ]
  },
  {
   "cell_type": "markdown",
   "id": "d6511637-9cc0-4d63-95a6-6bd0b48fb06c",
   "metadata": {},
   "source": [
    "## local custom card explorer"
   ]
  },
  {
   "cell_type": "markdown",
   "id": "4caa7baf-62f7-4659-b4a2-9e9b564d19ef",
   "metadata": {},
   "source": [
    "Retrieve the full path to the custom html pipeline card in the local datastore&nbsp;:"
   ]
  },
  {
   "cell_type": "code",
   "execution_count": 4,
   "id": "649b673a-e942-4121-a888-3d6c9fe0ec07",
   "metadata": {},
   "outputs": [],
   "source": [
    "from retrain_pipelines.inspectors import browse_local_pipeline_card"
   ]
  },
  {
   "cell_type": "code",
   "execution_count": 5,
   "id": "ba519f28-f750-4d63-9d41-784c5d5dc6ec",
   "metadata": {},
   "outputs": [],
   "source": [
    "browse_local_pipeline_card(mf_flow_name)\n",
    "#browse_local_pipeline_card(mf_run_id=800, verbose=True)"
   ]
  },
  {
   "cell_type": "markdown",
   "id": "ca977141-a13c-49ca-b630-09d39bd3c251",
   "metadata": {},
   "source": [
    "<hr />"
   ]
  },
  {
   "cell_type": "markdown",
   "id": "7625144a-efd2-4276-90f3-b2c595797767",
   "metadata": {},
   "source": [
    "# WandB"
   ]
  },
  {
   "cell_type": "markdown",
   "id": "dad195a8-7439-42d5-9ed7-bce727085a4a",
   "metadata": {},
   "source": [
    "Make sure to have the `WANDB_API_KEY` environement variable set adequately.<br />\n",
    "It can be through a `secret`."
   ]
  },
  {
   "cell_type": "markdown",
   "id": "e99bd442-0e45-4629-a510-9793af9ca092",
   "metadata": {},
   "source": [
    "<b>programmatically browse the saved source-code</b>"
   ]
  },
  {
   "cell_type": "code",
   "execution_count": 17,
   "id": "57be4037-26c1-4e0f-afc5-c5ec88f3779e",
   "metadata": {},
   "outputs": [
    {
     "name": "stdout",
     "output_type": "stream",
     "text": [
      "v12 ; 2024-09-17T13:14:01Z\n",
      " - retraining_pipeline.py\n"
     ]
    }
   ],
   "source": [
    "from retrain_pipelines.inspectors import get_execution_source_code\n",
    "\n",
    "for source_code_artifact in get_execution_source_code(mf_run_id=860): #mf_flow_name):\n",
    "    print(f\" - {source_code_artifact.name} {source_code_artifact.url}\")"
   ]
  },
  {
   "cell_type": "markdown",
   "id": "d8c95dc7-b117-4cda-b8a9-28b31582c9df",
   "metadata": {},
   "source": [
    "<b>The below command will download source-code artifacts for a given run and open a file explorer on the parent dir&nbsp;:</b>"
   ]
  },
  {
   "cell_type": "code",
   "execution_count": 18,
   "id": "112c23b9-0db1-4114-8e0f-7c2ad19bf07a",
   "metadata": {},
   "outputs": [
    {
     "name": "stdout",
     "output_type": "stream",
     "text": [
      "/mnt/d/jupyter_notebooks/job_hunt/AWS/fresh_start/sample_pipelines/TabNet_hp_cv_WandB/TabNetHpCvWandbFlow_860\n",
      "v12 ; 2024-09-17T13:14:01Z\n"
     ]
    }
   ],
   "source": [
    "from retrain_pipelines.inspectors import explore_source_code\n",
    "\n",
    "explore_source_code(mf_flow_name=mf_flow_name)"
   ]
  },
  {
   "cell_type": "markdown",
   "id": "d0401f7d-be5c-4c6f-8162-6d990defad63",
   "metadata": {},
   "source": [
    "<hr />"
   ]
  },
  {
   "cell_type": "markdown",
   "id": "63ceda46-f66b-4959-91e5-5dfadc0a8dbf",
   "metadata": {},
   "source": [
    "# dependencies"
   ]
  },
  {
   "cell_type": "code",
   "execution_count": null,
   "id": "e76141f7-388c-4c59-96df-d6c97a560ebc",
   "metadata": {},
   "outputs": [],
   "source": [
    "%pip list"
   ]
  },
  {
   "cell_type": "code",
   "execution_count": null,
   "id": "a9ba3c87-6590-4955-a4e7-fa5038cf8461",
   "metadata": {},
   "outputs": [],
   "source": [
    "%pip list --format=freeze > requirements.txt"
   ]
  },
  {
   "cell_type": "markdown",
   "id": "5181ac05-c4df-40cb-a432-af14ac7487a3",
   "metadata": {},
   "source": [
    "# debug zone"
   ]
  },
  {
   "cell_type": "code",
   "execution_count": null,
   "id": "9d186541-7d12-47f8-8445-b94981ae8b07",
   "metadata": {
    "scrolled": true
   },
   "outputs": [],
   "source": [
    "for artifact_name in model_card_task.artifacts:\n",
    "    print(f\"{artifact_name}\")"
   ]
  },
  {
   "cell_type": "code",
   "execution_count": null,
   "id": "967a8074-9199-4136-82fc-b5631c61c819",
   "metadata": {},
   "outputs": [],
   "source": [
    "print(pipeline_card_task['html'].data[:2000])"
   ]
  },
  {
   "cell_type": "code",
   "execution_count": null,
   "id": "18b5f2b8-48ba-4be4-b0ce-5faed9745006",
   "metadata": {},
   "outputs": [],
   "source": [
    "custom_card.path"
   ]
  },
  {
   "cell_type": "code",
   "execution_count": null,
   "id": "4dd4af3c-0ed8-472a-8135-afb991d52cbc",
   "metadata": {},
   "outputs": [],
   "source": [
    "custom_card.__dict__.keys()"
   ]
  },
  {
   "cell_type": "code",
   "execution_count": null,
   "id": "361dd93b-1cbd-4cdd-855a-bb4eab862c12",
   "metadata": {},
   "outputs": [],
   "source": [
    "custom_card._card_ds.get_storage_root(storage_type='local')"
   ]
  },
  {
   "cell_type": "code",
   "execution_count": null,
   "id": "d1bf7a28-703b-41fd-b0e9-b06270e38621",
   "metadata": {},
   "outputs": [],
   "source": [
    "metaflow.metaflow_config.CARD_SUFFIX"
   ]
  },
  {
   "cell_type": "code",
   "execution_count": null,
   "id": "e58a68bf-1bda-4920-af8b-25bd6cc4b272",
   "metadata": {},
   "outputs": [],
   "source": [
    "ds_root = pipeline_card_task.metadata_dict.get(\"ds-root\", None)\n",
    "ds_type, ds_root"
   ]
  },
  {
   "cell_type": "code",
   "execution_count": null,
   "id": "9ef8a8d9-d52e-49e2-bc5c-ad180e38db91",
   "metadata": {},
   "outputs": [],
   "source": [
    "%ls $ds_root/mf.cards/$pipeline_card_task.parent.parent.parent.id/runs/$pipeline_card_task.parent.parent.id/tasks/$pipeline_card_task.parent.task.id/cards/"
   ]
  },
  {
   "cell_type": "code",
   "execution_count": null,
   "id": "039657b0-bb0c-4f38-a7de-fa3457183915",
   "metadata": {},
   "outputs": [],
   "source": []
  },
  {
   "cell_type": "code",
   "execution_count": null,
   "id": "3aaef3fc-28f9-4f22-976f-4f4839475f5c",
   "metadata": {},
   "outputs": [],
   "source": [
    "pipeline_card_task.metadata_dict"
   ]
  },
  {
   "cell_type": "code",
   "execution_count": null,
   "id": "33665524-56a6-469c-a907-f4dedd8e174e",
   "metadata": {},
   "outputs": [],
   "source": [
    "storage_impl = [d for d in metaflow.plugins.DATASTORES if d.TYPE == ds_type][0]\n",
    "storage_impl"
   ]
  },
  {
   "cell_type": "markdown",
   "id": "4df77cd6-20ef-4bac-b076-ecd479c5f23f",
   "metadata": {},
   "source": [
    "<hr width=50% />"
   ]
  },
  {
   "cell_type": "code",
   "execution_count": null,
   "id": "d540adbd-bac7-400c-8ed1-5ed849cab9fc",
   "metadata": {
    "scrolled": true
   },
   "outputs": [],
   "source": [
    "for flow in metaflow.Metaflow():\n",
    "    print(flow)\n",
    "    for run in flow.runs():\n",
    "        print(f\"  Run ID: {run.id}\")\n",
    "        print(f\"  Steps: {[str(step) for step in run.steps()]}\")"
   ]
  },
  {
   "cell_type": "code",
   "execution_count": null,
   "id": "c8e8e878-fa76-47db-a3ee-6d8f46f65d45",
   "metadata": {},
   "outputs": [],
   "source": [
    "flows = list(metaflow.Metaflow())\n",
    "if flows:\n",
    "    first_flow = flows[0]\n",
    "\n",
    "    # Get the last run from the first flow\n",
    "    last_run = list(first_flow.runs())[0]\n",
    "\n",
    "    # Print details of the last run\n",
    "    print(f\"Flow: {first_flow.id}\")\n",
    "    print(f\"Last Run ID: {last_run.id}\")\n",
    "    print(f\"Start Time: {last_run.created_at}\")\n",
    "    print(f\"Status: {last_run.successful}\")\n",
    "    for step in last_run.steps():\n",
    "        print(f\"Step: {step.id}\")\n",
    "        print(step.task)"
   ]
  },
  {
   "cell_type": "code",
   "execution_count": null,
   "id": "674a84a9-a4e3-48f1-9595-2c1f4e669979",
   "metadata": {},
   "outputs": [],
   "source": []
  },
  {
   "cell_type": "code",
   "execution_count": null,
   "id": "a75109bc-c6fa-4b2d-ab6e-e0307325c726",
   "metadata": {},
   "outputs": [],
   "source": []
  }
 ],
 "metadata": {
  "kernelspec": {
   "display_name": "Metaflow PyTorch 1.13 GPU",
   "language": "python",
   "name": "metaflow_pytorch_1"
  },
  "language_info": {
   "codemirror_mode": {
    "name": "ipython",
    "version": 3
   },
   "file_extension": ".py",
   "mimetype": "text/x-python",
   "name": "python",
   "nbconvert_exporter": "python",
   "pygments_lexer": "ipython3",
   "version": "3.9.19"
  },
  "toc": {
   "base_numbering": "0",
   "nav_menu": {},
   "number_sections": true,
   "sideBar": false,
   "skip_h1_title": false,
   "title_cell": "Table of Contents",
   "title_sidebar": "Contents",
   "toc_cell": false,
   "toc_position": {
    "height": "265.895px",
    "left": "1475.99px",
    "top": "143.77px",
    "width": "215.81px"
   },
   "toc_section_display": true,
   "toc_window_display": true
  }
 },
 "nbformat": 4,
 "nbformat_minor": 5
}
