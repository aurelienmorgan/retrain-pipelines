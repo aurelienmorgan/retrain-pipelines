{
 "cells": [
  {
   "cell_type": "markdown",
   "id": "6868ee4d-05cc-40dd-8157-22f1c086d4f2",
   "metadata": {},
   "source": [
    "TabNet: Attentive Interpretable Tabular Learning (for starter, <a tagret = \"_blank\" href=\"https://github.com/GoogleCloudPlatform/ai-platform-samples/blob/main/notebooks/samples/explanations/ai-explanations-tabnet-algorithm.ipynb\">Google Notebook)</a>"
   ]
  },
  {
   "cell_type": "markdown",
   "id": "ecadd8f9-37de-4b80-8bc7-06afde9cd76b",
   "metadata": {},
   "source": [
    "All that is pure free Open Source. You can only build and enjoy the ride.<br />\n",
    "Ever so grateful"
   ]
  },
  {
   "cell_type": "markdown",
   "id": "15d78415-6c31-49bc-a65e-8bb96d718840",
   "metadata": {},
   "source": [
    "example workflow adapts to your data.\n",
    "takes full benefit of grouped attention for (out-of-the-box one-hot-encoded) categorical features"
   ]
  },
  {
   "cell_type": "code",
   "execution_count": null,
   "id": "2ef4c399-5aad-4bec-8a27-bbdbafb9e78d",
   "metadata": {},
   "outputs": [],
   "source": []
  },
  {
   "cell_type": "markdown",
   "id": "8ead4981-05cf-4aeb-a846-867ffb283ddc",
   "metadata": {},
   "source": [
    "<hr />"
   ]
  },
  {
   "cell_type": "markdown",
   "id": "b1a270aa",
   "metadata": {},
   "source": [
    "# setup"
   ]
  },
  {
   "cell_type": "code",
   "execution_count": null,
   "id": "b78202a8-2ac4-44db-b110-8eb2b6fae69c",
   "metadata": {},
   "outputs": [],
   "source": [
    "%reload_ext autoreload\n",
    "%autoreload 2"
   ]
  },
  {
   "cell_type": "code",
   "execution_count": null,
   "id": "30f0f2fd",
   "metadata": {},
   "outputs": [],
   "source": [
    "import os, sys, json"
   ]
  },
  {
   "cell_type": "code",
   "execution_count": null,
   "id": "7be7fef5-7d96-411e-a754-015a07f2b20d",
   "metadata": {},
   "outputs": [],
   "source": [
    "import pandas as pd"
   ]
  },
  {
   "cell_type": "code",
   "execution_count": null,
   "id": "b14eeecb-25a8-4be9-ba77-51391e06ebdc",
   "metadata": {},
   "outputs": [],
   "source": [
    "from dotenv import find_dotenv\n",
    "find_dotenv()"
   ]
  },
  {
   "cell_type": "code",
   "execution_count": null,
   "id": "0f4c6ae9-7751-40fb-b840-c64f023753e8",
   "metadata": {},
   "outputs": [],
   "source": [
    "# WandB API key\n",
    "from dotenv import load_dotenv\n",
    "load_dotenv(\"../.env\")"
   ]
  },
  {
   "cell_type": "code",
   "execution_count": null,
   "id": "ed5f7a6d-cf62-4353-8799-ef6eb3751626",
   "metadata": {},
   "outputs": [],
   "source": [
    "os.getcwd()"
   ]
  },
  {
   "cell_type": "code",
   "execution_count": null,
   "id": "2a7bc63a-0958-459d-8123-e34e7c1de298",
   "metadata": {},
   "outputs": [],
   "source": [
    "# adding custom code to path for easy imports while \"ml-pipelines\" is not an installed package\n",
    "new_path = os.path.realpath(os.path.join(os.getcwd(),\n",
    "                                         \"..\", \"..\", \"pkg_src\"))\n",
    "if new_path not in sys.path:\n",
    "    sys.path.append(new_path)\n",
    "sys.path"
   ]
  },
  {
   "cell_type": "code",
   "execution_count": null,
   "id": "cc978107-10dc-4acd-b536-4ce8a7440394",
   "metadata": {
    "scrolled": true
   },
   "outputs": [],
   "source": [
    "import sys\n",
    "os.environ['conda_env'] = os.path.basename(sys.prefix)\n",
    "os.environ['conda_env']"
   ]
  },
  {
   "cell_type": "code",
   "execution_count": null,
   "id": "4529e8eb-cc22-4cce-8328-fc5361b65de0",
   "metadata": {},
   "outputs": [],
   "source": [
    "mf_flow_name = \"TabNetHpCvWandbFlow\"\n",
    "os.environ['pipeline_hp_grid'] = \"{}\""
   ]
  },
  {
   "cell_type": "code",
   "execution_count": null,
   "id": "115058e8-ce1f-4b4d-aeaf-a8e3b88b5278",
   "metadata": {
    "scrolled": true
   },
   "outputs": [],
   "source": [
    "import torch\n",
    "print(torch.cuda.get_device_name(0))\n",
    "torch.__version__"
   ]
  },
  {
   "cell_type": "code",
   "execution_count": null,
   "id": "fc4f750f-8567-4ac7-86ec-aee6716b47be",
   "metadata": {
    "code_folding": [
     2
    ],
    "jupyter": {
     "source_hidden": true
    }
   },
   "outputs": [],
   "source": [
    "from IPython import get_ipython\n",
    "\n",
    "def reset_jupyter_history():\n",
    "    \"\"\"\n",
    "    reset cell numbering\n",
    "    \"\"\"\n",
    "\n",
    "    import os\n",
    "    import sqlite3\n",
    "    from traitlets.config import Config\n",
    "    from IPython.core.history import HistoryManager\n",
    "    \n",
    "    ip = get_ipython()\n",
    "    \n",
    "    if ip is not None:\n",
    "        # Disable history temporarily\n",
    "        if hasattr(ip, 'history_manager'):\n",
    "            ip.history_manager.enabled = False\n",
    "        \n",
    "        # Get the path to the history database\n",
    "        hist_file = os.path.expanduser('~/.ipython/profile_default/history.sqlite')\n",
    "        if hasattr(ip, 'history_manager') and hasattr(ip.history_manager, 'hist_file'):\n",
    "            hist_file = ip.history_manager.hist_file\n",
    "        \n",
    "        if os.path.exists(hist_file):\n",
    "            # Close any existing connection\n",
    "            if hasattr(ip, 'history_manager') and hasattr(ip.history_manager, 'db') and ip.history_manager.db is not None:\n",
    "                ip.history_manager.db.close()\n",
    "            \n",
    "            # Truncate the database\n",
    "            conn = sqlite3.connect(hist_file)\n",
    "            conn.execute(\"DELETE FROM history\")\n",
    "            conn.execute(\"DELETE FROM sqlite_sequence WHERE name='history'\")\n",
    "            conn.commit()\n",
    "            conn.close()\n",
    "        \n",
    "        # Create a new Config object\n",
    "        c = Config()\n",
    "        c.HistoryManager.hist_file = hist_file\n",
    "        \n",
    "        # Create a new HistoryManager instance\n",
    "        new_history_manager = HistoryManager(shell=ip, config=c)\n",
    "        \n",
    "        # Assign the new history manager to the shell\n",
    "        ip.history_manager = new_history_manager\n",
    "        \n",
    "        # Enable history\n",
    "        ip.history_manager.enabled = True\n",
    "\n",
    "        ip.kernel.shell.execution_count = 0\n",
    "        \n",
    "        print(\"Jupyter history has been reset.\")\n",
    "    else:\n",
    "        print(\"This function must be run within a Jupyter notebook.\")\n",
    "\n",
    "reset_jupyter_history()\n",
    "get_ipython().kernel.shell.execution_count"
   ]
  },
  {
   "cell_type": "markdown",
   "id": "15f1b41d-733a-40a9-b855-e59435c21a81",
   "metadata": {},
   "source": [
    "<hr />"
   ]
  },
  {
   "cell_type": "markdown",
   "id": "eafc989c-785f-4b86-8ff2-9604178bf84a",
   "metadata": {
    "heading_collapsed": true,
    "jp-MarkdownHeadingCollapsed": true,
    "tags": []
   },
   "source": [
    "# Generate data"
   ]
  },
  {
   "cell_type": "code",
   "execution_count": null,
   "id": "1cbc89f5-18b2-403b-9755-cf11866b8a90",
   "metadata": {
    "hidden": true
   },
   "outputs": [],
   "source": [
    "from retrain_pipelines.dataset import DatasetType, pseudo_random_generate\n",
    "\n",
    "# Define the number of samples\n",
    "num_samples = 10_000 # 500 # 10 # 1_500 # \n",
    "\n",
    "data = pseudo_random_generate(DatasetType.TABULAR_CLASSIFICATION, num_samples)\n",
    "\n",
    "# Display the first few rows of the dataset\n",
    "print(data.head())\n",
    "#data.to_csv(os.path.realpath(os.path.join('..', 'data', 'synthetic_classif_tab_data_4classes.csv')), index=False)"
   ]
  },
  {
   "cell_type": "code",
   "execution_count": null,
   "id": "e6b9213c-7ad7-4e99-ad7e-0344183f0cd2",
   "metadata": {
    "hidden": true
   },
   "outputs": [],
   "source": [
    "#from sklearn.preprocessing import StandardScaler, \\\n",
    "#                                  OneHotEncoder\n",
    "#\n",
    "#os.environ[\"ml_pipeline_type\"] = \"tabnet_classif_torchserve\"\n",
    "#\n",
    "#from retrain_pipelines.model import preprocess_data_fct\n",
    "#\n",
    "#scaler = StandardScaler()\n",
    "#encoder = OneHotEncoder(sparse_output=False, drop=None)\n",
    "#pp_data = preprocess_data_fct(data, scaler, encoder,\n",
    "#                    buckets={'num_feature1': [-1.002, -0.6, -0.19999999999999996, 0.20000000000000018, 0.6000000000000001, 1.0],\n",
    "#                             'num_feature2': 15},\n",
    "#                    is_training=True)\n",
    "#\n",
    "#del os.environ[\"ml_pipeline_type\"]\n",
    "#\n",
    "#display(pp_data)\n",
    "#display(scaler)\n",
    "#display(encoder)"
   ]
  },
  {
   "cell_type": "code",
   "execution_count": null,
   "id": "bde75edb-4166-4e77-8551-1e1f62649f14",
   "metadata": {
    "hidden": true
   },
   "outputs": [],
   "source": [
    "from retrain_pipelines.dataset import features_desc\n",
    "pd.DataFrame([features_desc(data)])"
   ]
  },
  {
   "cell_type": "code",
   "execution_count": null,
   "id": "5f1c6918-fc20-4307-829f-98a6b3c3cf69",
   "metadata": {
    "hidden": true
   },
   "outputs": [],
   "source": [
    "from retrain_pipelines.dataset import features_distri_plot\n",
    "display(features_distri_plot(data))"
   ]
  },
  {
   "cell_type": "code",
   "execution_count": null,
   "id": "8e017b2f-2ad9-4f16-9f86-508e241dd20b",
   "metadata": {
    "hidden": true
   },
   "outputs": [],
   "source": [
    "from retrain_pipelines.dataset.features_dependencies import dataset_to_heatmap_fig\n",
    "heatmap_fig, ax = dataset_to_heatmap_fig(data)\n",
    "heatmap_fig.patch.set_facecolor((1.0, 1.0, 1.0, 0.6))\n",
    "display(heatmap_fig)"
   ]
  },
  {
   "cell_type": "markdown",
   "id": "756a3813-ef9c-413e-8c77-a3d1c714996a",
   "metadata": {
    "hidden": true
   },
   "source": [
    "<hr />"
   ]
  },
  {
   "cell_type": "markdown",
   "id": "dae64608-27d4-4bc9-bb8c-49f1022d2d4f",
   "metadata": {
    "heading_collapsed": true,
    "jp-MarkdownHeadingCollapsed": true
   },
   "source": [
    "# TabNet"
   ]
  },
  {
   "cell_type": "code",
   "execution_count": null,
   "id": "4352bd6e-6eeb-4a89-9da8-4d21dca8b6fa",
   "metadata": {
    "hidden": true
   },
   "outputs": [],
   "source": [
    "pipeline_hp_grid = {\n",
    "    \"trainer\": {\n",
    "        \"max_epochs\":[30, 50], #sys.maxsize,\n",
    "        \"patience\":[100],\n",
    "        \"batch_size\":[1024],\n",
    "        \"virtual_batch_size\":[256],\n",
    "    },\n",
    "    \"model\": {\n",
    "        \"n_d\":[64],\n",
    "        \"n_a\":[64],\n",
    "        \"n_steps\":[5],\n",
    "        \"gamma\":[1.5],\n",
    "        \"n_independent\":[2],\n",
    "        \"n_shared\":[2],\n",
    "        \"lambda_sparse\":[1e-4],\n",
    "        \"momentum\":[0.3],\n",
    "        \"clip_value\":[2.],\n",
    "        \"optimizer_fn\":[\"torch.optim.Adam\"],\n",
    "        \"optimizer_params\":[dict(lr=2e-2)],\n",
    "        \"scheduler_params\":[{\"gamma\": 0.80,\n",
    "                            \"step_size\": 20}],\n",
    "        \"scheduler_fn\":[\"torch.optim.lr_scheduler.StepLR\"],\n",
    "        \"epsilon\":[1e-15]\n",
    "    }\n",
    "}"
   ]
  },
  {
   "cell_type": "code",
   "execution_count": null,
   "id": "18316626-942a-462b-b69d-111be0fab06b",
   "metadata": {
    "hidden": true
   },
   "outputs": [],
   "source": [
    "from textwrap import dedent\n",
    "#os.environ['pipeline_hp_grid'] = str(json.dumps(dedent(\"\"\"{pipeline_hp_grid}\"\"\".format(pipeline_hp_grid=pipeline_hp_grid))))\n",
    "#print(os.environ['pipeline_hp_grid'])\n",
    "os.environ['pipeline_hp_grid'] = str(json.dumps(dedent(\"\"\"{pipeline_hp_grid}\"\"\".format(pipeline_hp_grid=pipeline_hp_grid)))).replace(\"'\", '\"').strip('\"')\n",
    "print(os.environ['pipeline_hp_grid'])"
   ]
  },
  {
   "cell_type": "code",
   "execution_count": null,
   "id": "b55f0494-fbb7-4725-bf0c-551087440444",
   "metadata": {
    "hidden": true
   },
   "outputs": [],
   "source": [
    "from retrain_pipelines.utils import dict_dict_list_get_all_combinations\n",
    "\n",
    "# Get all possible combinations\n",
    "all_hp_combinations = dict_dict_list_get_all_combinations(pipeline_hp_grid)\n",
    "# pick first\n",
    "all_hp_combinations[0]"
   ]
  },
  {
   "cell_type": "code",
   "execution_count": null,
   "id": "c95182f1-0421-4be6-b531-c13eb7b22ca4",
   "metadata": {
    "hidden": true
   },
   "outputs": [],
   "source": [
    "from pytorch_tabnet.tab_model import TabNetClassifier\n",
    "\n",
    "if 'target' in data:\n",
    "    y = data.pop('target')\n",
    "y.unique()"
   ]
  },
  {
   "cell_type": "code",
   "execution_count": null,
   "id": "0c7b1237-029a-4fc9-8810-433c85555908",
   "metadata": {
    "hidden": true
   },
   "outputs": [],
   "source": [
    "from sklearn.preprocessing import StandardScaler, \\\n",
    "                                  OneHotEncoder\n",
    "os.environ[\"ml_pipeline_type\"] = \"mf_tabnet_classif_torchserve\"\n",
    "from ml_pipelines.model import preprocess_data_fct\n",
    "\n",
    "scaler = StandardScaler()\n",
    "encoder = OneHotEncoder(sparse_output=False, drop=None)\n",
    "buckets={'num_feature1': 5}\n",
    "grouped_features = []\n",
    "X_transformed = preprocess_data_fct(data, scaler, encoder,\n",
    "                                    buckets=buckets,\n",
    "                                    grouped_features=grouped_features,\n",
    "                                    is_training=True)\n",
    "len(X_transformed.columns), X_transformed.columns"
   ]
  },
  {
   "cell_type": "code",
   "execution_count": null,
   "id": "30942bf4-e84a-4ec3-853d-7c14357e1ae3",
   "metadata": {
    "hidden": true
   },
   "outputs": [],
   "source": [
    "clf = TabNetClassifier(\n",
    "    **all_hp_combinations[0]['model'],\n",
    "    grouped_features=grouped_features\n",
    ")"
   ]
  },
  {
   "cell_type": "code",
   "execution_count": null,
   "id": "47658100-aa64-4776-9227-fb8b718f3132",
   "metadata": {
    "hidden": true
   },
   "outputs": [],
   "source": [
    "from sklearn.model_selection import train_test_split\n",
    "\n",
    "train_idx, test_idx = train_test_split(\n",
    "    range(len(X_transformed)), test_size=0.2, random_state=0)\n",
    "\n",
    "X_train = X_transformed.values[train_idx]\n",
    "y_train = y.values[train_idx]\n",
    "X_valid = X_transformed.values[test_idx]\n",
    "y_valid = y.values[test_idx]"
   ]
  },
  {
   "cell_type": "code",
   "execution_count": null,
   "id": "36e8ddf9-a8ee-44bf-8116-3a0f548d8253",
   "metadata": {
    "hidden": true
   },
   "outputs": [],
   "source": [
    "from pytorch_tabnet.callbacks import Callback\n",
    "import wandb\n",
    "\n",
    "class PrintLR(Callback):\n",
    "    def __init__(self):\n",
    "        self.previous_lr = None\n",
    "\n",
    "    def on_epoch_end(self, epoch, logs=None):\n",
    "        current_lr = self.trainer.optimizer_params['lr']\n",
    "        if self.previous_lr is None or current_lr != self.previous_lr:\n",
    "            print(f\"Epoch {epoch+1}: Learning rate changed to {current_lr:.6f}\")\n",
    "        self.previous_lr = current_lr\n",
    "\n",
    "class WandbCallback(Callback):\n",
    "    def on_epoch_end(self, epoch, logs=None):\n",
    "        wandb.log({\"epoch\": epoch + 1, **logs})\n",
    "\n",
    "    def on_train_end(self, logs=None):\n",
    "        wandb.finish()"
   ]
  },
  {
   "cell_type": "code",
   "execution_count": null,
   "id": "044592b0-486d-4481-b98d-e6aecaf17cb4",
   "metadata": {
    "hidden": true
   },
   "outputs": [],
   "source": [
    "#help(clf.fit)"
   ]
  },
  {
   "cell_type": "code",
   "execution_count": null,
   "id": "0406d42a-0666-4eee-9534-472ec50d7500",
   "metadata": {
    "hidden": true,
    "scrolled": true
   },
   "outputs": [],
   "source": [
    "clf.fit(\n",
    "    X_train=X_train, y_train=y_train,\n",
    "    loss_fn=torch.nn.CrossEntropyLoss(),\n",
    "    eval_set=[(X_train, y_train), (X_valid, y_valid)],\n",
    "    eval_name=['train', 'valid'],\n",
    "    **all_hp_combinations[0]['trainer'],\n",
    "    augmentations=None,\n",
    "    drop_last=False,\n",
    "    callbacks=[PrintLR()]#, WandbCallback]\n",
    ")"
   ]
  },
  {
   "cell_type": "code",
   "execution_count": null,
   "id": "7def8fdb-6e38-4f01-9f93-d308a464873c",
   "metadata": {
    "hidden": true
   },
   "outputs": [],
   "source": [
    "#clf.history"
   ]
  },
  {
   "cell_type": "code",
   "execution_count": null,
   "id": "471c7e2a-1d19-4040-8e5d-cb7e1c5f32e4",
   "metadata": {
    "hidden": true
   },
   "outputs": [],
   "source": [
    "from matplotlib import pyplot as plt\n",
    "%matplotlib inline\n",
    "\n",
    "plt.plot(clf.history['loss'])\n",
    "plt.show()\n",
    "\n",
    "epochs = range(1, len(clf.history['train_accuracy']) + 1)\n",
    "train_accuracy = clf.history['train_accuracy']\n",
    "valid_accuracy = clf.history['valid_accuracy']\n",
    "learning_rates = clf.history['lr']\n",
    "\n",
    "\n",
    "fig, ax1 = plt.subplots()\n",
    "\n",
    "# Plotting train_accuracy and valid_accuracy on the primary y-axis\n",
    "ax1.plot(epochs, train_accuracy, 'b-', label='Train Accuracy', zorder=2)\n",
    "ax1.plot(epochs, valid_accuracy, 'g-', label='Validation Accuracy', zorder=2)\n",
    "ax1.set_xlabel('Epochs')\n",
    "ax1.set_ylabel('Accuracy')\n",
    "ax1.tick_params(axis='y', labelcolor='black')\n",
    "\n",
    "# Create a secondary y-axis for the learning rates\n",
    "ax2 = ax1.twinx()\n",
    "ax2.plot(epochs, learning_rates, 'r-', label='Learning Rate', zorder=1)\n",
    "ax2.set_ylabel('Learning Rate', color='r')\n",
    "ax2.tick_params(axis='y', labelcolor='r')\n",
    "\n",
    "# Adding legends (making sure both ar above plots (zorder)\n",
    "handles1, labels1 = ax1.get_legend_handles_labels()\n",
    "handles2, labels2 = ax2.get_legend_handles_labels()\n",
    "first_legend = plt.legend(handles1, labels1, loc='upper right')\n",
    "ax2.add_artist(first_legend)\n",
    "ax2.legend(handles2, labels2, loc='upper left')\n",
    "\n",
    "# Show grid and plot\n",
    "plt.grid(True)\n",
    "plt.title('Training and Validation Accuracy with Learning Rates')\n",
    "plt.show()"
   ]
  },
  {
   "cell_type": "code",
   "execution_count": null,
   "id": "b7819be4-9aca-4cbe-88fc-90f415172b43",
   "metadata": {
    "hidden": true
   },
   "outputs": [],
   "source": [
    "clf.predict_proba(X_valid)"
   ]
  },
  {
   "cell_type": "code",
   "execution_count": null,
   "id": "75a6a4f0-8124-45ea-a4c1-f233a1cb1779",
   "metadata": {
    "hidden": true
   },
   "outputs": [],
   "source": [
    "import numpy as np\n",
    "from sklearn.metrics import accuracy_score\n",
    "\n",
    "y_pred = clf.predict(X_valid) # I know, measuring model perf' on valid dataset is stooop'\n",
    "display(y_pred)\n",
    "test_acc = accuracy_score(y_pred=y_pred, y_true=y_valid)\n",
    "\n",
    "print(f\"BEST VALID SCORE : {clf.best_cost}\")\n",
    "print(f\"FINAL TEST SCORE : {test_acc}\")"
   ]
  },
  {
   "cell_type": "code",
   "execution_count": null,
   "id": "431631d0-c1df-4495-add8-f0724cacb52f",
   "metadata": {
    "hidden": true
   },
   "outputs": [],
   "source": [
    "explain_matrix, masks = clf.explain(X_valid) # change to holdout dataset here too\n",
    "\n",
    "fig, axs = plt.subplots(1, 5, figsize=(20,20))\n",
    "\n",
    "for i in range(5):\n",
    "    axs[i].imshow(masks[i][:50])\n",
    "    axs[i].set_title(f\"mask {i}\")"
   ]
  },
  {
   "cell_type": "code",
   "execution_count": null,
   "id": "f5289077-dd9a-4bcf-9c4d-c6c7c16df70d",
   "metadata": {
    "hidden": true
   },
   "outputs": [],
   "source": [
    "y_pred"
   ]
  },
  {
   "cell_type": "code",
   "execution_count": null,
   "id": "5f682860-ae1f-404c-a679-1c83cd338874",
   "metadata": {
    "hidden": true
   },
   "outputs": [],
   "source": [
    "X_valid.shape"
   ]
  },
  {
   "cell_type": "code",
   "execution_count": null,
   "id": "2111f4cd-ec25-4a09-bb9e-4863fbce7433",
   "metadata": {
    "hidden": true
   },
   "outputs": [],
   "source": [
    "clf.feature_importances_"
   ]
  },
  {
   "cell_type": "code",
   "execution_count": null,
   "id": "87da39d3-cafa-4ec1-bf5d-74779ab03299",
   "metadata": {
    "hidden": true
   },
   "outputs": [],
   "source": [
    "clf.grouped_features"
   ]
  },
  {
   "cell_type": "code",
   "execution_count": null,
   "id": "86cee012-b198-473f-9edf-aedc93943a2f",
   "metadata": {
    "hidden": true
   },
   "outputs": [],
   "source": []
  },
  {
   "cell_type": "code",
   "execution_count": null,
   "id": "31292640-05a8-4264-a15d-3f993e7cf992",
   "metadata": {
    "hidden": true
   },
   "outputs": [],
   "source": [
    "import inspect\n",
    "from pytorch_tabnet.callbacks import Callback\n",
    "inspect.getsource(Callback)"
   ]
  },
  {
   "cell_type": "markdown",
   "id": "a4edf077-e684-49cd-a2f4-41968f496297",
   "metadata": {
    "hidden": true
   },
   "source": [
    "<hr />"
   ]
  },
  {
   "cell_type": "markdown",
   "id": "71f6b0f2-8745-4de3-91cb-4f4a2fb39e59",
   "metadata": {},
   "source": [
    "# Metaflow Run"
   ]
  },
  {
   "cell_type": "markdown",
   "id": "dddf771c-7d06-4b2c-8d95-c61acc066590",
   "metadata": {},
   "source": [
    "Chosse which domain shall be considered for the HP tuning grid search&nbsp;:"
   ]
  },
  {
   "cell_type": "code",
   "execution_count": null,
   "id": "acf1bb8b-4237-4e26-895b-2728680fb7f8",
   "metadata": {},
   "outputs": [],
   "source": [
    "pipeline_hp_grid = {\n",
    "    \"trainer\": {\n",
    "        \"max_epochs\":[100], #sys.maxsize,\n",
    "        \"patience\":[10],\n",
    "        \"batch_size\":[1024],\n",
    "        \"virtual_batch_size\":[256],\n",
    "    },\n",
    "    \"model\": {\n",
    "        \"n_d\":[64],\n",
    "        \"n_a\":[64],\n",
    "        \"n_steps\":[6],\n",
    "        \"gamma\":[1.5],\n",
    "        \"n_independent\":[2],\n",
    "        \"n_shared\":[2],\n",
    "        \"lambda_sparse\":[1e-4],\n",
    "        \"momentum\":[0.3],\n",
    "        \"clip_value\":[2.],\n",
    "        \"optimizer_fn\":[\"torch.optim.Adam\"],\n",
    "        \"optimizer_params\":[dict(lr=2e-2), dict(lr=0.1)],\n",
    "        \"scheduler_params\":[{\"gamma\": 0.80,\n",
    "                            \"step_size\": 20}],\n",
    "        \"scheduler_fn\":[\"torch.optim.lr_scheduler.StepLR\"],\n",
    "        \"epsilon\":[1e-15]\n",
    "    }\n",
    "}\n",
    "from textwrap import dedent\n",
    "os.environ['pipeline_hp_grid'] = str(json.dumps(dedent(\"\"\"{pipeline_hp_grid}\"\"\".format(pipeline_hp_grid=pipeline_hp_grid)))).replace(\"'\", '\"').strip('\"')\n",
    "print(os.environ['pipeline_hp_grid'])"
   ]
  },
  {
   "cell_type": "markdown",
   "id": "18a2d686-3854-4354-ac2a-2f69ee54d3d0",
   "metadata": {
    "collapsed": true,
    "jupyter": {
     "outputs_hidden": true
    },
    "tags": []
   },
   "source": [
    "## Run flow"
   ]
  },
  {
   "cell_type": "code",
   "execution_count": null,
   "id": "475c78bb-9ff6-474b-8935-dbc55b1957ef",
   "metadata": {},
   "outputs": [],
   "source": [
    "%reload_ext retrain_pipelines.local_launcher_magic"
   ]
  },
  {
   "cell_type": "code",
   "execution_count": null,
   "id": "e7c9f6c4-ec1c-4e16-ae62-28b9ee41e59c",
   "metadata": {},
   "outputs": [],
   "source": [
    "%retrain_pipelines_local retraining_pipeline.py run --help"
   ]
  },
  {
   "cell_type": "code",
   "execution_count": null,
   "id": "464135f0-ff8b-41ec-bcc0-6df3c4360c59",
   "metadata": {
    "scrolled": true
   },
   "outputs": [],
   "source": [
    "%retrain_pipelines_local retraining_pipeline.py run \\\n",
    "    --data_file \"../data/synthetic_classif_tab_data_4classes.csv\" \\\n",
    "    --buckets_param '{\"num_feature2\": 100, \"num_feature4\": 50}' \\\n",
    "    --pipeline_hp_grid \"${pipeline_hp_grid}\" \\\n",
    "    --cv_folds 2 \\\n",
    "    --wandb_run_mode disabled\n",
    "    #--preprocess_artifacts_path \".\" \\\n",
    "    #--pipeline_card_artifacts_path \".\" \\"
   ]
  },
  {
   "cell_type": "code",
   "execution_count": null,
   "id": "203ab2bc-f558-4bf8-9ca8-445cfb605452",
   "metadata": {
    "scrolled": true
   },
   "outputs": [],
   "source": [
    "%retrain_pipelines_local retraining_pipeline.py resume pipeline_card"
   ]
  },
  {
   "cell_type": "markdown",
   "id": "4abc0950-dbb4-4d31-aaab-c9bf2c4bb816",
   "metadata": {},
   "source": [
    "# Inspectors"
   ]
  },
  {
   "cell_type": "markdown",
   "id": "c21d23de-e2d3-4301-9909-690a8f7af2ca",
   "metadata": {},
   "source": [
    "After the fact inspecting retraining pipelines runs."
   ]
  },
  {
   "cell_type": "markdown",
   "id": "b0a723ec-1972-45c1-be71-29628aa9faa4",
   "metadata": {},
   "source": [
    "## local Metaflow SDK"
   ]
  },
  {
   "cell_type": "code",
   "execution_count": null,
   "id": "1b3791cd-3759-4b06-8dd1-75acfb0fd1be",
   "metadata": {},
   "outputs": [],
   "source": [
    "from retrain_pipelines.frameworks import local_metaflow as metaflow"
   ]
  },
  {
   "cell_type": "code",
   "execution_count": null,
   "id": "4c781840-d41f-4da5-955c-eb39992cd644",
   "metadata": {},
   "outputs": [],
   "source": [
    "metaflow.Task(\"TabNetHpCvWandbFlow/973/pipeline_card/29591\",  attempt=0)['model'].data"
   ]
  },
  {
   "cell_type": "markdown",
   "id": "d6511637-9cc0-4d63-95a6-6bd0b48fb06c",
   "metadata": {},
   "source": [
    "## local custom card explorer"
   ]
  },
  {
   "cell_type": "markdown",
   "id": "4caa7baf-62f7-4659-b4a2-9e9b564d19ef",
   "metadata": {},
   "source": [
    "Retrieve the full path to the custom html pipeline card in the local datastore&nbsp;:"
   ]
  },
  {
   "cell_type": "code",
   "execution_count": null,
   "id": "649b673a-e942-4121-a888-3d6c9fe0ec07",
   "metadata": {},
   "outputs": [],
   "source": [
    "from retrain_pipelines.inspectors import browse_local_pipeline_card"
   ]
  },
  {
   "cell_type": "code",
   "execution_count": null,
   "id": "ba519f28-f750-4d63-9d41-784c5d5dc6ec",
   "metadata": {},
   "outputs": [],
   "source": [
    "browse_local_pipeline_card(mf_flow_name)\n",
    "#browse_local_pipeline_card(mf_run_id=800, verbose=True)"
   ]
  },
  {
   "cell_type": "markdown",
   "id": "ca977141-a13c-49ca-b630-09d39bd3c251",
   "metadata": {},
   "source": [
    "<hr />"
   ]
  },
  {
   "cell_type": "markdown",
   "id": "7625144a-efd2-4276-90f3-b2c595797767",
   "metadata": {},
   "source": [
    "# WandB"
   ]
  },
  {
   "cell_type": "markdown",
   "id": "dad195a8-7439-42d5-9ed7-bce727085a4a",
   "metadata": {},
   "source": [
    "Make sure to have the `WANDB_API_KEY` environement variable set adequately.<br />\n",
    "It can be through a `secret`."
   ]
  },
  {
   "cell_type": "markdown",
   "id": "e99bd442-0e45-4629-a510-9793af9ca092",
   "metadata": {},
   "source": [
    "<b>programmatically browse the saved source-code</b>"
   ]
  },
  {
   "cell_type": "code",
   "execution_count": null,
   "id": "57be4037-26c1-4e0f-afc5-c5ec88f3779e",
   "metadata": {},
   "outputs": [],
   "source": [
    "from retrain_pipelines.inspectors import get_execution_source_code\n",
    "\n",
    "for source_code_artifact in get_execution_source_code(mf_run_id=860): #mf_flow_name):\n",
    "    print(f\" - {source_code_artifact.name} {source_code_artifact.url}\")"
   ]
  },
  {
   "cell_type": "markdown",
   "id": "d8c95dc7-b117-4cda-b8a9-28b31582c9df",
   "metadata": {},
   "source": [
    "<b>The below command will download source-code artifacts for a given run and open a file explorer on the parent dir&nbsp;:</b>"
   ]
  },
  {
   "cell_type": "code",
   "execution_count": null,
   "id": "112c23b9-0db1-4114-8e0f-7c2ad19bf07a",
   "metadata": {},
   "outputs": [],
   "source": [
    "from retrain_pipelines.inspectors import explore_source_code\n",
    "\n",
    "explore_source_code(mf_flow_name=mf_flow_name)"
   ]
  },
  {
   "cell_type": "markdown",
   "id": "d0401f7d-be5c-4c6f-8162-6d990defad63",
   "metadata": {},
   "source": [
    "<hr />"
   ]
  },
  {
   "cell_type": "markdown",
   "id": "63ceda46-f66b-4959-91e5-5dfadc0a8dbf",
   "metadata": {},
   "source": [
    "# dependencies"
   ]
  },
  {
   "cell_type": "code",
   "execution_count": null,
   "id": "e76141f7-388c-4c59-96df-d6c97a560ebc",
   "metadata": {},
   "outputs": [],
   "source": [
    "%pip list"
   ]
  },
  {
   "cell_type": "code",
   "execution_count": null,
   "id": "a9ba3c87-6590-4955-a4e7-fa5038cf8461",
   "metadata": {},
   "outputs": [],
   "source": [
    "%pip list --format=freeze > requirements.txt"
   ]
  },
  {
   "cell_type": "markdown",
   "id": "5181ac05-c4df-40cb-a432-af14ac7487a3",
   "metadata": {},
   "source": [
    "# debug zone"
   ]
  },
  {
   "cell_type": "code",
   "execution_count": null,
   "id": "9d186541-7d12-47f8-8445-b94981ae8b07",
   "metadata": {
    "scrolled": true
   },
   "outputs": [],
   "source": [
    "for artifact_name in model_card_task.artifacts:\n",
    "    print(f\"{artifact_name}\")"
   ]
  },
  {
   "cell_type": "code",
   "execution_count": null,
   "id": "967a8074-9199-4136-82fc-b5631c61c819",
   "metadata": {},
   "outputs": [],
   "source": [
    "print(pipeline_card_task['html'].data[:2000])"
   ]
  },
  {
   "cell_type": "code",
   "execution_count": null,
   "id": "18b5f2b8-48ba-4be4-b0ce-5faed9745006",
   "metadata": {},
   "outputs": [],
   "source": [
    "custom_card.path"
   ]
  },
  {
   "cell_type": "code",
   "execution_count": null,
   "id": "4dd4af3c-0ed8-472a-8135-afb991d52cbc",
   "metadata": {},
   "outputs": [],
   "source": [
    "custom_card.__dict__.keys()"
   ]
  },
  {
   "cell_type": "code",
   "execution_count": null,
   "id": "361dd93b-1cbd-4cdd-855a-bb4eab862c12",
   "metadata": {},
   "outputs": [],
   "source": [
    "custom_card._card_ds.get_storage_root(storage_type='local')"
   ]
  },
  {
   "cell_type": "code",
   "execution_count": null,
   "id": "d1bf7a28-703b-41fd-b0e9-b06270e38621",
   "metadata": {},
   "outputs": [],
   "source": [
    "metaflow.metaflow_config.CARD_SUFFIX"
   ]
  },
  {
   "cell_type": "code",
   "execution_count": null,
   "id": "e58a68bf-1bda-4920-af8b-25bd6cc4b272",
   "metadata": {},
   "outputs": [],
   "source": [
    "ds_root = pipeline_card_task.metadata_dict.get(\"ds-root\", None)\n",
    "ds_type, ds_root"
   ]
  },
  {
   "cell_type": "code",
   "execution_count": null,
   "id": "9ef8a8d9-d52e-49e2-bc5c-ad180e38db91",
   "metadata": {},
   "outputs": [],
   "source": [
    "%ls $ds_root/mf.cards/$pipeline_card_task.parent.parent.parent.id/runs/$pipeline_card_task.parent.parent.id/tasks/$pipeline_card_task.parent.task.id/cards/"
   ]
  },
  {
   "cell_type": "code",
   "execution_count": null,
   "id": "039657b0-bb0c-4f38-a7de-fa3457183915",
   "metadata": {},
   "outputs": [],
   "source": []
  },
  {
   "cell_type": "code",
   "execution_count": null,
   "id": "3aaef3fc-28f9-4f22-976f-4f4839475f5c",
   "metadata": {},
   "outputs": [],
   "source": [
    "pipeline_card_task.metadata_dict"
   ]
  },
  {
   "cell_type": "code",
   "execution_count": null,
   "id": "33665524-56a6-469c-a907-f4dedd8e174e",
   "metadata": {},
   "outputs": [],
   "source": [
    "storage_impl = [d for d in metaflow.plugins.DATASTORES if d.TYPE == ds_type][0]\n",
    "storage_impl"
   ]
  },
  {
   "cell_type": "markdown",
   "id": "4df77cd6-20ef-4bac-b076-ecd479c5f23f",
   "metadata": {},
   "source": [
    "<hr width=50% />"
   ]
  },
  {
   "cell_type": "code",
   "execution_count": null,
   "id": "d540adbd-bac7-400c-8ed1-5ed849cab9fc",
   "metadata": {
    "scrolled": true
   },
   "outputs": [],
   "source": [
    "for flow in metaflow.Metaflow():\n",
    "    print(flow)\n",
    "    for run in flow.runs():\n",
    "        print(f\"  Run ID: {run.id}\")\n",
    "        print(f\"  Steps: {[str(step) for step in run.steps()]}\")"
   ]
  },
  {
   "cell_type": "code",
   "execution_count": null,
   "id": "c8e8e878-fa76-47db-a3ee-6d8f46f65d45",
   "metadata": {},
   "outputs": [],
   "source": [
    "flows = list(metaflow.Metaflow())\n",
    "if flows:\n",
    "    first_flow = flows[0]\n",
    "\n",
    "    # Get the last run from the first flow\n",
    "    last_run = list(first_flow.runs())[0]\n",
    "\n",
    "    # Print details of the last run\n",
    "    print(f\"Flow: {first_flow.id}\")\n",
    "    print(f\"Last Run ID: {last_run.id}\")\n",
    "    print(f\"Start Time: {last_run.created_at}\")\n",
    "    print(f\"Status: {last_run.successful}\")\n",
    "    for step in last_run.steps():\n",
    "        print(f\"Step: {step.id}\")\n",
    "        print(step.task)"
   ]
  },
  {
   "cell_type": "code",
   "execution_count": null,
   "id": "674a84a9-a4e3-48f1-9595-2c1f4e669979",
   "metadata": {},
   "outputs": [],
   "source": []
  },
  {
   "cell_type": "code",
   "execution_count": null,
   "id": "a75109bc-c6fa-4b2d-ab6e-e0307325c726",
   "metadata": {},
   "outputs": [],
   "source": []
  }
 ],
 "metadata": {
  "kernelspec": {
   "display_name": "Metaflow PyTorch 1.13 GPU",
   "language": "python",
   "name": "metaflow_pytorch_1"
  },
  "language_info": {
   "codemirror_mode": {
    "name": "ipython",
    "version": 3
   },
   "file_extension": ".py",
   "mimetype": "text/x-python",
   "name": "python",
   "nbconvert_exporter": "python",
   "pygments_lexer": "ipython3",
   "version": "3.9.19"
  },
  "toc": {
   "base_numbering": "0",
   "nav_menu": {},
   "number_sections": true,
   "sideBar": false,
   "skip_h1_title": false,
   "title_cell": "Table of Contents",
   "title_sidebar": "Contents",
   "toc_cell": false,
   "toc_position": {
    "height": "265.895px",
    "left": "1475.99px",
    "top": "143.77px",
    "width": "215.81px"
   },
   "toc_section_display": true,
   "toc_window_display": true
  }
 },
 "nbformat": 4,
 "nbformat_minor": 5
}
