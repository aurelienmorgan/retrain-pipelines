{
 "cells": [
  {
   "cell_type": "markdown",
   "id": "6868ee4d-05cc-40dd-8157-22f1c086d4f2",
   "metadata": {},
   "source": [
    "TabNet: Attentive Interpretable Tabular Learning (for starter, <a tagret = \"_blank\" href=\"https://github.com/GoogleCloudPlatform/ai-platform-samples/blob/main/notebooks/samples/explanations/ai-explanations-tabnet-algorithm.ipynb\">Google Notebook)</a>"
   ]
  },
  {
   "cell_type": "markdown",
   "id": "ecadd8f9-37de-4b80-8bc7-06afde9cd76b",
   "metadata": {},
   "source": [
    "All that is pure free Open Source. You can only build and enjoy the ride.<br />\n",
    "Ever so grateful"
   ]
  },
  {
   "cell_type": "markdown",
   "id": "15d78415-6c31-49bc-a65e-8bb96d718840",
   "metadata": {},
   "source": [
    "example workflow adapts to your data.\n",
    "takes full benefit of grouped attention for (out-of-the-box one-hot-encoded) categorical features"
   ]
  },
  {
   "cell_type": "code",
   "execution_count": null,
   "id": "2ef4c399-5aad-4bec-8a27-bbdbafb9e78d",
   "metadata": {},
   "outputs": [],
   "source": []
  },
  {
   "cell_type": "markdown",
   "id": "8ead4981-05cf-4aeb-a846-867ffb283ddc",
   "metadata": {},
   "source": [
    "<hr />"
   ]
  },
  {
   "cell_type": "markdown",
   "id": "b1a270aa",
   "metadata": {
    "heading_collapsed": true
   },
   "source": [
    "# setup"
   ]
  },
  {
   "cell_type": "code",
   "execution_count": null,
   "id": "b78202a8-2ac4-44db-b110-8eb2b6fae69c",
   "metadata": {
    "hidden": true
   },
   "outputs": [],
   "source": [
    "%reload_ext autoreload\n",
    "%autoreload 2"
   ]
  },
  {
   "cell_type": "code",
   "execution_count": null,
   "id": "fb234713",
   "metadata": {
    "hidden": true
   },
   "outputs": [],
   "source": [
    "import os, json"
   ]
  },
  {
   "cell_type": "code",
   "execution_count": null,
   "id": "b14eeecb-25a8-4be9-ba77-51391e06ebdc",
   "metadata": {
    "hidden": true
   },
   "outputs": [],
   "source": [
    "from dotenv import find_dotenv, load_dotenv\n",
    "print(find_dotenv())\n",
    "load_dotenv(\"../.env\")"
   ]
  },
  {
   "cell_type": "code",
   "execution_count": null,
   "id": "115058e8-ce1f-4b4d-aeaf-a8e3b88b5278",
   "metadata": {
    "hidden": true,
    "scrolled": true
   },
   "outputs": [],
   "source": [
    "import torch\n",
    "print(torch.cuda.get_device_name(0))\n",
    "torch.__version__"
   ]
  },
  {
   "cell_type": "code",
   "execution_count": null,
   "id": "fc4f750f-8567-4ac7-86ec-aee6716b47be",
   "metadata": {
    "code_folding": [
     2
    ],
    "hidden": true,
    "jupyter": {
     "source_hidden": true
    }
   },
   "outputs": [],
   "source": [
    "from IPython import get_ipython\n",
    "\n",
    "def reset_jupyter_history():\n",
    "    \"\"\"\n",
    "    reset cell numbering\n",
    "    \"\"\"\n",
    "\n",
    "    import os\n",
    "    import sqlite3\n",
    "    from traitlets.config import Config\n",
    "    from IPython.core.history import HistoryManager\n",
    "    \n",
    "    ip = get_ipython()\n",
    "    \n",
    "    if ip is not None:\n",
    "        # Disable history temporarily\n",
    "        if hasattr(ip, 'history_manager'):\n",
    "            ip.history_manager.enabled = False\n",
    "        \n",
    "        # Get the path to the history database\n",
    "        hist_file = os.path.expanduser('~/.ipython/profile_default/history.sqlite')\n",
    "        if hasattr(ip, 'history_manager') and hasattr(ip.history_manager, 'hist_file'):\n",
    "            hist_file = ip.history_manager.hist_file\n",
    "        \n",
    "        if os.path.exists(hist_file):\n",
    "            # Close any existing connection\n",
    "            if hasattr(ip, 'history_manager') and hasattr(ip.history_manager, 'db') and ip.history_manager.db is not None:\n",
    "                ip.history_manager.db.close()\n",
    "            \n",
    "            # Truncate the database\n",
    "            conn = sqlite3.connect(hist_file)\n",
    "            conn.execute(\"DELETE FROM history\")\n",
    "            conn.execute(\"DELETE FROM sqlite_sequence WHERE name='history'\")\n",
    "            conn.commit()\n",
    "            conn.close()\n",
    "        \n",
    "        # Create a new Config object\n",
    "        c = Config()\n",
    "        c.HistoryManager.hist_file = hist_file\n",
    "        \n",
    "        # Create a new HistoryManager instance\n",
    "        new_history_manager = HistoryManager(shell=ip, config=c)\n",
    "        \n",
    "        # Assign the new history manager to the shell\n",
    "        ip.history_manager = new_history_manager\n",
    "        \n",
    "        # Enable history\n",
    "        ip.history_manager.enabled = True\n",
    "\n",
    "        ip.kernel.shell.execution_count = 0\n",
    "        \n",
    "        print(\"Jupyter history has been reset.\")\n",
    "    else:\n",
    "        print(\"This function must be run within a Jupyter notebook.\")\n",
    "\n",
    "reset_jupyter_history()\n",
    "get_ipython().kernel.shell.execution_count"
   ]
  },
  {
   "cell_type": "markdown",
   "id": "15f1b41d-733a-40a9-b855-e59435c21a81",
   "metadata": {
    "hidden": true
   },
   "source": [
    "<hr />"
   ]
  },
  {
   "cell_type": "markdown",
   "id": "eafc989c-785f-4b86-8ff2-9604178bf84a",
   "metadata": {
    "heading_collapsed": true,
    "jp-MarkdownHeadingCollapsed": true,
    "tags": []
   },
   "source": [
    "# Generate data"
   ]
  },
  {
   "cell_type": "code",
   "execution_count": null,
   "id": "1cbc89f5-18b2-403b-9755-cf11866b8a90",
   "metadata": {
    "hidden": true
   },
   "outputs": [],
   "source": [
    "from retrain_pipelines.dataset import DatasetType, pseudo_random_generate\n",
    "\n",
    "num_samples = 10_000 # number of samples\n",
    "data = pseudo_random_generate(DatasetType.TABULAR_CLASSIFICATION, num_samples)\n",
    "# Display the first few rows\n",
    "print(data.head())\n",
    "# save to file\n",
    "data.to_csv(os.path.realpath(os.path.join('..', 'data', 'synthetic_classif_tab_data_4classes.csv')), index=False)"
   ]
  },
  {
   "cell_type": "markdown",
   "id": "756a3813-ef9c-413e-8c77-a3d1c714996a",
   "metadata": {
    "hidden": true
   },
   "source": [
    "<hr />"
   ]
  },
  {
   "cell_type": "markdown",
   "id": "71f6b0f2-8745-4de3-91cb-4f4a2fb39e59",
   "metadata": {},
   "source": [
    "# Metaflow Run"
   ]
  },
  {
   "cell_type": "markdown",
   "id": "dddf771c-7d06-4b2c-8d95-c61acc066590",
   "metadata": {},
   "source": [
    "Chosse which domain shall be considered for the HP tuning grid search&nbsp;:"
   ]
  },
  {
   "cell_type": "code",
   "execution_count": null,
   "id": "acf1bb8b-4237-4e26-895b-2728680fb7f8",
   "metadata": {},
   "outputs": [],
   "source": [
    "pipeline_hp_grid = {\n",
    "    \"trainer\": {\n",
    "        \"max_epochs\":[100], #sys.maxsize,\n",
    "        \"patience\":[10],\n",
    "        \"batch_size\":[1024],\n",
    "        \"virtual_batch_size\":[256],\n",
    "    },\n",
    "    \"model\": {\n",
    "        \"n_d\":[64],\n",
    "        \"n_a\":[64],\n",
    "        \"n_steps\":[6],\n",
    "        \"gamma\":[1.5],\n",
    "        \"n_independent\":[2],\n",
    "        \"n_shared\":[2],\n",
    "        \"lambda_sparse\":[1e-4],\n",
    "        \"momentum\":[0.3],\n",
    "        \"clip_value\":[2.],\n",
    "        \"optimizer_fn\":[\"torch.optim.Adam\"],\n",
    "        \"optimizer_params\":[dict(lr=2e-2), dict(lr=0.1)],\n",
    "        \"scheduler_params\":[{\"gamma\": 0.80,\n",
    "                            \"step_size\": 20}],\n",
    "        \"scheduler_fn\":[\"torch.optim.lr_scheduler.StepLR\"],\n",
    "        \"epsilon\":[1e-15]\n",
    "    }\n",
    "}\n",
    "from textwrap import dedent\n",
    "os.environ['pipeline_hp_grid'] = str(json.dumps(dedent(\"\"\"{pipeline_hp_grid}\"\"\".format(pipeline_hp_grid=pipeline_hp_grid)))).replace(\"'\", '\"').strip('\"')\n",
    "print(os.environ['pipeline_hp_grid'])"
   ]
  },
  {
   "cell_type": "markdown",
   "id": "18a2d686-3854-4354-ac2a-2f69ee54d3d0",
   "metadata": {
    "collapsed": true,
    "jupyter": {
     "outputs_hidden": true
    },
    "tags": []
   },
   "source": [
    "## Run flow"
   ]
  },
  {
   "cell_type": "code",
   "execution_count": null,
   "id": "475c78bb-9ff6-474b-8935-dbc55b1957ef",
   "metadata": {},
   "outputs": [],
   "source": [
    "%reload_ext retrain_pipelines.local_launcher_magic"
   ]
  },
  {
   "cell_type": "code",
   "execution_count": null,
   "id": "e7c9f6c4-ec1c-4e16-ae62-28b9ee41e59c",
   "metadata": {},
   "outputs": [],
   "source": [
    "%retrain_pipelines_local retraining_pipeline.py run --help"
   ]
  },
  {
   "cell_type": "code",
   "execution_count": null,
   "id": "464135f0-ff8b-41ec-bcc0-6df3c4360c59",
   "metadata": {
    "scrolled": true
   },
   "outputs": [],
   "source": [
    "%retrain_pipelines_local retraining_pipeline.py run \\\n",
    "    --data_file \"../data/synthetic_classif_tab_data_4classes.csv\" \\\n",
    "    --buckets_param '{\"num_feature2\": 100, \"num_feature4\": 50}' \\\n",
    "    --pipeline_hp_grid \"${pipeline_hp_grid}\" \\\n",
    "    --cv_folds 2 \\\n",
    "    --wandb_run_mode disabled\n",
    "    #--preprocess_artifacts_path \".\" \\\n",
    "    #--pipeline_card_artifacts_path \".\" \\"
   ]
  },
  {
   "cell_type": "code",
   "execution_count": null,
   "id": "203ab2bc-f558-4bf8-9ca8-445cfb605452",
   "metadata": {
    "scrolled": true
   },
   "outputs": [],
   "source": [
    "%retrain_pipelines_local retraining_pipeline.py resume pipeline_card"
   ]
  },
  {
   "cell_type": "markdown",
   "id": "4abc0950-dbb4-4d31-aaab-c9bf2c4bb816",
   "metadata": {},
   "source": [
    "# Inspectors"
   ]
  },
  {
   "cell_type": "markdown",
   "id": "c21d23de-e2d3-4301-9909-690a8f7af2ca",
   "metadata": {},
   "source": [
    "After the fact inspecting retraining pipelines runs."
   ]
  },
  {
   "cell_type": "code",
   "execution_count": null,
   "id": "29e004a7",
   "metadata": {},
   "outputs": [],
   "source": [
    "mf_flow_name = \"TabNetHpCvWandbFlow\""
   ]
  },
  {
   "cell_type": "markdown",
   "id": "b0a723ec-1972-45c1-be71-29628aa9faa4",
   "metadata": {},
   "source": [
    "## local Metaflow SDK"
   ]
  },
  {
   "cell_type": "code",
   "execution_count": null,
   "id": "1b3791cd-3759-4b06-8dd1-75acfb0fd1be",
   "metadata": {},
   "outputs": [],
   "source": [
    "from retrain_pipelines.frameworks import local_metaflow as metaflow"
   ]
  },
  {
   "cell_type": "code",
   "execution_count": null,
   "id": "4c781840-d41f-4da5-955c-eb39992cd644",
   "metadata": {},
   "outputs": [],
   "source": [
    "metaflow.Task(\"TabNetHpCvWandbFlow/973/pipeline_card/29591\",  attempt=0)['model'].data"
   ]
  },
  {
   "cell_type": "markdown",
   "id": "d6511637-9cc0-4d63-95a6-6bd0b48fb06c",
   "metadata": {},
   "source": [
    "## local custom card explorer"
   ]
  },
  {
   "cell_type": "markdown",
   "id": "4caa7baf-62f7-4659-b4a2-9e9b564d19ef",
   "metadata": {},
   "source": [
    "Retrieve the full path to the custom html pipeline card in the local datastore&nbsp;:"
   ]
  },
  {
   "cell_type": "code",
   "execution_count": null,
   "id": "649b673a-e942-4121-a888-3d6c9fe0ec07",
   "metadata": {},
   "outputs": [],
   "source": [
    "from retrain_pipelines.inspectors import browse_local_pipeline_card"
   ]
  },
  {
   "cell_type": "code",
   "execution_count": null,
   "id": "ba519f28-f750-4d63-9d41-784c5d5dc6ec",
   "metadata": {},
   "outputs": [],
   "source": [
    "browse_local_pipeline_card(mf_flow_name)\n",
    "#browse_local_pipeline_card(mf_run_id=800, verbose=True)"
   ]
  },
  {
   "cell_type": "markdown",
   "id": "ca977141-a13c-49ca-b630-09d39bd3c251",
   "metadata": {},
   "source": [
    "<hr />"
   ]
  },
  {
   "cell_type": "markdown",
   "id": "7625144a-efd2-4276-90f3-b2c595797767",
   "metadata": {},
   "source": [
    "## WandB"
   ]
  },
  {
   "cell_type": "markdown",
   "id": "dad195a8-7439-42d5-9ed7-bce727085a4a",
   "metadata": {},
   "source": [
    "Make sure to have the `WANDB_API_KEY` environement variable set adequately.<br />\n",
    "It can be through a `secret`."
   ]
  },
  {
   "cell_type": "markdown",
   "id": "e99bd442-0e45-4629-a510-9793af9ca092",
   "metadata": {},
   "source": [
    "<b>programmatically browse the saved source-code</b>"
   ]
  },
  {
   "cell_type": "code",
   "execution_count": null,
   "id": "57be4037-26c1-4e0f-afc5-c5ec88f3779e",
   "metadata": {},
   "outputs": [],
   "source": [
    "from retrain_pipelines.inspectors import get_execution_source_code\n",
    "\n",
    "for source_code_artifact in get_execution_source_code(mf_run_id=860): #mf_flow_name):\n",
    "    print(f\" - {source_code_artifact.name} {source_code_artifact.url}\")"
   ]
  },
  {
   "cell_type": "markdown",
   "id": "d8c95dc7-b117-4cda-b8a9-28b31582c9df",
   "metadata": {},
   "source": [
    "<b>The below command will download source-code artifacts for a given run and open a file explorer on the parent dir&nbsp;:</b>"
   ]
  },
  {
   "cell_type": "code",
   "execution_count": null,
   "id": "112c23b9-0db1-4114-8e0f-7c2ad19bf07a",
   "metadata": {},
   "outputs": [],
   "source": [
    "from retrain_pipelines.inspectors import explore_source_code\n",
    "\n",
    "explore_source_code(mf_run_id=860) # mf_flow_name=mf_flow_name)"
   ]
  },
  {
   "cell_type": "markdown",
   "id": "d0401f7d-be5c-4c6f-8162-6d990defad63",
   "metadata": {},
   "source": [
    "<hr />"
   ]
  },
  {
   "cell_type": "code",
   "execution_count": null,
   "id": "a75109bc-c6fa-4b2d-ab6e-e0307325c726",
   "metadata": {},
   "outputs": [],
   "source": []
  }
 ],
 "metadata": {
  "kernelspec": {
   "display_name": "Metaflow Pytorch 1.13 GPU venv",
   "language": "python",
   "name": "metaflow_pytorch_1_venv"
  },
  "language_info": {
   "codemirror_mode": {
    "name": "ipython",
    "version": 3
   },
   "file_extension": ".py",
   "mimetype": "text/x-python",
   "name": "python",
   "nbconvert_exporter": "python",
   "pygments_lexer": "ipython3",
   "version": "3.9.19"
  },
  "toc": {
   "base_numbering": "0",
   "nav_menu": {},
   "number_sections": true,
   "sideBar": false,
   "skip_h1_title": false,
   "title_cell": "Table of Contents",
   "title_sidebar": "Contents",
   "toc_cell": false,
   "toc_position": {
    "height": "265.895px",
    "left": "1475.99px",
    "top": "143.77px",
    "width": "215.81px"
   },
   "toc_section_display": true,
   "toc_window_display": true
  }
 },
 "nbformat": 4,
 "nbformat_minor": 5
}
