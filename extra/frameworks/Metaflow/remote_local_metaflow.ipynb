{
  "nbformat": 4,
  "nbformat_minor": 0,
  "metadata": {
    "colab": {
      "provenance": [],
      "collapsed_sections": [
        "XGAZMH1VcfS9",
        "78hXp5ViRx09",
        "mQK9AQjFR2bx",
        "FcCcyUjp1KlB",
        "R66L2JoT1Zg_",
        "pcj5lTMaQmYl"
      ]
    },
    "kernelspec": {
      "name": "python3",
      "display_name": "Python 3"
    },
    "language_info": {
      "name": "python"
    }
  },
  "cells": [
    {
      "cell_type": "markdown",
      "source": [
        "<table width=100%>\n",
        "  <tr>\n",
        "    <td>\n",
        "      <a href=\"https://colab.research.google.com/github/aurelienmorgan/retrain-pipelines/blob/master/extra/frameworks/Metaflow/remote_local_metaflow.ipynb\" target=\"_blank\"><img src=\"https://colab.research.google.com/assets/colab-badge.svg\" alt=\"Open In Colab\" /></a>\n",
        "    </td>\n",
        "    <td width=405>\n",
        "      <a href=\"https://pypi.org/project/retrain-pipelines/\" target=\"_blank\"><img src=\"https://github.com/user-attachments/assets/19725866-13f9-48c1-b958-35c2e014351a\" width=\"150\" alt=\"retrain-pipelines\" /></a>\n",
        "      <a href=\"https://metaflow.org/\" target=\"_blank\"><img src=\"https://github.com/user-attachments/assets/8085a813-d993-47aa-8992-62123fa39967\" width=\"250\" alt=\"Metaflow\" /></a>\n",
        "    </td>\n",
        "  </tr>\n",
        "</table>"
      ],
      "metadata": {
        "id": "R_9qWB6amDDa"
      }
    },
    {
      "cell_type": "markdown",
      "source": [
        "<b><center><font size=14em>Stateful Metaflow Service & UI</font></center></b><br />\n",
        "<center><em><font size=12em>(2/2) Consume</font></em></center>"
      ],
      "metadata": {
        "id": "YznMIgFEmEl0"
      }
    },
    {
      "cell_type": "markdown",
      "source": [
        "<em>The herein notebook is the continuance of the <a href=\"https://github.com/aurelienmorgan/retrain-pipelines/blob/master/extra/frameworks/Metaflow/metaflow_service.ipynb\" target=\"_blank\">(1/2) start</a> Google Colab notebook</em>"
      ],
      "metadata": {
        "id": "Gb4_cIPzmg19"
      }
    },
    {
      "cell_type": "markdown",
      "source": [
        "<hr />"
      ],
      "metadata": {
        "id": "xs4HKljOnU7Q"
      }
    },
    {
      "cell_type": "markdown",
      "source": [
        "## Setup"
      ],
      "metadata": {
        "id": "272l3NDADm4g"
      }
    },
    {
      "cell_type": "code",
      "execution_count": null,
      "metadata": {
        "id": "ARyg2dMXOkHk"
      },
      "outputs": [],
      "source": [
        "from google.colab import drive\n",
        "# grant all permission or it fails\n",
        "drive.mount('/content/drive')"
      ]
    },
    {
      "cell_type": "code",
      "source": [
        "# the below var, must hold the same Google Drive location\n",
        "# as the one set in the \"Metaflow Service\" notebook\n",
        "MF_ROOT = \"/content/drive/MyDrive/Metaflow_hf\""
      ],
      "metadata": {
        "id": "_TvLpCKpOnE5"
      },
      "execution_count": null,
      "outputs": []
    },
    {
      "cell_type": "code",
      "source": [
        "tunnel_url = None\n",
        "datastore_dir = f\"{MF_ROOT}/local_datastore/\""
      ],
      "metadata": {
        "id": "Ybo3kvXR2nsD"
      },
      "execution_count": null,
      "outputs": []
    },
    {
      "cell_type": "markdown",
      "source": [
        "<hr />"
      ],
      "metadata": {
        "id": "BXz5A3j5DpsG"
      }
    },
    {
      "cell_type": "markdown",
      "source": [
        "Declare some convenience methods"
      ],
      "metadata": {
        "id": "I5sBxbhqDwYv"
      }
    },
    {
      "cell_type": "code",
      "source": [
        "import os\n",
        "import sys\n",
        "import requests\n",
        "\n",
        "os.environ['USERNAME'] = 'user'"
      ],
      "metadata": {
        "id": "pRvjuE6oNBJQ"
      },
      "execution_count": null,
      "outputs": []
    },
    {
      "cell_type": "code",
      "source": [
        "def valid_tunnel_url():\n",
        "    \"\"\"\n",
        "    When prompted, enter the URL of the tunnel which you established\n",
        "    in the \"Metaflow Service\" Colab notebook\n",
        "    \"\"\"\n",
        "\n",
        "    global tunnel_url\n",
        "    if tunnel_url is not None:\n",
        "        try:\n",
        "            response = requests.get(f\"{tunnel_url}/service/ping\")\n",
        "            if response.status_code != 200 or response.text != \"pong\":\n",
        "                tunnel_url = input(\"Enter an active tunnel URL:\\n\")\n",
        "            else:\n",
        "                print(tunnel_url)\n",
        "        except:\n",
        "            tunnel_url = input(\"The former endpoint is not reachable. \" +\n",
        "                              \"Enter an active tunnel URL:\\n\")\n",
        "    else:\n",
        "        tunnel_url = input(\"Enter an active tunnel URL:\\n\")"
      ],
      "metadata": {
        "id": "79FopZU_DuRQ"
      },
      "execution_count": null,
      "outputs": []
    },
    {
      "cell_type": "code",
      "source": [
        "def unload_package(package_name):\n",
        "    # Remove the package and its submodules from sys.modules\n",
        "    names_to_remove = [name for name in sys.modules if name.startswith(package_name)]\n",
        "    for name in names_to_remove:\n",
        "        del sys.modules[name]\n",
        "    if package_name in globals():\n",
        "        del globals()[package_name]"
      ],
      "metadata": {
        "id": "I_kLGDsdETVS"
      },
      "execution_count": null,
      "outputs": []
    },
    {
      "cell_type": "markdown",
      "source": [
        "Now, declare the <code>Hello World</code> flow&nbsp;:"
      ],
      "metadata": {
        "id": "8tFpzM2mcBuH"
      }
    },
    {
      "cell_type": "code",
      "source": [
        "!pip install metaflow\n",
        "!pip install metaflow-card-html"
      ],
      "metadata": {
        "id": "IGCz2nJyO0I9"
      },
      "execution_count": null,
      "outputs": []
    },
    {
      "cell_type": "code",
      "source": [
        "%%writefile hello_world_flow.py\n",
        "from metaflow import FlowSpec, step, current, card\n",
        "from metaflow.cards import Markdown\n",
        "\n",
        "class HelloWorldFlow(FlowSpec):\n",
        "\n",
        "    @step\n",
        "    def start(self):\n",
        "        print(\"Hello, World!\")\n",
        "        self.next(self.pipeline_card)\n",
        "\n",
        "    @card(id=\"custom\", type=\"html\")\n",
        "    @step\n",
        "    def pipeline_card(self):\n",
        "        print(\"blabla\")\n",
        "        self.html = \"blabla\"\n",
        "        self.next(self.end)\n",
        "\n",
        "    @step\n",
        "    def end(self):\n",
        "        print(\"Flow Finished\")\n",
        "\n",
        "if __name__ == '__main__':\n",
        "    HelloWorldFlow()"
      ],
      "metadata": {
        "id": "REY-uTl2TkGV"
      },
      "execution_count": null,
      "outputs": []
    },
    {
      "cell_type": "markdown",
      "source": [
        "<hr />"
      ],
      "metadata": {
        "id": "wft5Dek8Dsjd"
      }
    },
    {
      "cell_type": "markdown",
      "source": [
        "# Standard <code>metaflow</code> integration"
      ],
      "metadata": {
        "id": "XGAZMH1VcfS9"
      }
    },
    {
      "cell_type": "markdown",
      "source": [
        "## Metaflow API"
      ],
      "metadata": {
        "id": "78hXp5ViRx09"
      }
    },
    {
      "cell_type": "code",
      "source": [
        "valid_tunnel_url()\n",
        "\n",
        "# Launch flow run\n",
        "! export METAFLOW_SERVICE_URL={tunnel_url}/service/ && \\\n",
        "  export METAFLOW_DEFAULT_METADATA=service && \\\n",
        "  export USERNAME=user && \\\n",
        "  cd {datastore_dir} && \\\n",
        "  python /content/hello_world_flow.py run"
      ],
      "metadata": {
        "id": "MjOrS9z5kxT3"
      },
      "execution_count": null,
      "outputs": []
    },
    {
      "cell_type": "markdown",
      "source": [
        "## Metaflow SDK"
      ],
      "metadata": {
        "id": "mQK9AQjFR2bx"
      }
    },
    {
      "cell_type": "code",
      "source": [
        "valid_tunnel_url()\n",
        "\n",
        "import os\n",
        "os.environ['METAFLOW_SERVICE_URL'] = f\"{tunnel_url}/service\"\n",
        "os.environ['METAFLOW_DEFAULT_METADATA'] = 'service'\n",
        "\n",
        "import metaflow"
      ],
      "metadata": {
        "id": "Rk-X6KpKR3-u"
      },
      "execution_count": null,
      "outputs": []
    },
    {
      "cell_type": "markdown",
      "source": [
        "You can use the Metaflow python SDK as usual and, this will work with your Colab-hosted instance&nbsp;:"
      ],
      "metadata": {
        "id": "TKAClXaES2SN"
      }
    },
    {
      "cell_type": "code",
      "source": [
        "list(metaflow.Flow(\"HelloWorldFlow\").runs())[0:10]"
      ],
      "metadata": {
        "id": "VxPMDNl0S3Vo"
      },
      "execution_count": null,
      "outputs": []
    },
    {
      "cell_type": "markdown",
      "source": [
        "# <code>retrain-pipelines</code> integration"
      ],
      "metadata": {
        "id": "90jXcezlksrK"
      }
    },
    {
      "cell_type": "markdown",
      "source": [
        "Lets start by installing the lib"
      ],
      "metadata": {
        "id": "SPza-a3xMelt"
      }
    },
    {
      "cell_type": "code",
      "source": [
        "!pip install --no-cache-dir \"retrain-pipelines>=0.1.1\""
      ],
      "metadata": {
        "id": "FE5-XO5ZIX82"
      },
      "execution_count": null,
      "outputs": []
    },
    {
      "cell_type": "markdown",
      "source": [
        "Alternatively, one could install the current development snapshot from remote source&nbsp;:"
      ],
      "metadata": {
        "id": "Cs50ufORMkv3"
      }
    },
    {
      "cell_type": "code",
      "source": [
        "# !pip install git+https://github.com/aurelienmorgan/retrain-pipelines.git@master#subdirectory=pkg_src\n",
        "# !chmod +x /usr/local/lib/python3.10/dist-packages/retrain_pipelines/legacy_launcher.sh"
      ],
      "metadata": {
        "id": "b4MOlq1hk3ga"
      },
      "execution_count": null,
      "outputs": []
    },
    {
      "cell_type": "markdown",
      "source": [
        "## Metaflow API"
      ],
      "metadata": {
        "id": "FcCcyUjp1KlB"
      }
    },
    {
      "cell_type": "markdown",
      "source": [
        "Below is how you can launch a pipeline run through the <code>retrain-pipelines</code> cell magic&nbsp;:"
      ],
      "metadata": {
        "id": "5RIyFar2rwx8"
      }
    },
    {
      "cell_type": "code",
      "source": [
        "%load_ext retrain_pipelines.local_launcher_magic"
      ],
      "metadata": {
        "id": "SDYGVdZJlQcY"
      },
      "execution_count": null,
      "outputs": []
    },
    {
      "cell_type": "code",
      "source": [
        "valid_tunnel_url()\n",
        "\n",
        "os.environ['METAFLOW_SERVICE_URL'] = f\"{tunnel_url}/service\"\n",
        "os.environ['METAFLOW_DATASTORE_SYSROOT_LOCAL'] = \\\n",
        "    f\"{MF_ROOT}/local_datastore/\"\n",
        "\n",
        "%retrain_pipelines_local /content/hello_world_flow.py run"
      ],
      "metadata": {
        "id": "xwpqaP_WzTT-"
      },
      "execution_count": null,
      "outputs": []
    },
    {
      "cell_type": "markdown",
      "source": [
        "## Metaflow SDK"
      ],
      "metadata": {
        "id": "R66L2JoT1Zg_"
      }
    },
    {
      "cell_type": "markdown",
      "source": [
        "Below is how you can interact with the <code>metaflow</code> python package through <code>retrain-pipelines</code>&nbsp;:"
      ],
      "metadata": {
        "id": "pS2NZbNsr3bv"
      }
    },
    {
      "cell_type": "code",
      "source": [
        "unload_package('metaflow')\n",
        "valid_tunnel_url()\n",
        "\n",
        "os.environ['METAFLOW_SERVICE_URL'] = f\"{tunnel_url}/service\"\n",
        "os.environ['METAFLOW_DATASTORE_SYSROOT_LOCAL'] = \\\n",
        "    f\"{MF_ROOT}/local_datastore/\"\n",
        "\n",
        "from retrain_pipelines.frameworks import local_metaflow as metaflow"
      ],
      "metadata": {
        "id": "cgQhPgphk6Gt"
      },
      "execution_count": null,
      "outputs": []
    },
    {
      "cell_type": "code",
      "source": [
        "list(metaflow.Flow(\"HelloWorldFlow\").runs())[0:10]"
      ],
      "metadata": {
        "id": "g80zuid1lJPT"
      },
      "execution_count": null,
      "outputs": []
    },
    {
      "cell_type": "markdown",
      "source": [
        "## Inspectors"
      ],
      "metadata": {
        "id": "pcj5lTMaQmYl"
      }
    },
    {
      "cell_type": "code",
      "source": [
        "mf_flow_name = 'HelloWorldFlow'"
      ],
      "metadata": {
        "id": "XIk49ARWQ4Ec"
      },
      "execution_count": null,
      "outputs": []
    },
    {
      "cell_type": "code",
      "source": [
        "unload_package('metaflow')\n",
        "valid_tunnel_url()\n",
        "\n",
        "os.environ['METAFLOW_SERVICE_URL'] = f\"{tunnel_url}/service\"\n",
        "os.environ['METAFLOW_DATASTORE_SYSROOT_LOCAL'] = \\\n",
        "    f\"{MF_ROOT}/local_datastore/\"\n",
        "\n",
        "from retrain_pipelines.frameworks import local_metaflow as metaflow\n",
        "from retrain_pipelines.inspectors import browse_pipeline_card"
      ],
      "metadata": {
        "id": "4f7yChoHku8z"
      },
      "execution_count": null,
      "outputs": []
    },
    {
      "cell_type": "code",
      "source": [
        "browse_pipeline_card(f\"{tunnel_url}/ui_backend_service\", mf_flow_name, verbose=True)"
      ],
      "metadata": {
        "id": "8_X90Bwdkxr4"
      },
      "execution_count": null,
      "outputs": []
    }
  ]
}