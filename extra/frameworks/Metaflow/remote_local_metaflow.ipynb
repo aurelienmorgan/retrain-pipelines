{
  "nbformat": 4,
  "nbformat_minor": 0,
  "metadata": {
    "colab": {
      "provenance": []
    },
    "kernelspec": {
      "name": "python3",
      "display_name": "Python 3"
    },
    "language_info": {
      "name": "python"
    }
  },
  "cells": [
    {
      "cell_type": "markdown",
      "source": [
        "<a href=\"https://colab.research.google.com/github/xjdr-alt/entropix/blob/main/entropix.ipynb\" target=\"_blank\"><img src=\"https://colab.research.google.com/assets/colab-badge.svg\" alt=\"Open In Colab\" /></a>"
      ],
      "metadata": {
        "id": "R_9qWB6amDDa"
      }
    },
    {
      "cell_type": "markdown",
      "source": [
        "<b><center><font size=14em>Stateful Metaflow Service & UI</font></center></b>\n",
        "<center><em><font size=12em>(2/2) Consume</font></em></center>"
      ],
      "metadata": {
        "id": "YznMIgFEmEl0"
      }
    },
    {
      "cell_type": "markdown",
      "source": [
        "<em>The herein notebook is the continuance of the <a href=\"metaflow_service.ipynb\" target=\"_blank\">(1/2) start</a> Google Colab notebook</em>"
      ],
      "metadata": {
        "id": "Gb4_cIPzmg19"
      }
    },
    {
      "cell_type": "markdown",
      "source": [
        "<hr />"
      ],
      "metadata": {
        "id": "xs4HKljOnU7Q"
      }
    },
    {
      "cell_type": "code",
      "execution_count": 1,
      "metadata": {
        "colab": {
          "base_uri": "https://localhost:8080/"
        },
        "id": "ARyg2dMXOkHk",
        "outputId": "47ba3476-e731-410e-cfca-58c9c8cbc5fe"
      },
      "outputs": [
        {
          "output_type": "stream",
          "name": "stdout",
          "text": [
            "Mounted at /content/drive\n"
          ]
        }
      ],
      "source": [
        "from google.colab import drive\n",
        "# grant all permission or it fails\n",
        "drive.mount('/content/drive')"
      ]
    },
    {
      "cell_type": "code",
      "source": [
        "tunnel_url = None"
      ],
      "metadata": {
        "id": "Ybo3kvXR2nsD"
      },
      "execution_count": 2,
      "outputs": []
    },
    {
      "cell_type": "code",
      "source": [
        "# below, must be the same Google Drive location\n",
        "# as the one set in the \"Metaflow Service\" notebook\n",
        "MF_ROOT = \"/content/drive/MyDrive/Metaflow_hf\""
      ],
      "metadata": {
        "id": "_TvLpCKpOnE5"
      },
      "execution_count": 3,
      "outputs": []
    },
    {
      "cell_type": "code",
      "source": [
        "!pip install metaflow"
      ],
      "metadata": {
        "colab": {
          "base_uri": "https://localhost:8080/"
        },
        "id": "IGCz2nJyO0I9",
        "outputId": "4a846b3a-dfb0-4380-a87f-5be63176d33d"
      },
      "execution_count": 4,
      "outputs": [
        {
          "output_type": "stream",
          "name": "stdout",
          "text": [
            "Collecting metaflow\n",
            "  Downloading metaflow-2.12.25-py2.py3-none-any.whl.metadata (5.9 kB)\n",
            "Requirement already satisfied: requests in /usr/local/lib/python3.10/dist-packages (from metaflow) (2.32.3)\n",
            "Collecting boto3 (from metaflow)\n",
            "  Downloading boto3-1.35.35-py3-none-any.whl.metadata (6.6 kB)\n",
            "Collecting botocore<1.36.0,>=1.35.35 (from boto3->metaflow)\n",
            "  Downloading botocore-1.35.35-py3-none-any.whl.metadata (5.6 kB)\n",
            "Collecting jmespath<2.0.0,>=0.7.1 (from boto3->metaflow)\n",
            "  Downloading jmespath-1.0.1-py3-none-any.whl.metadata (7.6 kB)\n",
            "Collecting s3transfer<0.11.0,>=0.10.0 (from boto3->metaflow)\n",
            "  Downloading s3transfer-0.10.2-py3-none-any.whl.metadata (1.7 kB)\n",
            "Requirement already satisfied: charset-normalizer<4,>=2 in /usr/local/lib/python3.10/dist-packages (from requests->metaflow) (3.3.2)\n",
            "Requirement already satisfied: idna<4,>=2.5 in /usr/local/lib/python3.10/dist-packages (from requests->metaflow) (3.10)\n",
            "Requirement already satisfied: urllib3<3,>=1.21.1 in /usr/local/lib/python3.10/dist-packages (from requests->metaflow) (2.2.3)\n",
            "Requirement already satisfied: certifi>=2017.4.17 in /usr/local/lib/python3.10/dist-packages (from requests->metaflow) (2024.8.30)\n",
            "Requirement already satisfied: python-dateutil<3.0.0,>=2.1 in /usr/local/lib/python3.10/dist-packages (from botocore<1.36.0,>=1.35.35->boto3->metaflow) (2.8.2)\n",
            "Requirement already satisfied: six>=1.5 in /usr/local/lib/python3.10/dist-packages (from python-dateutil<3.0.0,>=2.1->botocore<1.36.0,>=1.35.35->boto3->metaflow) (1.16.0)\n",
            "Downloading metaflow-2.12.25-py2.py3-none-any.whl (1.4 MB)\n",
            "\u001b[2K   \u001b[90m━━━━━━━━━━━━━━━━━━━━━━━━━━━━━━━━━━━━━━━━\u001b[0m \u001b[32m1.4/1.4 MB\u001b[0m \u001b[31m15.7 MB/s\u001b[0m eta \u001b[36m0:00:00\u001b[0m\n",
            "\u001b[?25hDownloading boto3-1.35.35-py3-none-any.whl (139 kB)\n",
            "\u001b[2K   \u001b[90m━━━━━━━━━━━━━━━━━━━━━━━━━━━━━━━━━━━━━━━━\u001b[0m \u001b[32m139.1/139.1 kB\u001b[0m \u001b[31m7.2 MB/s\u001b[0m eta \u001b[36m0:00:00\u001b[0m\n",
            "\u001b[?25hDownloading botocore-1.35.35-py3-none-any.whl (12.6 MB)\n",
            "\u001b[2K   \u001b[90m━━━━━━━━━━━━━━━━━━━━━━━━━━━━━━━━━━━━━━━━\u001b[0m \u001b[32m12.6/12.6 MB\u001b[0m \u001b[31m52.5 MB/s\u001b[0m eta \u001b[36m0:00:00\u001b[0m\n",
            "\u001b[?25hDownloading jmespath-1.0.1-py3-none-any.whl (20 kB)\n",
            "Downloading s3transfer-0.10.2-py3-none-any.whl (82 kB)\n",
            "\u001b[2K   \u001b[90m━━━━━━━━━━━━━━━━━━━━━━━━━━━━━━━━━━━━━━━━\u001b[0m \u001b[32m82.7/82.7 kB\u001b[0m \u001b[31m4.2 MB/s\u001b[0m eta \u001b[36m0:00:00\u001b[0m\n",
            "\u001b[?25hInstalling collected packages: jmespath, botocore, s3transfer, boto3, metaflow\n",
            "Successfully installed boto3-1.35.35 botocore-1.35.35 jmespath-1.0.1 metaflow-2.12.25 s3transfer-0.10.2\n"
          ]
        }
      ]
    },
    {
      "cell_type": "code",
      "source": [
        "%%writefile hello_world_flow.py\n",
        "from metaflow import FlowSpec, step, current, card\n",
        "from metaflow.cards import Markdown\n",
        "\n",
        "# Define the HelloWorldFlow using Metaflow's FlowSpec\n",
        "class HelloWorldFlow(FlowSpec):\n",
        "\n",
        "    @step\n",
        "    def start(self):\n",
        "        print(\"Hello, World!\")\n",
        "        self.next(self.flow_card)\n",
        "\n",
        "    @card(id='default')\n",
        "    @step\n",
        "    def flow_card(self):\n",
        "        print(\"blabla\")\n",
        "        current.card['default'].append(Markdown(\"blabla\"))\n",
        "        self.next(self.end)\n",
        "\n",
        "    @step\n",
        "    def end(self):\n",
        "        print(\"Flow Finished\")\n",
        "\n",
        "if __name__ == '__main__':\n",
        "    HelloWorldFlow()"
      ],
      "metadata": {
        "colab": {
          "base_uri": "https://localhost:8080/"
        },
        "id": "_fUvc_q0PDrk",
        "outputId": "990a006e-a086-468e-9220-bedf0519f2f8"
      },
      "execution_count": 5,
      "outputs": [
        {
          "output_type": "stream",
          "name": "stdout",
          "text": [
            "Writing hello_world_flow.py\n"
          ]
        }
      ]
    },
    {
      "cell_type": "code",
      "source": [
        "datastore_dir = f\"{MF_ROOT}/local_datastore/\"\n",
        "\n",
        "# when prompted, enter the URL\n",
        "# of the tunnel which you established\n",
        "# in the \"Metaflow Service\" Colab notebook\n",
        "import requests\n",
        "if tunnel_url is not None:\n",
        "    try:\n",
        "        response = requests.get(f\"{tunnel_url}/service/ping\")\n",
        "        if response.status_code != 200 or response.text != \"pong\":\n",
        "            tunnel_url = input(\"Enter an active tunnel URL:\\n\")\n",
        "        else:\n",
        "            print(tunnel_url)\n",
        "    except:\n",
        "        tunnel_url = input(\"The former endpoint is not reachable. \" +\n",
        "                           \"Enter an active tunnel URL:\\n\")\n",
        "else:\n",
        "    tunnel_url = input(\"Enter an active tunnel URL:\\n\")\n",
        "\n",
        "# Launch flow run\n",
        "for i in range(2):\n",
        "    ! echo \"Running iteration {i}\" && \\\n",
        "      export METAFLOW_SERVICE_URL={tunnel_url}/service/ && \\\n",
        "      export METAFLOW_DEFAULT_METADATA=service && \\\n",
        "      export METAFLOW_DEFAULT_DATASTORE='local' && \\\n",
        "      export METAFLOW_DATASTORE_SYSROOT_LOCAL={datastore_dir} && \\\n",
        "      export USERNAME=user && \\\n",
        "      cd {datastore_dir} && \\\n",
        "      python /content/hello_world_flow.py run"
      ],
      "metadata": {
        "colab": {
          "base_uri": "https://localhost:8080/"
        },
        "id": "MjOrS9z5kxT3",
        "outputId": "86a8a2cd-5030-4ad6-f6f3-dd900d68098e"
      },
      "execution_count": 13,
      "outputs": [
        {
          "output_type": "stream",
          "name": "stdout",
          "text": [
            "https://lbs-staffing-driver-subsequent.trycloudflare.com\n",
            "Running iteration 0\n",
            "\u001b[35m\u001b[1mMetaflow 2.12.25\u001b[0m\u001b[35m\u001b[22m executing \u001b[0m\u001b[31m\u001b[1mHelloWorldFlow\u001b[0m\u001b[35m\u001b[22m\u001b[0m\u001b[35m\u001b[22m for \u001b[0m\u001b[31m\u001b[1muser:user\u001b[0m\u001b[35m\u001b[22m\u001b[K\u001b[0m\u001b[35m\u001b[22m\u001b[0m\n",
            "\u001b[35m\u001b[22mValidating your flow...\u001b[K\u001b[0m\u001b[35m\u001b[22m\u001b[0m\n",
            "\u001b[32m\u001b[1m    The graph looks good!\u001b[K\u001b[0m\u001b[32m\u001b[1m\u001b[0m\n",
            "\u001b[35m\u001b[22mRunning pylint...\u001b[K\u001b[0m\u001b[35m\u001b[22m\u001b[0m\n",
            "\u001b[32m\u001b[22m    Pylint not found, so extra checks are disabled.\u001b[K\u001b[0m\u001b[32m\u001b[22m\u001b[0m\n",
            "\u001b[35m2024-10-08 19:02:17.733 \u001b[0m\u001b[1mWorkflow starting (run-id 509):\u001b[0m\n",
            "\u001b[35m2024-10-08 19:02:20.041 \u001b[0m\u001b[32m[509/start/2034 (pid 114582)] \u001b[0m\u001b[1mTask is starting.\u001b[0m\n",
            "\u001b[35m2024-10-08 19:02:20.989 \u001b[0m\u001b[32m[509/start/2034 (pid 114582)] \u001b[0m\u001b[22mHello, World!\u001b[0m\n",
            "\u001b[35m2024-10-08 19:02:21.894 \u001b[0m\u001b[32m[509/start/2034 (pid 114582)] \u001b[0m\u001b[1mTask finished successfully.\u001b[0m\n",
            "\u001b[35m2024-10-08 19:02:22.955 \u001b[0m\u001b[32m[509/flow_card/2035 (pid 114597)] \u001b[0m\u001b[1mTask is starting.\u001b[0m\n",
            "\u001b[35m2024-10-08 19:02:24.020 \u001b[0m\u001b[32m[509/flow_card/2035 (pid 114597)] \u001b[0m\u001b[22mblabla\u001b[0m\n",
            "\u001b[35m2024-10-08 19:02:30.183 \u001b[0m\u001b[32m[509/flow_card/2035 (pid 114597)] \u001b[0m\u001b[1mTask finished successfully.\u001b[0m\n",
            "\u001b[35m2024-10-08 19:02:31.034 \u001b[0m\u001b[32m[509/end/2036 (pid 114636)] \u001b[0m\u001b[1mTask is starting.\u001b[0m\n",
            "\u001b[35m2024-10-08 19:02:32.265 \u001b[0m\u001b[32m[509/end/2036 (pid 114636)] \u001b[0m\u001b[22mFlow Finished\u001b[0m\n",
            "\u001b[35m2024-10-08 19:02:32.996 \u001b[0m\u001b[32m[509/end/2036 (pid 114636)] \u001b[0m\u001b[1mTask finished successfully.\u001b[0m\n",
            "\u001b[35m2024-10-08 19:02:33.053 \u001b[0m\u001b[1mDone!\u001b[0m\n",
            "Running iteration 1\n",
            "\u001b[35m\u001b[1mMetaflow 2.12.25\u001b[0m\u001b[35m\u001b[22m executing \u001b[0m\u001b[31m\u001b[1mHelloWorldFlow\u001b[0m\u001b[35m\u001b[22m\u001b[0m\u001b[35m\u001b[22m for \u001b[0m\u001b[31m\u001b[1muser:user\u001b[0m\u001b[35m\u001b[22m\u001b[K\u001b[0m\u001b[35m\u001b[22m\u001b[0m\n",
            "\u001b[35m\u001b[22mValidating your flow...\u001b[K\u001b[0m\u001b[35m\u001b[22m\u001b[0m\n",
            "\u001b[32m\u001b[1m    The graph looks good!\u001b[K\u001b[0m\u001b[32m\u001b[1m\u001b[0m\n",
            "\u001b[35m\u001b[22mRunning pylint...\u001b[K\u001b[0m\u001b[35m\u001b[22m\u001b[0m\n",
            "\u001b[32m\u001b[22m    Pylint not found, so extra checks are disabled.\u001b[K\u001b[0m\u001b[32m\u001b[22m\u001b[0m\n",
            "\u001b[35m2024-10-08 19:03:02.841 \u001b[0m\u001b[1mWorkflow starting (run-id 510):\u001b[0m\n",
            "\u001b[35m2024-10-08 19:03:04.971 \u001b[0m\u001b[32m[510/start/2038 (pid 114780)] \u001b[0m\u001b[1mTask is starting.\u001b[0m\n",
            "\u001b[35m2024-10-08 19:03:05.877 \u001b[0m\u001b[32m[510/start/2038 (pid 114780)] \u001b[0m\u001b[22mHello, World!\u001b[0m\n",
            "\u001b[35m2024-10-08 19:03:06.643 \u001b[0m\u001b[32m[510/start/2038 (pid 114780)] \u001b[0m\u001b[1mTask finished successfully.\u001b[0m\n",
            "\u001b[35m2024-10-08 19:03:07.604 \u001b[0m\u001b[32m[510/flow_card/2039 (pid 114791)] \u001b[0m\u001b[1mTask is starting.\u001b[0m\n",
            "\u001b[35m2024-10-08 19:03:08.529 \u001b[0m\u001b[32m[510/flow_card/2039 (pid 114791)] \u001b[0m\u001b[22mblabla\u001b[0m\n",
            "\u001b[35m2024-10-08 19:03:14.580 \u001b[0m\u001b[32m[510/flow_card/2039 (pid 114791)] \u001b[0m\u001b[1mTask finished successfully.\u001b[0m\n",
            "\u001b[35m2024-10-08 19:03:15.508 \u001b[0m\u001b[32m[510/end/2040 (pid 114830)] \u001b[0m\u001b[1mTask is starting.\u001b[0m\n",
            "\u001b[35m2024-10-08 19:03:16.682 \u001b[0m\u001b[32m[510/end/2040 (pid 114830)] \u001b[0m\u001b[22mFlow Finished\u001b[0m\n",
            "\u001b[35m2024-10-08 19:03:17.621 \u001b[0m\u001b[32m[510/end/2040 (pid 114830)] \u001b[0m\u001b[1mTask finished successfully.\u001b[0m\n",
            "\u001b[35m2024-10-08 19:03:17.654 \u001b[0m\u001b[1mDone!\u001b[0m\n"
          ]
        }
      ]
    }
  ]
}