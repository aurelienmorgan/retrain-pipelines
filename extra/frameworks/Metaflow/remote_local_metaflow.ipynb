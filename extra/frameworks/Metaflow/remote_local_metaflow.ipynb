{
  "nbformat": 4,
  "nbformat_minor": 0,
  "metadata": {
    "colab": {
      "provenance": []
    },
    "kernelspec": {
      "name": "python3",
      "display_name": "Python 3"
    },
    "language_info": {
      "name": "python"
    }
  },
  "cells": [
    {
      "cell_type": "markdown",
      "source": [
        "<table width=100%>\n",
        "  <tr>\n",
        "    <td>\n",
        "      <a href=\"https://colab.research.google.com/github/aurelienmorgan/retrain-pipelines/blob/main/extra/frameworks/Metaflow/metaflow_service.ipynb\" target=\"_blank\"><img src=\"https://colab.research.google.com/assets/colab-badge.svg\" alt=\"Open In Colab\" /></a>\n",
        "    </td>\n",
        "    <td width=405>\n",
        "      <a href=\"https://pypi.org/project/retrain-pipelines/\" target=\"_blank\"><img src=\"https://github.com/user-attachments/assets/19725866-13f9-48c1-b958-35c2e014351a\" width=\"150\" alt=\"retrain-pipelines\" /></a>\n",
        "      <a href=\"https://metaflow.org/\" target=\"_blank\"><img src=\"https://github.com/user-attachments/assets/8085a813-d993-47aa-8992-62123fa39967\" width=\"250\" alt=\"Metaflow\" /></a>\n",
        "    </td>\n",
        "  </tr>\n",
        "</table>"
      ],
      "metadata": {
        "id": "R_9qWB6amDDa"
      }
    },
    {
      "cell_type": "markdown",
      "source": [
        "<b><center><font size=14em>Stateful Metaflow Service & UI</font></center></b>\n",
        "<center><em><font size=12em>(2/2) Consume</font></em></center>"
      ],
      "metadata": {
        "id": "YznMIgFEmEl0"
      }
    },
    {
      "cell_type": "markdown",
      "source": [
        "<em>The herein notebook is the continuance of the <a href=\"https://github.com/aurelienmorgan/retrain-pipelines/extra/frameworks/Metaflow/metaflow_service.ipynb\" target=\"_blank\">(1/2) start</a> Google Colab notebook</em>"
      ],
      "metadata": {
        "id": "Gb4_cIPzmg19"
      }
    },
    {
      "cell_type": "markdown",
      "source": [
        "<hr />"
      ],
      "metadata": {
        "id": "xs4HKljOnU7Q"
      }
    },
    {
      "cell_type": "code",
      "execution_count": null,
      "metadata": {
        "id": "ARyg2dMXOkHk"
      },
      "outputs": [],
      "source": [
        "from google.colab import drive\n",
        "# grant all permission or it fails\n",
        "drive.mount('/content/drive')"
      ]
    },
    {
      "cell_type": "code",
      "source": [
        "tunnel_url = None"
      ],
      "metadata": {
        "id": "Ybo3kvXR2nsD"
      },
      "execution_count": null,
      "outputs": []
    },
    {
      "cell_type": "code",
      "source": [
        "# below, must be the same Google Drive location\n",
        "# as the one set in the \"Metaflow Service\" notebook\n",
        "MF_ROOT = \"/content/drive/MyDrive/Metaflow_hf\""
      ],
      "metadata": {
        "id": "_TvLpCKpOnE5"
      },
      "execution_count": null,
      "outputs": []
    },
    {
      "cell_type": "markdown",
      "source": [
        "## Metaflow API"
      ],
      "metadata": {
        "id": "78hXp5ViRx09"
      }
    },
    {
      "cell_type": "code",
      "source": [
        "%%writefile hello_world_flow.py\n",
        "from metaflow import FlowSpec, step, current, card\n",
        "from metaflow.cards import Markdown\n",
        "\n",
        "class HelloWorldFlow(FlowSpec):\n",
        "\n",
        "    @step\n",
        "    def start(self):\n",
        "        print(\"Hello, World!\")\n",
        "        self.next(self.flow_card)\n",
        "\n",
        "    @card(id='default')\n",
        "    @step\n",
        "    def flow_card(self):\n",
        "        print(\"blabla\")\n",
        "        current.card['default'].append(Markdown(\"blabla\"))\n",
        "        self.next(self.end)\n",
        "\n",
        "    @step\n",
        "    def end(self):\n",
        "        print(\"Flow Finished\")\n",
        "\n",
        "if __name__ == '__main__':\n",
        "    HelloWorldFlow()"
      ],
      "metadata": {
        "id": "_fUvc_q0PDrk"
      },
      "execution_count": null,
      "outputs": []
    },
    {
      "cell_type": "code",
      "source": [
        "datastore_dir = f\"{MF_ROOT}/local_datastore/\"\n",
        "\n",
        "# when prompted, enter the URL\n",
        "# of the tunnel which you established\n",
        "# in the \"Metaflow Service\" Colab notebook\n",
        "import requests\n",
        "if tunnel_url is not None:\n",
        "    try:\n",
        "        response = requests.get(f\"{tunnel_url}/service/ping\")\n",
        "        if response.status_code != 200 or response.text != \"pong\":\n",
        "            tunnel_url = input(\"Enter an active tunnel URL:\\n\")\n",
        "        else:\n",
        "            print(tunnel_url)\n",
        "    except:\n",
        "        tunnel_url = input(\"The former endpoint is not reachable. \" +\n",
        "                           \"Enter an active tunnel URL:\\n\")\n",
        "else:\n",
        "    tunnel_url = input(\"Enter an active tunnel URL:\\n\")\n",
        "\n",
        "# Launch flow run\n",
        "! export METAFLOW_SERVICE_URL={tunnel_url}/service/ && \\\n",
        "  export METAFLOW_DEFAULT_METADATA=service && \\\n",
        "  export METAFLOW_DEFAULT_DATASTORE='local' && \\\n",
        "  export METAFLOW_DATASTORE_SYSROOT_LOCAL={datastore_dir} && \\\n",
        "  export USERNAME=user && \\\n",
        "  cd {datastore_dir} && \\\n",
        "  python /content/hello_world_flow.py run"
      ],
      "metadata": {
        "id": "MjOrS9z5kxT3"
      },
      "execution_count": null,
      "outputs": []
    },
    {
      "cell_type": "markdown",
      "source": [
        "## Metaflow SDK"
      ],
      "metadata": {
        "id": "mQK9AQjFR2bx"
      }
    },
    {
      "cell_type": "code",
      "source": [
        "!pip install metaflow"
      ],
      "metadata": {
        "id": "IGCz2nJyO0I9"
      },
      "execution_count": null,
      "outputs": []
    },
    {
      "cell_type": "code",
      "source": [
        "# when prompted, enter the URL\n",
        "# of the tunnel which you established\n",
        "# in the \"Metaflow Service\" Colab notebook\n",
        "\n",
        "import sys\n",
        "def unload_package(package_name):\n",
        "    # Remove the package and its submodules from sys.modules\n",
        "    names_to_remove = [name for name in sys.modules if name.startswith(package_name)]\n",
        "    for name in names_to_remove:\n",
        "        del sys.modules[name]\n",
        "    if package_name in globals():\n",
        "        del globals()[package_name]\n",
        "unload_package('metaflow')\n",
        "\n",
        "import requests\n",
        "if tunnel_url is not None:\n",
        "    try:\n",
        "        response = requests.get(f\"{tunnel_url}/service/ping\")\n",
        "        if response.status_code != 200 or response.text != \"pong\":\n",
        "            tunnel_url = input(\"Enter an active tunnel URL:\\n\")\n",
        "        else:\n",
        "            print(tunnel_url)\n",
        "    except:\n",
        "        tunnel_url = input(\"The former endpoint is not reachable. \" +\n",
        "                           \"Enter an active tunnel URL:\\n\")\n",
        "else:\n",
        "    tunnel_url = input(\"Enter an active tunnel URL:\\n\")\n",
        "\n",
        "import os\n",
        "os.environ['METAFLOW_SERVICE_URL'] = f\"{tunnel_url}/service\"\n",
        "os.environ['METAFLOW_DEFAULT_METADATA'] = 'service'\n",
        "os.environ['USERNAME'] = 'user'\n",
        "\n",
        "import metaflow"
      ],
      "metadata": {
        "id": "Rk-X6KpKR3-u"
      },
      "execution_count": null,
      "outputs": []
    },
    {
      "cell_type": "markdown",
      "source": [
        "You can use the Metaflow python SDK as usual and, this will work with your Colab-hosted instance&nbsp;:"
      ],
      "metadata": {
        "id": "TKAClXaES2SN"
      }
    },
    {
      "cell_type": "code",
      "source": [
        "list(metaflow.Flow(\"HelloWorldFlow\").runs())[0:10]"
      ],
      "metadata": {
        "id": "VxPMDNl0S3Vo"
      },
      "execution_count": null,
      "outputs": []
    }
  ]
}